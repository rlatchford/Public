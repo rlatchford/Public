{
 "cells": [
  {
   "cell_type": "code",
   "execution_count": 1,
   "metadata": {},
   "outputs": [],
   "source": [
    "import pandas as pd\n",
    "import numpy as np\n",
    "import matplotlib.pyplot as plt\n",
    "import seaborn as sns\n",
    "import statsmodels.api as sm\n",
    "\n",
    "%matplotlib inline"
   ]
  },
  {
   "cell_type": "code",
   "execution_count": 2,
   "metadata": {},
   "outputs": [],
   "source": [
    "df = pd.read_csv(\"Public_records.csv\", header=0, usecols=[0, 1, 2, 3, 4, 5, 6, 7, 8, 9, 10])"
   ]
  },
  {
   "cell_type": "code",
   "execution_count": 3,
   "metadata": {},
   "outputs": [
    {
     "data": {
      "text/html": [
       "<div>\n",
       "<style scoped>\n",
       "    .dataframe tbody tr th:only-of-type {\n",
       "        vertical-align: middle;\n",
       "    }\n",
       "\n",
       "    .dataframe tbody tr th {\n",
       "        vertical-align: top;\n",
       "    }\n",
       "\n",
       "    .dataframe thead th {\n",
       "        text-align: right;\n",
       "    }\n",
       "</style>\n",
       "<table border=\"1\" class=\"dataframe\">\n",
       "  <thead>\n",
       "    <tr style=\"text-align: right;\">\n",
       "      <th></th>\n",
       "      <th>analytics_matchkey</th>\n",
       "      <th>industry_code_kind_of_business</th>\n",
       "      <th>reporting_subscriber_code</th>\n",
       "      <th>public_record_type_code</th>\n",
       "      <th>effective_date_date_verified</th>\n",
       "      <th>filed_date</th>\n",
       "      <th>paid_date</th>\n",
       "      <th>amount</th>\n",
       "      <th>public_record_source_type_code</th>\n",
       "      <th>equal_credit_opportunity_act_code</th>\n",
       "      <th>legislative_prohibited_code</th>\n",
       "    </tr>\n",
       "  </thead>\n",
       "  <tbody>\n",
       "    <tr>\n",
       "      <th>0</th>\n",
       "      <td>1346747</td>\n",
       "      <td>ZP</td>\n",
       "      <td>99</td>\n",
       "      <td>CJ</td>\n",
       "      <td>2013-06-04</td>\n",
       "      <td>2013-01-29</td>\n",
       "      <td>NaT</td>\n",
       "      <td>1209</td>\n",
       "      <td>CI</td>\n",
       "      <td>I</td>\n",
       "      <td>1</td>\n",
       "    </tr>\n",
       "    <tr>\n",
       "      <th>1</th>\n",
       "      <td>1346748</td>\n",
       "      <td>ZP</td>\n",
       "      <td>485</td>\n",
       "      <td>7X</td>\n",
       "      <td>2014-09-25</td>\n",
       "      <td>2014-05-06</td>\n",
       "      <td>2014-09-24</td>\n",
       "      <td>nan</td>\n",
       "      <td>FE</td>\n",
       "      <td>I</td>\n",
       "      <td>1</td>\n",
       "    </tr>\n",
       "    <tr>\n",
       "      <th>2</th>\n",
       "      <td>1346754</td>\n",
       "      <td>Z</td>\n",
       "      <td>11R</td>\n",
       "      <td>SL</td>\n",
       "      <td>2012-01-24</td>\n",
       "      <td>2011-04-05</td>\n",
       "      <td>NaT</td>\n",
       "      <td>2248</td>\n",
       "      <td>RD</td>\n",
       "      <td>I</td>\n",
       "      <td>1</td>\n",
       "    </tr>\n",
       "    <tr>\n",
       "      <th>3</th>\n",
       "      <td>1346754</td>\n",
       "      <td>ZP</td>\n",
       "      <td>1</td>\n",
       "      <td>7X</td>\n",
       "      <td>2013-01-29</td>\n",
       "      <td>2012-09-28</td>\n",
       "      <td>2013-01-28</td>\n",
       "      <td>nan</td>\n",
       "      <td>FE</td>\n",
       "      <td>C</td>\n",
       "      <td>1</td>\n",
       "    </tr>\n",
       "    <tr>\n",
       "      <th>4</th>\n",
       "      <td>1346756</td>\n",
       "      <td>ZP</td>\n",
       "      <td>1</td>\n",
       "      <td>RL</td>\n",
       "      <td>2014-09-13</td>\n",
       "      <td>2007-02-02</td>\n",
       "      <td>2014-08-01</td>\n",
       "      <td>406</td>\n",
       "      <td>RD</td>\n",
       "      <td>I</td>\n",
       "      <td>1</td>\n",
       "    </tr>\n",
       "  </tbody>\n",
       "</table>\n",
       "</div>"
      ],
      "text/plain": [
       "   analytics_matchkey industry_code_kind_of_business  \\\n",
       "0             1346747                             ZP   \n",
       "1             1346748                             ZP   \n",
       "2             1346754                              Z   \n",
       "3             1346754                             ZP   \n",
       "4             1346756                             ZP   \n",
       "\n",
       "  reporting_subscriber_code public_record_type_code  \\\n",
       "0                        99                      CJ   \n",
       "1                       485                      7X   \n",
       "2                       11R                      SL   \n",
       "3                         1                      7X   \n",
       "4                         1                      RL   \n",
       "\n",
       "  effective_date_date_verified filed_date  paid_date  amount  \\\n",
       "0                   2013-06-04 2013-01-29        NaT    1209   \n",
       "1                   2014-09-25 2014-05-06 2014-09-24     nan   \n",
       "2                   2012-01-24 2011-04-05        NaT    2248   \n",
       "3                   2013-01-29 2012-09-28 2013-01-28     nan   \n",
       "4                   2014-09-13 2007-02-02 2014-08-01     406   \n",
       "\n",
       "  public_record_source_type_code equal_credit_opportunity_act_code  \\\n",
       "0                             CI                                 I   \n",
       "1                             FE                                 I   \n",
       "2                             RD                                 I   \n",
       "3                             FE                                 C   \n",
       "4                             RD                                 I   \n",
       "\n",
       "   legislative_prohibited_code  \n",
       "0                            1  \n",
       "1                            1  \n",
       "2                            1  \n",
       "3                            1  \n",
       "4                            1  "
      ]
     },
     "execution_count": 3,
     "metadata": {},
     "output_type": "execute_result"
    }
   ],
   "source": [
    "pd.options.display.float_format = '{:.0f}'.format\n",
    "df['filed_date'] = pd.to_datetime(df['filed_date'], yearfirst=True, format='%Y%m%d') ## change formats for later analysis\n",
    "df['effective_date_date_verified'] = pd.to_datetime(df['effective_date_date_verified'], yearfirst=True, format='%Y%m%d')\n",
    "df['paid_date'] = pd.to_datetime(df['paid_date'], yearfirst=True, format='%Y%m%d')\n",
    "df.head()"
   ]
  },
  {
   "cell_type": "code",
   "execution_count": 4,
   "metadata": {},
   "outputs": [
    {
     "data": {
      "text/plain": [
       "(218303, 11)"
      ]
     },
     "execution_count": 4,
     "metadata": {},
     "output_type": "execute_result"
    }
   ],
   "source": [
    "df.shape ## 218,303 records total"
   ]
  },
  {
   "cell_type": "code",
   "execution_count": 5,
   "metadata": {},
   "outputs": [
    {
     "data": {
      "text/plain": [
       "134717"
      ]
     },
     "execution_count": 5,
     "metadata": {},
     "output_type": "execute_result"
    }
   ],
   "source": [
    "len(df['analytics_matchkey'].unique()) ## number of unique IDs"
   ]
  },
  {
   "cell_type": "code",
   "execution_count": 6,
   "metadata": {},
   "outputs": [
    {
     "data": {
      "text/plain": [
       "32.8006116525754"
      ]
     },
     "execution_count": 6,
     "metadata": {},
     "output_type": "execute_result"
    }
   ],
   "source": [
    "records_per_matchkey = df.groupby('analytics_matchkey').size().sort_values(ascending=False)\n",
    "more_than_one_record = len(records_per_matchkey[records_per_matchkey > 1])\n",
    "total_unique_IDs = len(df['analytics_matchkey'].unique())\n",
    "more_than_one_record/total_unique_IDs * 100 ## 32% of IDs have more than one record in this time period\n"
   ]
  },
  {
   "cell_type": "code",
   "execution_count": 7,
   "metadata": {},
   "outputs": [
    {
     "data": {
      "text/plain": [
       "analytics_matchkey\n",
       "1452992    87\n",
       "1366619    86\n",
       "1470959    46\n",
       "1976457    41\n",
       "1913669    34\n",
       "1594223    33\n",
       "1439879    31\n",
       "1797022    31\n",
       "1976283    28\n",
       "1378671    27\n",
       "dtype: int64"
      ]
     },
     "execution_count": 7,
     "metadata": {},
     "output_type": "execute_result"
    }
   ],
   "source": [
    "records_per_matchkey.sort_values(ascending=False)[0:10] ## one person has 87 records in this period! Others have >30, etc"
   ]
  },
  {
   "cell_type": "code",
   "execution_count": 8,
   "metadata": {},
   "outputs": [
    {
     "data": {
      "text/plain": [
       "CJ   28\n",
       "7X   23\n",
       "PC   14\n",
       "RL    9\n",
       "SL    7\n",
       "Name: public_record_type_code, dtype: float64"
      ]
     },
     "execution_count": 8,
     "metadata": {},
     "output_type": "execute_result"
    }
   ],
   "source": [
    "record_type_proportions = df['public_record_type_code'].value_counts(normalize=True)*100 \n",
    "## most of records are Civil Judgement \n",
    "record_type_proportions[0:5]"
   ]
  },
  {
   "cell_type": "code",
   "execution_count": 9,
   "metadata": {},
   "outputs": [
    {
     "data": {
      "text/plain": [
       "analytics_matchkey                       0\n",
       "industry_code_kind_of_business           0\n",
       "reporting_subscriber_code                0\n",
       "public_record_type_code                  0\n",
       "effective_date_date_verified           285\n",
       "filed_date                               0\n",
       "paid_date                            88882\n",
       "amount                               61511\n",
       "public_record_source_type_code           1\n",
       "equal_credit_opportunity_act_code        0\n",
       "legislative_prohibited_code              0\n",
       "dtype: int64"
      ]
     },
     "execution_count": 9,
     "metadata": {},
     "output_type": "execute_result"
    }
   ],
   "source": [
    "df.isnull().sum() ## check how many nulls per column"
   ]
  },
  {
   "cell_type": "code",
   "execution_count": 10,
   "metadata": {},
   "outputs": [
    {
     "data": {
      "text/plain": [
       "ZP    198571\n",
       "Z      19732\n",
       "Name: industry_code_kind_of_business, dtype: int64"
      ]
     },
     "execution_count": 10,
     "metadata": {},
     "output_type": "execute_result"
    }
   ],
   "source": [
    "df['industry_code_kind_of_business'].value_counts() ## only two different industry codes in the dataset"
   ]
  },
  {
   "cell_type": "code",
   "execution_count": 11,
   "metadata": {},
   "outputs": [
    {
     "data": {
      "text/plain": [
       "count    156792\n",
       "mean       4617\n",
       "std       41801\n",
       "min           0\n",
       "25%         644\n",
       "50%        1338\n",
       "75%        3174\n",
       "max     9999999\n",
       "Name: amount, dtype: float64"
      ]
     },
     "execution_count": 11,
     "metadata": {},
     "output_type": "execute_result"
    }
   ],
   "source": [
    "df['amount'].describe() \n",
    "## of the rows/records with an amount value, 75% are at or below $3,174. Not sure if 9999999 is a null/missing value or not"
   ]
  },
  {
   "cell_type": "code",
   "execution_count": 12,
   "metadata": {},
   "outputs": [
    {
     "data": {
      "text/plain": [
       "35358    9999999\n",
       "186714   9999999\n",
       "126489   2696174\n",
       "82904    1912871\n",
       "196368   1625836\n",
       "62234    1612991\n",
       "24388    1442092\n",
       "22257    1266928\n",
       "69385    1225919\n",
       "57807    1200089\n",
       "Name: amount, dtype: float64"
      ]
     },
     "execution_count": 12,
     "metadata": {},
     "output_type": "execute_result"
    }
   ],
   "source": [
    "df['amount'].sort_values(ascending=False)[0:10] ## given very high max value for amount, looked at top 10 values"
   ]
  },
  {
   "cell_type": "code",
   "execution_count": 13,
   "metadata": {},
   "outputs": [
    {
     "data": {
      "text/html": [
       "<div>\n",
       "<style scoped>\n",
       "    .dataframe tbody tr th:only-of-type {\n",
       "        vertical-align: middle;\n",
       "    }\n",
       "\n",
       "    .dataframe tbody tr th {\n",
       "        vertical-align: top;\n",
       "    }\n",
       "\n",
       "    .dataframe thead th {\n",
       "        text-align: right;\n",
       "    }\n",
       "</style>\n",
       "<table border=\"1\" class=\"dataframe\">\n",
       "  <thead>\n",
       "    <tr style=\"text-align: right;\">\n",
       "      <th></th>\n",
       "      <th>analytics_matchkey</th>\n",
       "      <th>industry_code_kind_of_business</th>\n",
       "      <th>reporting_subscriber_code</th>\n",
       "      <th>public_record_type_code</th>\n",
       "      <th>effective_date_date_verified</th>\n",
       "      <th>filed_date</th>\n",
       "      <th>paid_date</th>\n",
       "      <th>amount</th>\n",
       "      <th>public_record_source_type_code</th>\n",
       "      <th>equal_credit_opportunity_act_code</th>\n",
       "      <th>legislative_prohibited_code</th>\n",
       "    </tr>\n",
       "  </thead>\n",
       "  <tbody>\n",
       "    <tr>\n",
       "      <th>22257</th>\n",
       "      <td>1412950</td>\n",
       "      <td>ZP</td>\n",
       "      <td>51Z</td>\n",
       "      <td>FT</td>\n",
       "      <td>2014-01-28</td>\n",
       "      <td>2013-12-31</td>\n",
       "      <td>NaT</td>\n",
       "      <td>1266928</td>\n",
       "      <td>RD</td>\n",
       "      <td>C</td>\n",
       "      <td>1</td>\n",
       "    </tr>\n",
       "    <tr>\n",
       "      <th>24388</th>\n",
       "      <td>1419201</td>\n",
       "      <td>ZP</td>\n",
       "      <td>314</td>\n",
       "      <td>FT</td>\n",
       "      <td>2010-04-20</td>\n",
       "      <td>2010-04-16</td>\n",
       "      <td>NaT</td>\n",
       "      <td>1442092</td>\n",
       "      <td>RD</td>\n",
       "      <td>I</td>\n",
       "      <td>1</td>\n",
       "    </tr>\n",
       "    <tr>\n",
       "      <th>35358</th>\n",
       "      <td>1451690</td>\n",
       "      <td>Z</td>\n",
       "      <td>11J</td>\n",
       "      <td>PF</td>\n",
       "      <td>2012-03-06</td>\n",
       "      <td>2009-09-24</td>\n",
       "      <td>2012-02-28</td>\n",
       "      <td>9999999</td>\n",
       "      <td>RD</td>\n",
       "      <td>I</td>\n",
       "      <td>1</td>\n",
       "    </tr>\n",
       "    <tr>\n",
       "      <th>57807</th>\n",
       "      <td>1518167</td>\n",
       "      <td>Z</td>\n",
       "      <td>19H</td>\n",
       "      <td>PF</td>\n",
       "      <td>2014-03-04</td>\n",
       "      <td>2007-02-09</td>\n",
       "      <td>2013-12-31</td>\n",
       "      <td>1200089</td>\n",
       "      <td>RD</td>\n",
       "      <td>I</td>\n",
       "      <td>1</td>\n",
       "    </tr>\n",
       "    <tr>\n",
       "      <th>62234</th>\n",
       "      <td>1530725</td>\n",
       "      <td>ZP</td>\n",
       "      <td>847</td>\n",
       "      <td>CJ</td>\n",
       "      <td>2013-05-22</td>\n",
       "      <td>2013-04-01</td>\n",
       "      <td>NaT</td>\n",
       "      <td>1612991</td>\n",
       "      <td>CI</td>\n",
       "      <td>I</td>\n",
       "      <td>1</td>\n",
       "    </tr>\n",
       "    <tr>\n",
       "      <th>62508</th>\n",
       "      <td>1531613</td>\n",
       "      <td>Z</td>\n",
       "      <td>19H</td>\n",
       "      <td>PF</td>\n",
       "      <td>2014-01-08</td>\n",
       "      <td>2007-02-09</td>\n",
       "      <td>2013-11-27</td>\n",
       "      <td>1200089</td>\n",
       "      <td>RD</td>\n",
       "      <td>I</td>\n",
       "      <td>1</td>\n",
       "    </tr>\n",
       "    <tr>\n",
       "      <th>69385</th>\n",
       "      <td>1551568</td>\n",
       "      <td>Z</td>\n",
       "      <td>130</td>\n",
       "      <td>CJ</td>\n",
       "      <td>2011-07-13</td>\n",
       "      <td>2010-02-05</td>\n",
       "      <td>NaT</td>\n",
       "      <td>1225919</td>\n",
       "      <td>CI</td>\n",
       "      <td>I</td>\n",
       "      <td>1</td>\n",
       "    </tr>\n",
       "    <tr>\n",
       "      <th>82904</th>\n",
       "      <td>1591558</td>\n",
       "      <td>ZP</td>\n",
       "      <td>447</td>\n",
       "      <td>PF</td>\n",
       "      <td>2007-04-11</td>\n",
       "      <td>2007-04-11</td>\n",
       "      <td>2010-07-01</td>\n",
       "      <td>1912871</td>\n",
       "      <td>RD</td>\n",
       "      <td>I</td>\n",
       "      <td>1</td>\n",
       "    </tr>\n",
       "    <tr>\n",
       "      <th>126489</th>\n",
       "      <td>1721497</td>\n",
       "      <td>ZP</td>\n",
       "      <td>365</td>\n",
       "      <td>RL</td>\n",
       "      <td>2010-10-13</td>\n",
       "      <td>2008-07-16</td>\n",
       "      <td>2010-09-02</td>\n",
       "      <td>2696174</td>\n",
       "      <td>RD</td>\n",
       "      <td>I</td>\n",
       "      <td>1</td>\n",
       "    </tr>\n",
       "    <tr>\n",
       "      <th>186714</th>\n",
       "      <td>1898185</td>\n",
       "      <td>ZP</td>\n",
       "      <td>141</td>\n",
       "      <td>RL</td>\n",
       "      <td>2010-07-09</td>\n",
       "      <td>2009-12-28</td>\n",
       "      <td>2010-06-25</td>\n",
       "      <td>9999999</td>\n",
       "      <td>RD</td>\n",
       "      <td>I</td>\n",
       "      <td>1</td>\n",
       "    </tr>\n",
       "    <tr>\n",
       "      <th>196368</th>\n",
       "      <td>1926409</td>\n",
       "      <td>ZP</td>\n",
       "      <td>430</td>\n",
       "      <td>FT</td>\n",
       "      <td>2015-03-31</td>\n",
       "      <td>2014-10-27</td>\n",
       "      <td>NaT</td>\n",
       "      <td>1625836</td>\n",
       "      <td>RD</td>\n",
       "      <td>I</td>\n",
       "      <td>1</td>\n",
       "    </tr>\n",
       "  </tbody>\n",
       "</table>\n",
       "</div>"
      ],
      "text/plain": [
       "        analytics_matchkey industry_code_kind_of_business  \\\n",
       "22257              1412950                             ZP   \n",
       "24388              1419201                             ZP   \n",
       "35358              1451690                              Z   \n",
       "57807              1518167                              Z   \n",
       "62234              1530725                             ZP   \n",
       "62508              1531613                              Z   \n",
       "69385              1551568                              Z   \n",
       "82904              1591558                             ZP   \n",
       "126489             1721497                             ZP   \n",
       "186714             1898185                             ZP   \n",
       "196368             1926409                             ZP   \n",
       "\n",
       "       reporting_subscriber_code public_record_type_code  \\\n",
       "22257                        51Z                      FT   \n",
       "24388                        314                      FT   \n",
       "35358                        11J                      PF   \n",
       "57807                        19H                      PF   \n",
       "62234                        847                      CJ   \n",
       "62508                        19H                      PF   \n",
       "69385                        130                      CJ   \n",
       "82904                        447                      PF   \n",
       "126489                       365                      RL   \n",
       "186714                       141                      RL   \n",
       "196368                       430                      FT   \n",
       "\n",
       "       effective_date_date_verified filed_date  paid_date  amount  \\\n",
       "22257                    2014-01-28 2013-12-31        NaT 1266928   \n",
       "24388                    2010-04-20 2010-04-16        NaT 1442092   \n",
       "35358                    2012-03-06 2009-09-24 2012-02-28 9999999   \n",
       "57807                    2014-03-04 2007-02-09 2013-12-31 1200089   \n",
       "62234                    2013-05-22 2013-04-01        NaT 1612991   \n",
       "62508                    2014-01-08 2007-02-09 2013-11-27 1200089   \n",
       "69385                    2011-07-13 2010-02-05        NaT 1225919   \n",
       "82904                    2007-04-11 2007-04-11 2010-07-01 1912871   \n",
       "126489                   2010-10-13 2008-07-16 2010-09-02 2696174   \n",
       "186714                   2010-07-09 2009-12-28 2010-06-25 9999999   \n",
       "196368                   2015-03-31 2014-10-27        NaT 1625836   \n",
       "\n",
       "       public_record_source_type_code equal_credit_opportunity_act_code  \\\n",
       "22257                              RD                                 C   \n",
       "24388                              RD                                 I   \n",
       "35358                              RD                                 I   \n",
       "57807                              RD                                 I   \n",
       "62234                              CI                                 I   \n",
       "62508                              RD                                 I   \n",
       "69385                              CI                                 I   \n",
       "82904                              RD                                 I   \n",
       "126489                             RD                                 I   \n",
       "186714                             RD                                 I   \n",
       "196368                             RD                                 I   \n",
       "\n",
       "        legislative_prohibited_code  \n",
       "22257                             1  \n",
       "24388                             1  \n",
       "35358                             1  \n",
       "57807                             1  \n",
       "62234                             1  \n",
       "62508                             1  \n",
       "69385                             1  \n",
       "82904                             1  \n",
       "126489                            1  \n",
       "186714                            1  \n",
       "196368                            1  "
      ]
     },
     "execution_count": 13,
     "metadata": {},
     "output_type": "execute_result"
    }
   ],
   "source": [
    "df[df['amount'] >= 1200089] ## most of the top 10 highest amounts were of Recorder of Deeds source type code"
   ]
  },
  {
   "cell_type": "code",
   "execution_count": 14,
   "metadata": {},
   "outputs": [],
   "source": [
    "df_not_paid = df[df['paid_date'].isna()]"
   ]
  },
  {
   "cell_type": "code",
   "execution_count": 15,
   "metadata": {},
   "outputs": [
    {
     "data": {
      "text/plain": [
       "40.71496956065651"
      ]
     },
     "execution_count": 15,
     "metadata": {},
     "output_type": "execute_result"
    }
   ],
   "source": [
    "df_not_paid.shape[0]/df.shape[0] * 100  ## ~40.7 percent of records are unpaid or at least have a missing paid date value"
   ]
  },
  {
   "cell_type": "code",
   "execution_count": 16,
   "metadata": {},
   "outputs": [
    {
     "data": {
      "text/plain": [
       "7X    49841\n",
       "PC    30449\n",
       "RL    20099\n",
       "CB    10240\n",
       "PL     6172\n",
       "Name: public_record_type_code, dtype: int64"
      ]
     },
     "execution_count": 16,
     "metadata": {},
     "output_type": "execute_result"
    }
   ],
   "source": [
    "df_paid = df[df['paid_date'].notna()] ## keeping these two dataframes for later investigation\n",
    "df_paid['public_record_type_code'].value_counts()[0:5] ## of records that were paid, most are of type 7X followed by PC"
   ]
  },
  {
   "cell_type": "code",
   "execution_count": 17,
   "metadata": {},
   "outputs": [
    {
     "data": {
      "text/html": [
       "<div>\n",
       "<style scoped>\n",
       "    .dataframe tbody tr th:only-of-type {\n",
       "        vertical-align: middle;\n",
       "    }\n",
       "\n",
       "    .dataframe tbody tr th {\n",
       "        vertical-align: top;\n",
       "    }\n",
       "\n",
       "    .dataframe thead th {\n",
       "        text-align: right;\n",
       "    }\n",
       "</style>\n",
       "<table border=\"1\" class=\"dataframe\">\n",
       "  <thead>\n",
       "    <tr style=\"text-align: right;\">\n",
       "      <th></th>\n",
       "      <th>analytics_matchkey</th>\n",
       "      <th>industry_code_kind_of_business</th>\n",
       "      <th>reporting_subscriber_code</th>\n",
       "      <th>public_record_type_code</th>\n",
       "      <th>effective_date_date_verified</th>\n",
       "      <th>filed_date</th>\n",
       "      <th>paid_date</th>\n",
       "      <th>amount</th>\n",
       "      <th>public_record_source_type_code</th>\n",
       "      <th>equal_credit_opportunity_act_code</th>\n",
       "      <th>legislative_prohibited_code</th>\n",
       "    </tr>\n",
       "  </thead>\n",
       "  <tbody>\n",
       "    <tr>\n",
       "      <th>1</th>\n",
       "      <td>1346748</td>\n",
       "      <td>ZP</td>\n",
       "      <td>485</td>\n",
       "      <td>7X</td>\n",
       "      <td>2014-09-25</td>\n",
       "      <td>2014-05-06</td>\n",
       "      <td>2014-09-24</td>\n",
       "      <td>nan</td>\n",
       "      <td>FE</td>\n",
       "      <td>I</td>\n",
       "      <td>1</td>\n",
       "    </tr>\n",
       "    <tr>\n",
       "      <th>3</th>\n",
       "      <td>1346754</td>\n",
       "      <td>ZP</td>\n",
       "      <td>1</td>\n",
       "      <td>7X</td>\n",
       "      <td>2013-01-29</td>\n",
       "      <td>2012-09-28</td>\n",
       "      <td>2013-01-28</td>\n",
       "      <td>nan</td>\n",
       "      <td>FE</td>\n",
       "      <td>C</td>\n",
       "      <td>1</td>\n",
       "    </tr>\n",
       "    <tr>\n",
       "      <th>9</th>\n",
       "      <td>1346767</td>\n",
       "      <td>ZP</td>\n",
       "      <td>120</td>\n",
       "      <td>7X</td>\n",
       "      <td>2010-08-12</td>\n",
       "      <td>2010-04-18</td>\n",
       "      <td>2010-08-11</td>\n",
       "      <td>nan</td>\n",
       "      <td>FE</td>\n",
       "      <td>C</td>\n",
       "      <td>1</td>\n",
       "    </tr>\n",
       "    <tr>\n",
       "      <th>14</th>\n",
       "      <td>1346786</td>\n",
       "      <td>ZP</td>\n",
       "      <td>35K</td>\n",
       "      <td>7X</td>\n",
       "      <td>2010-11-27</td>\n",
       "      <td>2010-07-29</td>\n",
       "      <td>2010-11-23</td>\n",
       "      <td>nan</td>\n",
       "      <td>FE</td>\n",
       "      <td>I</td>\n",
       "      <td>1</td>\n",
       "    </tr>\n",
       "    <tr>\n",
       "      <th>16</th>\n",
       "      <td>1346816</td>\n",
       "      <td>ZP</td>\n",
       "      <td>700</td>\n",
       "      <td>7X</td>\n",
       "      <td>2015-09-01</td>\n",
       "      <td>2015-05-13</td>\n",
       "      <td>2015-08-31</td>\n",
       "      <td>nan</td>\n",
       "      <td>FE</td>\n",
       "      <td>I</td>\n",
       "      <td>1</td>\n",
       "    </tr>\n",
       "  </tbody>\n",
       "</table>\n",
       "</div>"
      ],
      "text/plain": [
       "    analytics_matchkey industry_code_kind_of_business  \\\n",
       "1              1346748                             ZP   \n",
       "3              1346754                             ZP   \n",
       "9              1346767                             ZP   \n",
       "14             1346786                             ZP   \n",
       "16             1346816                             ZP   \n",
       "\n",
       "   reporting_subscriber_code public_record_type_code  \\\n",
       "1                        485                      7X   \n",
       "3                          1                      7X   \n",
       "9                        120                      7X   \n",
       "14                       35K                      7X   \n",
       "16                       700                      7X   \n",
       "\n",
       "   effective_date_date_verified filed_date  paid_date  amount  \\\n",
       "1                    2014-09-25 2014-05-06 2014-09-24     nan   \n",
       "3                    2013-01-29 2012-09-28 2013-01-28     nan   \n",
       "9                    2010-08-12 2010-04-18 2010-08-11     nan   \n",
       "14                   2010-11-27 2010-07-29 2010-11-23     nan   \n",
       "16                   2015-09-01 2015-05-13 2015-08-31     nan   \n",
       "\n",
       "   public_record_source_type_code equal_credit_opportunity_act_code  \\\n",
       "1                              FE                                 I   \n",
       "3                              FE                                 C   \n",
       "9                              FE                                 C   \n",
       "14                             FE                                 I   \n",
       "16                             FE                                 I   \n",
       "\n",
       "    legislative_prohibited_code  \n",
       "1                             1  \n",
       "3                             1  \n",
       "9                             1  \n",
       "14                            1  \n",
       "16                            1  "
      ]
     },
     "execution_count": 17,
     "metadata": {},
     "output_type": "execute_result"
    }
   ],
   "source": [
    "df_paid[df_paid['public_record_type_code'] == '7X'].head() ## missing amounts for record type 7X"
   ]
  },
  {
   "cell_type": "code",
   "execution_count": 18,
   "metadata": {},
   "outputs": [
    {
     "data": {
      "text/plain": [
       "CI   45\n",
       "FE   27\n",
       "RD   25\n",
       "MU    2\n",
       "BK    1\n",
       "Name: public_record_source_type_code, dtype: float64"
      ]
     },
     "execution_count": 18,
     "metadata": {},
     "output_type": "execute_result"
    }
   ],
   "source": [
    "df['public_record_source_type_code'].value_counts(normalize=True)[0:5]*100 \n",
    "##  most records are from Circuit Court, followed by Federal District"
   ]
  },
  {
   "cell_type": "code",
   "execution_count": 19,
   "metadata": {},
   "outputs": [
    {
     "name": "stderr",
     "output_type": "stream",
     "text": [
      "c:\\users\\roblatch\\desktop\\python35\\lib\\site-packages\\numpy\\lib\\histograms.py:824: RuntimeWarning: invalid value encountered in greater_equal\n",
      "  keep = (tmp_a >= first_edge)\n",
      "c:\\users\\roblatch\\desktop\\python35\\lib\\site-packages\\numpy\\lib\\histograms.py:825: RuntimeWarning: invalid value encountered in less_equal\n",
      "  keep &= (tmp_a <= last_edge)\n"
     ]
    },
    {
     "data": {
      "image/png": "[encoded data removed]",
      "text/plain": [
       "<Figure size 432x288 with 1 Axes>"
      ]
     },
     "metadata": {
      "needs_background": "light"
     },
     "output_type": "display_data"
    }
   ],
   "source": [
    "plt.title(\"Distribution of Amounts\") ### to see the shape of the distribution of paid amounts, which has a long right tail. \n",
    "plt.ylabel(\"Count\")\n",
    "plt.xlabel(\"Amount\")\n",
    "plt.hist(df['amount'], range=(df['amount'].min(), 6000), bins=25); "
   ]
  },
  {
   "cell_type": "code",
   "execution_count": 20,
   "metadata": {},
   "outputs": [
    {
     "data": {
      "image/png": "[encoded data removed]",
      "text/plain": [
       "<Figure size 432x288 with 1 Axes>"
      ]
     },
     "metadata": {
      "needs_background": "light"
     },
     "output_type": "display_data"
    }
   ],
   "source": [
    "plt.title(\"Distribution of Amounts\")\n",
    "plt.ylabel(\"Count\")\n",
    "plt.xlabel(\"Amount\")\n",
    "plt.hist(df['amount'], range=(df['amount'].min(), 50000), bins=25); ## another view of the amount distribution"
   ]
  },
  {
   "cell_type": "code",
   "execution_count": 21,
   "metadata": {},
   "outputs": [
    {
     "data": {
      "text/plain": [
       "7.840323485892137"
      ]
     },
     "execution_count": 21,
     "metadata": {},
     "output_type": "execute_result"
    }
   ],
   "source": [
    "df_amount_not_null = df[df['amount'].notna()]\n",
    "df_amount_not_null[df_amount_not_null['amount'] > 10000].shape[0] / df_amount_not_null.shape[0] * 100 \n",
    "# only ~8% of amounts are greater than $10,000, but they have a large range"
   ]
  },
  {
   "cell_type": "code",
   "execution_count": 22,
   "metadata": {},
   "outputs": [
    {
     "data": {
      "image/png": "[encoded data removed]",
      "text/plain": [
       "<Figure size 360x360 with 1 Axes>"
      ]
     },
     "metadata": {
      "needs_background": "light"
     },
     "output_type": "display_data"
    }
   ],
   "source": [
    "df_top_3_record_code = df[(df['public_record_type_code'] == '7X')| (df['public_record_type_code'] == 'PC') | (df['public_record_type_code'] == 'RL') | (df['public_record_type_code'] == 'CB')]\n",
    "df_top_3_record_code = df_top_3_record_code[df_top_3_record_code['amount'] < 10000]\n",
    "sns.catplot(x='public_record_type_code', y='amount', kind=\"box\", data=df_top_3_record_code); \n",
    "## CB has the highest mean amount and the largest IQR, while both RL and PC have VERY long right tails"
   ]
  },
  {
   "cell_type": "code",
   "execution_count": 23,
   "metadata": {},
   "outputs": [
    {
     "data": {
      "image/png": "[encoded data removed]",
      "text/plain": [
       "<Figure size 360x360 with 1 Axes>"
      ]
     },
     "metadata": {
      "needs_background": "light"
     },
     "output_type": "display_data"
    }
   ],
   "source": [
    "df_top_3_source_code = df[(df['public_record_source_type_code'] == 'CI')| (df['public_record_source_type_code'] == 'FE') | (df['public_record_source_type_code'] == 'RD') | (df['public_record_source_type_code'] == 'MU')]\n",
    "df_top_3_source_code = df_top_3_source_code[df_top_3_source_code['amount'] < 10000]\n",
    "sns.catplot(x='public_record_source_type_code', y='amount', kind=\"box\", data=df_top_3_source_code); \n",
    "## Municipal Court does have a noticeably higher mean amount value compared to Circuit Court and Recorder of Deeds"
   ]
  },
  {
   "cell_type": "code",
   "execution_count": 24,
   "metadata": {},
   "outputs": [
    {
     "data": {
      "text/plain": [
       "FT    347\n",
       "PF    113\n",
       "CJ     68\n",
       "CB     32\n",
       "SL     24\n",
       "RL     12\n",
       "PC     11\n",
       "PL      2\n",
       "Name: public_record_type_code, dtype: int64"
      ]
     },
     "execution_count": 24,
     "metadata": {},
     "output_type": "execute_result"
    }
   ],
   "source": [
    "df_100000 = df[df['amount'] > 100000]\n",
    "df_100000['public_record_type_code'].value_counts() \n",
    "## majority of amounts over 100,000 are Federal Tax Lien record type"
   ]
  },
  {
   "cell_type": "code",
   "execution_count": 25,
   "metadata": {},
   "outputs": [
    {
     "data": {
      "text/plain": [
       "RD    501\n",
       "CI     93\n",
       "SU      7\n",
       "CR      5\n",
       "CC      3\n",
       "Name: public_record_source_type_code, dtype: int64"
      ]
     },
     "execution_count": 25,
     "metadata": {},
     "output_type": "execute_result"
    }
   ],
   "source": [
    "df_100000['public_record_source_type_code'].value_counts() \n",
    "## majority of amounts over 100,000 are recorder of deeds source type"
   ]
  },
  {
   "cell_type": "code",
   "execution_count": 26,
   "metadata": {},
   "outputs": [
    {
     "name": "stdout",
     "output_type": "stream",
     "text": [
      "2006-04-06 00:00:00\n",
      "2006-11-29 00:00:00\n",
      "2007-01-19 00:00:00\n",
      "2016-09-27 00:00:00\n",
      "2016-09-28 00:00:00\n",
      "2016-09-29 00:00:00\n"
     ]
    }
   ],
   "source": [
    "df['month'] = df['filed_date'].dt.month ## processing date values for aggregate analysis\n",
    "df['year'] = df['filed_date'].dt.year\n",
    "df.month = df.month.astype(str)\n",
    "df.year = df.year.astype(str)\n",
    "df['month_year'] = df['month'] + \"_\" + df['year']\n",
    "print(df['filed_date'].min())\n",
    "print(df['paid_date'].min())\n",
    "print(df['effective_date_date_verified'].min())\n",
    "print(df['filed_date'].max()) \n",
    "print(df['paid_date'].max())\n",
    "print(df['effective_date_date_verified'].max())\n",
    "## the time series spans from 04/06/2006 until 09/29/2016"
   ]
  },
  {
   "cell_type": "code",
   "execution_count": 73,
   "metadata": {},
   "outputs": [
    {
     "data": {
      "text/plain": [
       "year\n",
       "2006      866\n",
       "2007     5236\n",
       "2008     7694\n",
       "2009    15983\n",
       "2010    37974\n",
       "2011    34522\n",
       "2012    31351\n",
       "2013    27151\n",
       "2014    25156\n",
       "2015    20649\n",
       "2016    11721\n",
       "dtype: int64"
      ]
     },
     "execution_count": 73,
     "metadata": {},
     "output_type": "execute_result"
    }
   ],
   "source": [
    "records_per_year = df.groupby('year').size() ## total records per year\n",
    "records_per_year"
   ]
  },
  {
   "cell_type": "code",
   "execution_count": 28,
   "metadata": {},
   "outputs": [
    {
     "data": {
      "image/png": "[encoded data removed]",
      "text/plain": [
       "<Figure size 288x288 with 1 Axes>"
      ]
     },
     "metadata": {
      "needs_background": "light"
     },
     "output_type": "display_data"
    }
   ],
   "source": [
    "years = ['2006', '2007', '2008', '2009', '2010', '2011', '2012', '2013', '2014', '2015', '2016']\n",
    "plt.figure(figsize=(4,4))\n",
    "\n",
    "fig = records_per_year.plot(kind='bar')\n",
    "fig.set_title(\"Total Records Filed per Year\")\n",
    "fig.set_ylabel('Count') \n",
    "fig.set_xticklabels(years); \n",
    "## looked at total records per year across entire Time Series. Most are in 2010, followed by 2011\n",
    "## Given that our dataset only begins in october 2006, makes sense that 2006 would be very small in comparison\n",
    "## Given that our dataset ends in 9-2016, makes sense that there would be a drop from 2015 to 2016"
   ]
  },
  {
   "cell_type": "code",
   "execution_count": 29,
   "metadata": {},
   "outputs": [
    {
     "data": {
      "text/html": [
       "<div>\n",
       "<style scoped>\n",
       "    .dataframe tbody tr th:only-of-type {\n",
       "        vertical-align: middle;\n",
       "    }\n",
       "\n",
       "    .dataframe tbody tr th {\n",
       "        vertical-align: top;\n",
       "    }\n",
       "\n",
       "    .dataframe thead th {\n",
       "        text-align: right;\n",
       "    }\n",
       "</style>\n",
       "<table border=\"1\" class=\"dataframe\">\n",
       "  <thead>\n",
       "    <tr style=\"text-align: right;\">\n",
       "      <th></th>\n",
       "      <th>month_year</th>\n",
       "      <th>Total_Records</th>\n",
       "      <th>month</th>\n",
       "      <th>year</th>\n",
       "      <th>year_month_adj</th>\n",
       "    </tr>\n",
       "  </thead>\n",
       "  <tbody>\n",
       "    <tr>\n",
       "      <th>0</th>\n",
       "      <td>10_2006</td>\n",
       "      <td>79</td>\n",
       "      <td>10</td>\n",
       "      <td>2006</td>\n",
       "      <td>200610</td>\n",
       "    </tr>\n",
       "    <tr>\n",
       "      <th>10</th>\n",
       "      <td>11_2006</td>\n",
       "      <td>422</td>\n",
       "      <td>11</td>\n",
       "      <td>2006</td>\n",
       "      <td>200611</td>\n",
       "    </tr>\n",
       "    <tr>\n",
       "      <th>20</th>\n",
       "      <td>12_2006</td>\n",
       "      <td>363</td>\n",
       "      <td>12</td>\n",
       "      <td>2006</td>\n",
       "      <td>200612</td>\n",
       "    </tr>\n",
       "    <tr>\n",
       "      <th>30</th>\n",
       "      <td>1_2007</td>\n",
       "      <td>329</td>\n",
       "      <td>01</td>\n",
       "      <td>2007</td>\n",
       "      <td>200701</td>\n",
       "    </tr>\n",
       "    <tr>\n",
       "      <th>40</th>\n",
       "      <td>2_2007</td>\n",
       "      <td>352</td>\n",
       "      <td>02</td>\n",
       "      <td>2007</td>\n",
       "      <td>200702</td>\n",
       "    </tr>\n",
       "  </tbody>\n",
       "</table>\n",
       "</div>"
      ],
      "text/plain": [
       "   month_year  Total_Records month  year year_month_adj\n",
       "0     10_2006             79    10  2006         200610\n",
       "10    11_2006            422    11  2006         200611\n",
       "20    12_2006            363    12  2006         200612\n",
       "30     1_2007            329    01  2007         200701\n",
       "40     2_2007            352    02  2007         200702"
      ]
     },
     "execution_count": 29,
     "metadata": {},
     "output_type": "execute_result"
    }
   ],
   "source": [
    "## Use month_year to find average amount of records for each month\n",
    "month_year_totals = df.groupby('month_year').size()\n",
    "month_year_totals = month_year_totals.to_frame()\n",
    "\n",
    "month_year_totals = month_year_totals.rename(columns={0:'Total_Records'})\n",
    "month_year_totals.reset_index(inplace=True)\n",
    "month_year_totals[['month','year']] = month_year_totals.month_year.str.split(\"_\", expand=True)\n",
    "month_year_totals['month']=month_year_totals['month'].apply(lambda x: '{0:0>2}'.format(x))\n",
    "month_year_totals['year_month_adj'] = month_year_totals['year'] + month_year_totals['month']\n",
    "month_year_totals['year_month_adj'] = month_year_totals['year_month_adj'].astype(str)\n",
    "\n",
    "month_year_totals = month_year_totals.sort_values(by=['year', 'month'], ascending=True)\n",
    "month_year_totals = month_year_totals.drop(month_year_totals.index[[0,1]])\n",
    "month_year_totals.head()\n"
   ]
  },
  {
   "cell_type": "code",
   "execution_count": 30,
   "metadata": {},
   "outputs": [
    {
     "data": {
      "text/html": [
       "<div>\n",
       "<style scoped>\n",
       "    .dataframe tbody tr th:only-of-type {\n",
       "        vertical-align: middle;\n",
       "    }\n",
       "\n",
       "    .dataframe tbody tr th {\n",
       "        vertical-align: top;\n",
       "    }\n",
       "\n",
       "    .dataframe thead th {\n",
       "        text-align: right;\n",
       "    }\n",
       "</style>\n",
       "<table border=\"1\" class=\"dataframe\">\n",
       "  <thead>\n",
       "    <tr style=\"text-align: right;\">\n",
       "      <th></th>\n",
       "      <th>month</th>\n",
       "      <th>Total_Records</th>\n",
       "    </tr>\n",
       "  </thead>\n",
       "  <tbody>\n",
       "    <tr>\n",
       "      <th>0</th>\n",
       "      <td>1</td>\n",
       "      <td>1798</td>\n",
       "    </tr>\n",
       "    <tr>\n",
       "      <th>1</th>\n",
       "      <td>2</td>\n",
       "      <td>1759</td>\n",
       "    </tr>\n",
       "    <tr>\n",
       "      <th>2</th>\n",
       "      <td>3</td>\n",
       "      <td>2004</td>\n",
       "    </tr>\n",
       "    <tr>\n",
       "      <th>3</th>\n",
       "      <td>4</td>\n",
       "      <td>1885</td>\n",
       "    </tr>\n",
       "    <tr>\n",
       "      <th>4</th>\n",
       "      <td>5</td>\n",
       "      <td>1726</td>\n",
       "    </tr>\n",
       "  </tbody>\n",
       "</table>\n",
       "</div>"
      ],
      "text/plain": [
       "   month  Total_Records\n",
       "0      1           1798\n",
       "1      2           1759\n",
       "2      3           2004\n",
       "3      4           1885\n",
       "4      5           1726"
      ]
     },
     "execution_count": 30,
     "metadata": {},
     "output_type": "execute_result"
    }
   ],
   "source": [
    "month_averages = month_year_totals.groupby('month').mean()\n",
    "month_averages = month_averages.reset_index()\n",
    "month_averages['month'] = month_averages['month'].astype(int)\n",
    "month_averages = month_averages.sort_values(by=\"month\") ## to make sure data is in correct order\n",
    "month_averages.head()"
   ]
  },
  {
   "cell_type": "code",
   "execution_count": 31,
   "metadata": {},
   "outputs": [
    {
     "data": {
      "image/png": "[encoded data removed]",
      "text/plain": [
       "<Figure size 360x288 with 1 Axes>"
      ]
     },
     "metadata": {
      "needs_background": "light"
     },
     "output_type": "display_data"
    }
   ],
   "source": [
    "months = ['Jan', 'Feb', 'Mar', 'Apr', 'May', 'Jun', 'Jul', 'Aug', 'Sep', 'Oct', 'Nov', 'Dec']\n",
    "plt.figure(figsize=(5,4))\n",
    "\n",
    "fig = month_averages['Total_Records'].plot(kind='bar')\n",
    "fig.set_title(\"Average Records Filed per Month\")\n",
    "fig.set_ylabel('Average')\n",
    "fig.set_xticklabels(months); ## looked at average records filed per month across all years of Time Series. \n",
    " ## On average, March had the highest amount of records filed"
   ]
  },
  {
   "cell_type": "code",
   "execution_count": 32,
   "metadata": {},
   "outputs": [
    {
     "name": "stderr",
     "output_type": "stream",
     "text": [
      "c:\\users\\roblatch\\desktop\\python35\\lib\\site-packages\\ipykernel_launcher.py:1: SettingWithCopyWarning: \n",
      "A value is trying to be set on a copy of a slice from a DataFrame.\n",
      "Try using .loc[row_indexer,col_indexer] = value instead\n",
      "\n",
      "See the caveats in the documentation: http://pandas.pydata.org/pandas-docs/stable/user_guide/indexing.html#returning-a-view-versus-a-copy\n",
      "  \"\"\"Entry point for launching an IPython kernel.\n"
     ]
    },
    {
     "data": {
      "text/html": [
       "<div>\n",
       "<style scoped>\n",
       "    .dataframe tbody tr th:only-of-type {\n",
       "        vertical-align: middle;\n",
       "    }\n",
       "\n",
       "    .dataframe tbody tr th {\n",
       "        vertical-align: top;\n",
       "    }\n",
       "\n",
       "    .dataframe thead th {\n",
       "        text-align: right;\n",
       "    }\n",
       "</style>\n",
       "<table border=\"1\" class=\"dataframe\">\n",
       "  <thead>\n",
       "    <tr style=\"text-align: right;\">\n",
       "      <th></th>\n",
       "      <th>analytics_matchkey</th>\n",
       "      <th>industry_code_kind_of_business</th>\n",
       "      <th>reporting_subscriber_code</th>\n",
       "      <th>public_record_type_code</th>\n",
       "      <th>effective_date_date_verified</th>\n",
       "      <th>filed_date</th>\n",
       "      <th>paid_date</th>\n",
       "      <th>amount</th>\n",
       "      <th>public_record_source_type_code</th>\n",
       "      <th>equal_credit_opportunity_act_code</th>\n",
       "      <th>legislative_prohibited_code</th>\n",
       "      <th>Filed_to_Paid</th>\n",
       "    </tr>\n",
       "  </thead>\n",
       "  <tbody>\n",
       "    <tr>\n",
       "      <th>1</th>\n",
       "      <td>1346748</td>\n",
       "      <td>ZP</td>\n",
       "      <td>485</td>\n",
       "      <td>7X</td>\n",
       "      <td>2014-09-25</td>\n",
       "      <td>2014-05-06</td>\n",
       "      <td>2014-09-24</td>\n",
       "      <td>nan</td>\n",
       "      <td>FE</td>\n",
       "      <td>I</td>\n",
       "      <td>1</td>\n",
       "      <td>141 days</td>\n",
       "    </tr>\n",
       "    <tr>\n",
       "      <th>3</th>\n",
       "      <td>1346754</td>\n",
       "      <td>ZP</td>\n",
       "      <td>1</td>\n",
       "      <td>7X</td>\n",
       "      <td>2013-01-29</td>\n",
       "      <td>2012-09-28</td>\n",
       "      <td>2013-01-28</td>\n",
       "      <td>nan</td>\n",
       "      <td>FE</td>\n",
       "      <td>C</td>\n",
       "      <td>1</td>\n",
       "      <td>122 days</td>\n",
       "    </tr>\n",
       "    <tr>\n",
       "      <th>4</th>\n",
       "      <td>1346756</td>\n",
       "      <td>ZP</td>\n",
       "      <td>1</td>\n",
       "      <td>RL</td>\n",
       "      <td>2014-09-13</td>\n",
       "      <td>2007-02-02</td>\n",
       "      <td>2014-08-01</td>\n",
       "      <td>406</td>\n",
       "      <td>RD</td>\n",
       "      <td>I</td>\n",
       "      <td>1</td>\n",
       "      <td>2737 days</td>\n",
       "    </tr>\n",
       "    <tr>\n",
       "      <th>5</th>\n",
       "      <td>1346756</td>\n",
       "      <td>ZP</td>\n",
       "      <td>1</td>\n",
       "      <td>RL</td>\n",
       "      <td>2014-09-13</td>\n",
       "      <td>2008-03-12</td>\n",
       "      <td>2014-08-01</td>\n",
       "      <td>925</td>\n",
       "      <td>RD</td>\n",
       "      <td>I</td>\n",
       "      <td>1</td>\n",
       "      <td>2333 days</td>\n",
       "    </tr>\n",
       "    <tr>\n",
       "      <th>6</th>\n",
       "      <td>1346758</td>\n",
       "      <td>ZP</td>\n",
       "      <td>25N</td>\n",
       "      <td>PF</td>\n",
       "      <td>2016-01-22</td>\n",
       "      <td>2008-03-10</td>\n",
       "      <td>2013-05-23</td>\n",
       "      <td>32583</td>\n",
       "      <td>RD</td>\n",
       "      <td>I</td>\n",
       "      <td>1</td>\n",
       "      <td>1900 days</td>\n",
       "    </tr>\n",
       "  </tbody>\n",
       "</table>\n",
       "</div>"
      ],
      "text/plain": [
       "   analytics_matchkey industry_code_kind_of_business  \\\n",
       "1             1346748                             ZP   \n",
       "3             1346754                             ZP   \n",
       "4             1346756                             ZP   \n",
       "5             1346756                             ZP   \n",
       "6             1346758                             ZP   \n",
       "\n",
       "  reporting_subscriber_code public_record_type_code  \\\n",
       "1                       485                      7X   \n",
       "3                         1                      7X   \n",
       "4                         1                      RL   \n",
       "5                         1                      RL   \n",
       "6                       25N                      PF   \n",
       "\n",
       "  effective_date_date_verified filed_date  paid_date  amount  \\\n",
       "1                   2014-09-25 2014-05-06 2014-09-24     nan   \n",
       "3                   2013-01-29 2012-09-28 2013-01-28     nan   \n",
       "4                   2014-09-13 2007-02-02 2014-08-01     406   \n",
       "5                   2014-09-13 2008-03-12 2014-08-01     925   \n",
       "6                   2016-01-22 2008-03-10 2013-05-23   32583   \n",
       "\n",
       "  public_record_source_type_code equal_credit_opportunity_act_code  \\\n",
       "1                             FE                                 I   \n",
       "3                             FE                                 C   \n",
       "4                             RD                                 I   \n",
       "5                             RD                                 I   \n",
       "6                             RD                                 I   \n",
       "\n",
       "   legislative_prohibited_code Filed_to_Paid  \n",
       "1                            1      141 days  \n",
       "3                            1      122 days  \n",
       "4                            1     2737 days  \n",
       "5                            1     2333 days  \n",
       "6                            1     1900 days  "
      ]
     },
     "execution_count": 32,
     "metadata": {},
     "output_type": "execute_result"
    }
   ],
   "source": [
    "df_paid['Filed_to_Paid'] = df_paid['paid_date'] - df_paid['filed_date'] \n",
    "## to find time between filed_date and paid_date for each record\n",
    "df_paid.head()"
   ]
  },
  {
   "cell_type": "code",
   "execution_count": 33,
   "metadata": {},
   "outputs": [
    {
     "data": {
      "text/plain": [
       "Timedelta('380 days 01:51:46.596301')"
      ]
     },
     "execution_count": 33,
     "metadata": {},
     "output_type": "execute_result"
    }
   ],
   "source": [
    "df_paid['Filed_to_Paid'].mean() \n",
    "## for all entries with a paid_date, the average time between the filing date and the paid date was 380 days (over a year!)"
   ]
  },
  {
   "cell_type": "code",
   "execution_count": 34,
   "metadata": {},
   "outputs": [
    {
     "name": "stderr",
     "output_type": "stream",
     "text": [
      "c:\\users\\roblatch\\desktop\\python35\\lib\\site-packages\\ipykernel_launcher.py:1: SettingWithCopyWarning: \n",
      "A value is trying to be set on a copy of a slice from a DataFrame.\n",
      "Try using .loc[row_indexer,col_indexer] = value instead\n",
      "\n",
      "See the caveats in the documentation: http://pandas.pydata.org/pandas-docs/stable/user_guide/indexing.html#returning-a-view-versus-a-copy\n",
      "  \"\"\"Entry point for launching an IPython kernel.\n",
      "c:\\users\\roblatch\\desktop\\python35\\lib\\site-packages\\ipykernel_launcher.py:2: SettingWithCopyWarning: \n",
      "A value is trying to be set on a copy of a slice from a DataFrame.\n",
      "Try using .loc[row_indexer,col_indexer] = value instead\n",
      "\n",
      "See the caveats in the documentation: http://pandas.pydata.org/pandas-docs/stable/user_guide/indexing.html#returning-a-view-versus-a-copy\n",
      "  \n",
      "c:\\users\\roblatch\\desktop\\python35\\lib\\site-packages\\pandas\\core\\generic.py:5209: SettingWithCopyWarning: \n",
      "A value is trying to be set on a copy of a slice from a DataFrame.\n",
      "Try using .loc[row_indexer,col_indexer] = value instead\n",
      "\n",
      "See the caveats in the documentation: http://pandas.pydata.org/pandas-docs/stable/user_guide/indexing.html#returning-a-view-versus-a-copy\n",
      "  self[name] = value\n",
      "c:\\users\\roblatch\\desktop\\python35\\lib\\site-packages\\ipykernel_launcher.py:6: SettingWithCopyWarning: \n",
      "A value is trying to be set on a copy of a slice from a DataFrame.\n",
      "Try using .loc[row_indexer,col_indexer] = value instead\n",
      "\n",
      "See the caveats in the documentation: http://pandas.pydata.org/pandas-docs/stable/user_guide/indexing.html#returning-a-view-versus-a-copy\n",
      "  \n"
     ]
    },
    {
     "data": {
      "text/html": [
       "<div>\n",
       "<style scoped>\n",
       "    .dataframe tbody tr th:only-of-type {\n",
       "        vertical-align: middle;\n",
       "    }\n",
       "\n",
       "    .dataframe tbody tr th {\n",
       "        vertical-align: top;\n",
       "    }\n",
       "\n",
       "    .dataframe thead th {\n",
       "        text-align: right;\n",
       "    }\n",
       "</style>\n",
       "<table border=\"1\" class=\"dataframe\">\n",
       "  <thead>\n",
       "    <tr style=\"text-align: right;\">\n",
       "      <th></th>\n",
       "      <th>analytics_matchkey</th>\n",
       "      <th>industry_code_kind_of_business</th>\n",
       "      <th>reporting_subscriber_code</th>\n",
       "      <th>public_record_type_code</th>\n",
       "      <th>effective_date_date_verified</th>\n",
       "      <th>filed_date</th>\n",
       "      <th>paid_date</th>\n",
       "      <th>amount</th>\n",
       "      <th>public_record_source_type_code</th>\n",
       "      <th>equal_credit_opportunity_act_code</th>\n",
       "      <th>legislative_prohibited_code</th>\n",
       "      <th>Filed_to_Paid</th>\n",
       "      <th>month</th>\n",
       "      <th>year</th>\n",
       "      <th>Filed_to_Paid_days</th>\n",
       "    </tr>\n",
       "  </thead>\n",
       "  <tbody>\n",
       "    <tr>\n",
       "      <th>1</th>\n",
       "      <td>1346748</td>\n",
       "      <td>ZP</td>\n",
       "      <td>485</td>\n",
       "      <td>7X</td>\n",
       "      <td>2014-09-25</td>\n",
       "      <td>2014-05-06</td>\n",
       "      <td>2014-09-24</td>\n",
       "      <td>nan</td>\n",
       "      <td>FE</td>\n",
       "      <td>I</td>\n",
       "      <td>1</td>\n",
       "      <td>141 days</td>\n",
       "      <td>5</td>\n",
       "      <td>2014</td>\n",
       "      <td>141</td>\n",
       "    </tr>\n",
       "    <tr>\n",
       "      <th>3</th>\n",
       "      <td>1346754</td>\n",
       "      <td>ZP</td>\n",
       "      <td>1</td>\n",
       "      <td>7X</td>\n",
       "      <td>2013-01-29</td>\n",
       "      <td>2012-09-28</td>\n",
       "      <td>2013-01-28</td>\n",
       "      <td>nan</td>\n",
       "      <td>FE</td>\n",
       "      <td>C</td>\n",
       "      <td>1</td>\n",
       "      <td>122 days</td>\n",
       "      <td>9</td>\n",
       "      <td>2012</td>\n",
       "      <td>122</td>\n",
       "    </tr>\n",
       "    <tr>\n",
       "      <th>4</th>\n",
       "      <td>1346756</td>\n",
       "      <td>ZP</td>\n",
       "      <td>1</td>\n",
       "      <td>RL</td>\n",
       "      <td>2014-09-13</td>\n",
       "      <td>2007-02-02</td>\n",
       "      <td>2014-08-01</td>\n",
       "      <td>406</td>\n",
       "      <td>RD</td>\n",
       "      <td>I</td>\n",
       "      <td>1</td>\n",
       "      <td>2737 days</td>\n",
       "      <td>2</td>\n",
       "      <td>2007</td>\n",
       "      <td>2737</td>\n",
       "    </tr>\n",
       "    <tr>\n",
       "      <th>5</th>\n",
       "      <td>1346756</td>\n",
       "      <td>ZP</td>\n",
       "      <td>1</td>\n",
       "      <td>RL</td>\n",
       "      <td>2014-09-13</td>\n",
       "      <td>2008-03-12</td>\n",
       "      <td>2014-08-01</td>\n",
       "      <td>925</td>\n",
       "      <td>RD</td>\n",
       "      <td>I</td>\n",
       "      <td>1</td>\n",
       "      <td>2333 days</td>\n",
       "      <td>3</td>\n",
       "      <td>2008</td>\n",
       "      <td>2333</td>\n",
       "    </tr>\n",
       "    <tr>\n",
       "      <th>6</th>\n",
       "      <td>1346758</td>\n",
       "      <td>ZP</td>\n",
       "      <td>25N</td>\n",
       "      <td>PF</td>\n",
       "      <td>2016-01-22</td>\n",
       "      <td>2008-03-10</td>\n",
       "      <td>2013-05-23</td>\n",
       "      <td>32583</td>\n",
       "      <td>RD</td>\n",
       "      <td>I</td>\n",
       "      <td>1</td>\n",
       "      <td>1900 days</td>\n",
       "      <td>3</td>\n",
       "      <td>2008</td>\n",
       "      <td>1900</td>\n",
       "    </tr>\n",
       "  </tbody>\n",
       "</table>\n",
       "</div>"
      ],
      "text/plain": [
       "   analytics_matchkey industry_code_kind_of_business  \\\n",
       "1             1346748                             ZP   \n",
       "3             1346754                             ZP   \n",
       "4             1346756                             ZP   \n",
       "5             1346756                             ZP   \n",
       "6             1346758                             ZP   \n",
       "\n",
       "  reporting_subscriber_code public_record_type_code  \\\n",
       "1                       485                      7X   \n",
       "3                         1                      7X   \n",
       "4                         1                      RL   \n",
       "5                         1                      RL   \n",
       "6                       25N                      PF   \n",
       "\n",
       "  effective_date_date_verified filed_date  paid_date  amount  \\\n",
       "1                   2014-09-25 2014-05-06 2014-09-24     nan   \n",
       "3                   2013-01-29 2012-09-28 2013-01-28     nan   \n",
       "4                   2014-09-13 2007-02-02 2014-08-01     406   \n",
       "5                   2014-09-13 2008-03-12 2014-08-01     925   \n",
       "6                   2016-01-22 2008-03-10 2013-05-23   32583   \n",
       "\n",
       "  public_record_source_type_code equal_credit_opportunity_act_code  \\\n",
       "1                             FE                                 I   \n",
       "3                             FE                                 C   \n",
       "4                             RD                                 I   \n",
       "5                             RD                                 I   \n",
       "6                             RD                                 I   \n",
       "\n",
       "   legislative_prohibited_code Filed_to_Paid month  year  Filed_to_Paid_days  \n",
       "1                            1      141 days     5  2014                 141  \n",
       "3                            1      122 days     9  2012                 122  \n",
       "4                            1     2737 days     2  2007                2737  \n",
       "5                            1     2333 days     3  2008                2333  \n",
       "6                            1     1900 days     3  2008                1900  "
      ]
     },
     "execution_count": 34,
     "metadata": {},
     "output_type": "execute_result"
    }
   ],
   "source": [
    "df_paid['month'] = df_paid['filed_date'].dt.month ## processing date values for aggregate analysis\n",
    "df_paid['year'] = df_paid['filed_date'].dt.year\n",
    "df_paid.month = df_paid.month.astype(str)\n",
    "df_paid.year = df_paid.year.astype(str)\n",
    "\n",
    "df_paid['Filed_to_Paid_days'] = (df_paid['Filed_to_Paid'].dt.total_seconds()/(60*60*24)) \n",
    "## converts to number of days in integer form\n",
    "df_paid.head()"
   ]
  },
  {
   "cell_type": "code",
   "execution_count": 35,
   "metadata": {},
   "outputs": [
    {
     "data": {
      "text/plain": [
       "year\n",
       "2006   764\n",
       "2007   562\n",
       "2008   493\n",
       "2009   453\n",
       "2010   509\n",
       "2011   428\n",
       "2012   342\n",
       "2013   268\n",
       "2014   211\n",
       "2015   146\n",
       "2016    88\n",
       "Name: Filed_to_Paid_days, dtype: float64"
      ]
     },
     "execution_count": 35,
     "metadata": {},
     "output_type": "execute_result"
    }
   ],
   "source": [
    "filed_to_paid_years = df_paid.groupby('year')['Filed_to_Paid_days'].mean()\n",
    "filed_to_paid_years ## average time between record filed and record paid, for each year of time series"
   ]
  },
  {
   "cell_type": "code",
   "execution_count": 36,
   "metadata": {},
   "outputs": [
    {
     "data": {
      "image/png": "[encoded data removed]",
      "text/plain": [
       "<Figure size 288x288 with 1 Axes>"
      ]
     },
     "metadata": {
      "needs_background": "light"
     },
     "output_type": "display_data"
    }
   ],
   "source": [
    "years = ['2006', '2007', '2008', '2009', '2010', '2011', '2012', '2013', '2014', '2015', '2016']\n",
    "plt.figure(figsize=(4,4))\n",
    "\n",
    "fig = filed_to_paid_years.plot(kind='bar')\n",
    "fig.set_title(\"Average Time (Days) Between Filed and Paid per Year\")\n",
    "fig.set_ylabel('Average')\n",
    "fig.set_xticklabels(years); \n",
    "## looked at average time between the record being filed and paid per year across entire Time Series. \n",
    "## There is a decreasing trend throughout the series, with the exception of 2010\n",
    "## It makes sense that both 2015 and 2016 would be very low - as the only records with a paid_date would have to be within\n",
    "## the range of our time series, which ends in 09-2016. If we later conducted this analysis including 2017 and 2018 data in addition to this data,\n",
    "## the average time (days) between filed and paid for 2015 and 2016 would likely increase, \n",
    "## because more of the larger values would be included in the dataset"
   ]
  },
  {
   "cell_type": "code",
   "execution_count": 37,
   "metadata": {},
   "outputs": [
    {
     "data": {
      "text/plain": [
       "public_record_type_code\n",
       "7F   118\n",
       "7D   131\n",
       "7X   144\n",
       "FT   286\n",
       "CJ   299\n",
       "PC   375\n",
       "3D   413\n",
       "PL   426\n",
       "1D   470\n",
       "CB   476\n",
       "Name: Filed_to_Paid_days, dtype: float64"
      ]
     },
     "execution_count": 37,
     "metadata": {},
     "output_type": "execute_result"
    }
   ],
   "source": [
    "filed_to_paid_record_type = df_paid.groupby('public_record_type_code')['Filed_to_Paid_days'].mean()\n",
    "filed_to_paid_record_type_10 = filed_to_paid_record_type.sort_values(ascending=True)[0:10]\n",
    "filed_to_paid_record_type_10 ### of the paid records, the fasted paid on average are of type 7F, 7D, and 7X"
   ]
  },
  {
   "cell_type": "code",
   "execution_count": 38,
   "metadata": {},
   "outputs": [
    {
     "data": {
      "text/plain": [
       "7X    49841\n",
       "PC    30449\n",
       "RL    20099\n",
       "CB    10240\n",
       "PL     6172\n",
       "Name: public_record_type_code, dtype: int64"
      ]
     },
     "execution_count": 38,
     "metadata": {},
     "output_type": "execute_result"
    }
   ],
   "source": [
    "df_paid['public_record_type_code'].value_counts()[0:5] ## of the paid records, most are of type 7X"
   ]
  },
  {
   "cell_type": "code",
   "execution_count": 39,
   "metadata": {},
   "outputs": [
    {
     "data": {
      "text/plain": [
       "59.28503043934348"
      ]
     },
     "execution_count": 39,
     "metadata": {},
     "output_type": "execute_result"
    }
   ],
   "source": [
    "total_paid = df_paid.shape[0]\n",
    "total = df.shape[0]\n",
    "total_paid/total * 100 ## ~59 percent of loans have a paid date entry (paid)"
   ]
  },
  {
   "cell_type": "code",
   "execution_count": 40,
   "metadata": {},
   "outputs": [
    {
     "data": {
      "text/plain": [
       "public_record_type_code\n",
       "FT   33205\n",
       "PF   23991\n",
       "TB   11739\n",
       "CP    7714\n",
       "CB    5245\n",
       "Name: amount, dtype: float64"
      ]
     },
     "execution_count": 40,
     "metadata": {},
     "output_type": "execute_result"
    }
   ],
   "source": [
    "df_no_na = df.dropna(subset=['amount']) ## average amount highest for FT (federal Tax Lien) and PF public record types\n",
    "df_no_na.groupby('public_record_type_code')['amount'].mean().sort_values(ascending=False)[0:5]"
   ]
  },
  {
   "cell_type": "code",
   "execution_count": 41,
   "metadata": {},
   "outputs": [
    {
     "data": {
      "text/html": [
       "<div>\n",
       "<style scoped>\n",
       "    .dataframe tbody tr th:only-of-type {\n",
       "        vertical-align: middle;\n",
       "    }\n",
       "\n",
       "    .dataframe tbody tr th {\n",
       "        vertical-align: top;\n",
       "    }\n",
       "\n",
       "    .dataframe thead th {\n",
       "        text-align: right;\n",
       "    }\n",
       "</style>\n",
       "<table border=\"1\" class=\"dataframe\">\n",
       "  <thead>\n",
       "    <tr style=\"text-align: right;\">\n",
       "      <th></th>\n",
       "      <th>Total_Missing_Paid_Dates</th>\n",
       "    </tr>\n",
       "    <tr>\n",
       "      <th>public_record_type_code</th>\n",
       "      <th></th>\n",
       "    </tr>\n",
       "  </thead>\n",
       "  <tbody>\n",
       "    <tr>\n",
       "      <th>CJ</th>\n",
       "      <td>61412</td>\n",
       "    </tr>\n",
       "    <tr>\n",
       "      <th>SL</th>\n",
       "      <td>16197</td>\n",
       "    </tr>\n",
       "    <tr>\n",
       "      <th>FT</th>\n",
       "      <td>6505</td>\n",
       "    </tr>\n",
       "    <tr>\n",
       "      <th>3F</th>\n",
       "      <td>2183</td>\n",
       "    </tr>\n",
       "    <tr>\n",
       "      <th>TL</th>\n",
       "      <td>1764</td>\n",
       "    </tr>\n",
       "  </tbody>\n",
       "</table>\n",
       "</div>"
      ],
      "text/plain": [
       "                         Total_Missing_Paid_Dates\n",
       "public_record_type_code                          \n",
       "CJ                                          61412\n",
       "SL                                          16197\n",
       "FT                                           6505\n",
       "3F                                           2183\n",
       "TL                                           1764"
      ]
     },
     "execution_count": 41,
     "metadata": {},
     "output_type": "execute_result"
    }
   ],
   "source": [
    "record_types_missing_paid_date = df_not_paid.groupby('public_record_type_code').size().sort_values(ascending=False)\n",
    "record_types_missing_paid_date = record_types_missing_paid_date.to_frame()\n",
    "record_types_missing_paid_date = record_types_missing_paid_date.rename(columns={0:'Total_Missing_Paid_Dates'})\n",
    "record_types_missing_paid_date[0:5]\n",
    "\n",
    "## find total number of records with missing paid_dates, grouped by public_record_type"
   ]
  },
  {
   "cell_type": "code",
   "execution_count": 42,
   "metadata": {},
   "outputs": [
    {
     "data": {
      "text/html": [
       "<div>\n",
       "<style scoped>\n",
       "    .dataframe tbody tr th:only-of-type {\n",
       "        vertical-align: middle;\n",
       "    }\n",
       "\n",
       "    .dataframe tbody tr th {\n",
       "        vertical-align: top;\n",
       "    }\n",
       "\n",
       "    .dataframe thead th {\n",
       "        text-align: right;\n",
       "    }\n",
       "</style>\n",
       "<table border=\"1\" class=\"dataframe\">\n",
       "  <thead>\n",
       "    <tr style=\"text-align: right;\">\n",
       "      <th></th>\n",
       "      <th>Total_Paid_Dates</th>\n",
       "    </tr>\n",
       "    <tr>\n",
       "      <th>public_record_type_code</th>\n",
       "      <th></th>\n",
       "    </tr>\n",
       "  </thead>\n",
       "  <tbody>\n",
       "    <tr>\n",
       "      <th>7X</th>\n",
       "      <td>49841</td>\n",
       "    </tr>\n",
       "    <tr>\n",
       "      <th>PC</th>\n",
       "      <td>30449</td>\n",
       "    </tr>\n",
       "    <tr>\n",
       "      <th>RL</th>\n",
       "      <td>20099</td>\n",
       "    </tr>\n",
       "    <tr>\n",
       "      <th>CB</th>\n",
       "      <td>10240</td>\n",
       "    </tr>\n",
       "    <tr>\n",
       "      <th>PL</th>\n",
       "      <td>6172</td>\n",
       "    </tr>\n",
       "  </tbody>\n",
       "</table>\n",
       "</div>"
      ],
      "text/plain": [
       "                         Total_Paid_Dates\n",
       "public_record_type_code                  \n",
       "7X                                  49841\n",
       "PC                                  30449\n",
       "RL                                  20099\n",
       "CB                                  10240\n",
       "PL                                   6172"
      ]
     },
     "execution_count": 42,
     "metadata": {},
     "output_type": "execute_result"
    }
   ],
   "source": [
    "record_types_with_paid_date = df_paid.groupby('public_record_type_code').size().sort_values(ascending=False)\n",
    "record_types_with_paid_date = record_types_with_paid_date.to_frame()\n",
    "record_types_with_paid_date = record_types_with_paid_date.rename(columns={0:'Total_Paid_Dates'})\n",
    "record_types_with_paid_date[0:5]\n",
    "## find total number of records with paid_dates, grouped by public_record_type"
   ]
  },
  {
   "cell_type": "code",
   "execution_count": 43,
   "metadata": {},
   "outputs": [
    {
     "data": {
      "text/html": [
       "<div>\n",
       "<style scoped>\n",
       "    .dataframe tbody tr th:only-of-type {\n",
       "        vertical-align: middle;\n",
       "    }\n",
       "\n",
       "    .dataframe tbody tr th {\n",
       "        vertical-align: top;\n",
       "    }\n",
       "\n",
       "    .dataframe thead th {\n",
       "        text-align: right;\n",
       "    }\n",
       "</style>\n",
       "<table border=\"1\" class=\"dataframe\">\n",
       "  <thead>\n",
       "    <tr style=\"text-align: right;\">\n",
       "      <th></th>\n",
       "      <th>Total_Paid_Dates</th>\n",
       "      <th>Total_Missing_Paid_Dates</th>\n",
       "      <th>Total_Records</th>\n",
       "      <th>Percent_of_Total_Paid</th>\n",
       "    </tr>\n",
       "    <tr>\n",
       "      <th>public_record_type_code</th>\n",
       "      <th></th>\n",
       "      <th></th>\n",
       "      <th></th>\n",
       "      <th></th>\n",
       "    </tr>\n",
       "  </thead>\n",
       "  <tbody>\n",
       "    <tr>\n",
       "      <th>1D</th>\n",
       "      <td>14</td>\n",
       "      <td>0</td>\n",
       "      <td>14</td>\n",
       "      <td>100</td>\n",
       "    </tr>\n",
       "    <tr>\n",
       "      <th>1F</th>\n",
       "      <td>0</td>\n",
       "      <td>1</td>\n",
       "      <td>1</td>\n",
       "      <td>0</td>\n",
       "    </tr>\n",
       "    <tr>\n",
       "      <th>1X</th>\n",
       "      <td>11</td>\n",
       "      <td>0</td>\n",
       "      <td>11</td>\n",
       "      <td>100</td>\n",
       "    </tr>\n",
       "    <tr>\n",
       "      <th>2D</th>\n",
       "      <td>2</td>\n",
       "      <td>0</td>\n",
       "      <td>2</td>\n",
       "      <td>100</td>\n",
       "    </tr>\n",
       "    <tr>\n",
       "      <th>2F</th>\n",
       "      <td>0</td>\n",
       "      <td>2</td>\n",
       "      <td>2</td>\n",
       "      <td>0</td>\n",
       "    </tr>\n",
       "    <tr>\n",
       "      <th>2X</th>\n",
       "      <td>3</td>\n",
       "      <td>0</td>\n",
       "      <td>3</td>\n",
       "      <td>100</td>\n",
       "    </tr>\n",
       "    <tr>\n",
       "      <th>3D</th>\n",
       "      <td>4356</td>\n",
       "      <td>0</td>\n",
       "      <td>4356</td>\n",
       "      <td>100</td>\n",
       "    </tr>\n",
       "    <tr>\n",
       "      <th>3F</th>\n",
       "      <td>1</td>\n",
       "      <td>2183</td>\n",
       "      <td>2184</td>\n",
       "      <td>0</td>\n",
       "    </tr>\n",
       "    <tr>\n",
       "      <th>3X</th>\n",
       "      <td>3498</td>\n",
       "      <td>2</td>\n",
       "      <td>3500</td>\n",
       "      <td>100</td>\n",
       "    </tr>\n",
       "    <tr>\n",
       "      <th>7D</th>\n",
       "      <td>1109</td>\n",
       "      <td>0</td>\n",
       "      <td>1109</td>\n",
       "      <td>100</td>\n",
       "    </tr>\n",
       "    <tr>\n",
       "      <th>7F</th>\n",
       "      <td>8</td>\n",
       "      <td>479</td>\n",
       "      <td>487</td>\n",
       "      <td>2</td>\n",
       "    </tr>\n",
       "    <tr>\n",
       "      <th>7X</th>\n",
       "      <td>49841</td>\n",
       "      <td>1</td>\n",
       "      <td>49842</td>\n",
       "      <td>100</td>\n",
       "    </tr>\n",
       "    <tr>\n",
       "      <th>CB</th>\n",
       "      <td>10240</td>\n",
       "      <td>26</td>\n",
       "      <td>10266</td>\n",
       "      <td>100</td>\n",
       "    </tr>\n",
       "    <tr>\n",
       "      <th>CJ</th>\n",
       "      <td>13</td>\n",
       "      <td>61412</td>\n",
       "      <td>61425</td>\n",
       "      <td>0</td>\n",
       "    </tr>\n",
       "    <tr>\n",
       "      <th>CP</th>\n",
       "      <td>0</td>\n",
       "      <td>301</td>\n",
       "      <td>301</td>\n",
       "      <td>0</td>\n",
       "    </tr>\n",
       "    <tr>\n",
       "      <th>FT</th>\n",
       "      <td>6</td>\n",
       "      <td>6505</td>\n",
       "      <td>6511</td>\n",
       "      <td>0</td>\n",
       "    </tr>\n",
       "    <tr>\n",
       "      <th>PC</th>\n",
       "      <td>30449</td>\n",
       "      <td>0</td>\n",
       "      <td>30449</td>\n",
       "      <td>100</td>\n",
       "    </tr>\n",
       "    <tr>\n",
       "      <th>PF</th>\n",
       "      <td>3591</td>\n",
       "      <td>0</td>\n",
       "      <td>3591</td>\n",
       "      <td>100</td>\n",
       "    </tr>\n",
       "    <tr>\n",
       "      <th>PL</th>\n",
       "      <td>6172</td>\n",
       "      <td>0</td>\n",
       "      <td>6172</td>\n",
       "      <td>100</td>\n",
       "    </tr>\n",
       "    <tr>\n",
       "      <th>RL</th>\n",
       "      <td>20099</td>\n",
       "      <td>0</td>\n",
       "      <td>20099</td>\n",
       "      <td>100</td>\n",
       "    </tr>\n",
       "    <tr>\n",
       "      <th>SL</th>\n",
       "      <td>8</td>\n",
       "      <td>16197</td>\n",
       "      <td>16205</td>\n",
       "      <td>0</td>\n",
       "    </tr>\n",
       "    <tr>\n",
       "      <th>TB</th>\n",
       "      <td>0</td>\n",
       "      <td>9</td>\n",
       "      <td>9</td>\n",
       "      <td>0</td>\n",
       "    </tr>\n",
       "    <tr>\n",
       "      <th>TL</th>\n",
       "      <td>0</td>\n",
       "      <td>1764</td>\n",
       "      <td>1764</td>\n",
       "      <td>0</td>\n",
       "    </tr>\n",
       "  </tbody>\n",
       "</table>\n",
       "</div>"
      ],
      "text/plain": [
       "                         Total_Paid_Dates  Total_Missing_Paid_Dates  \\\n",
       "public_record_type_code                                               \n",
       "1D                                     14                         0   \n",
       "1F                                      0                         1   \n",
       "1X                                     11                         0   \n",
       "2D                                      2                         0   \n",
       "2F                                      0                         2   \n",
       "2X                                      3                         0   \n",
       "3D                                   4356                         0   \n",
       "3F                                      1                      2183   \n",
       "3X                                   3498                         2   \n",
       "7D                                   1109                         0   \n",
       "7F                                      8                       479   \n",
       "7X                                  49841                         1   \n",
       "CB                                  10240                        26   \n",
       "CJ                                     13                     61412   \n",
       "CP                                      0                       301   \n",
       "FT                                      6                      6505   \n",
       "PC                                  30449                         0   \n",
       "PF                                   3591                         0   \n",
       "PL                                   6172                         0   \n",
       "RL                                  20099                         0   \n",
       "SL                                      8                     16197   \n",
       "TB                                      0                         9   \n",
       "TL                                      0                      1764   \n",
       "\n",
       "                         Total_Records  Percent_of_Total_Paid  \n",
       "public_record_type_code                                        \n",
       "1D                                  14                    100  \n",
       "1F                                   1                      0  \n",
       "1X                                  11                    100  \n",
       "2D                                   2                    100  \n",
       "2F                                   2                      0  \n",
       "2X                                   3                    100  \n",
       "3D                                4356                    100  \n",
       "3F                                2184                      0  \n",
       "3X                                3500                    100  \n",
       "7D                                1109                    100  \n",
       "7F                                 487                      2  \n",
       "7X                               49842                    100  \n",
       "CB                               10266                    100  \n",
       "CJ                               61425                      0  \n",
       "CP                                 301                      0  \n",
       "FT                                6511                      0  \n",
       "PC                               30449                    100  \n",
       "PF                                3591                    100  \n",
       "PL                                6172                    100  \n",
       "RL                               20099                    100  \n",
       "SL                               16205                      0  \n",
       "TB                                   9                      0  \n",
       "TL                                1764                      0  "
      ]
     },
     "execution_count": 43,
     "metadata": {},
     "output_type": "execute_result"
    }
   ],
   "source": [
    "## merge two dataframes together (paid and unpaid), both grouped by public_record_type_code\n",
    "Paid_vs_not_Paid = record_types_with_paid_date.merge(record_types_missing_paid_date, left_index=True, right_index=True, how='outer')\n",
    "Paid_vs_not_Paid = Paid_vs_not_Paid.fillna(0)\n",
    "Paid_vs_not_Paid['Total_Records'] = Paid_vs_not_Paid['Total_Paid_Dates'] + Paid_vs_not_Paid['Total_Missing_Paid_Dates']\n",
    "Paid_vs_not_Paid['Percent_of_Total_Paid'] = Paid_vs_not_Paid['Total_Paid_Dates']/Paid_vs_not_Paid['Total_Records']*100\n",
    "Paid_vs_not_Paid ## found proportion of records with (not null) paid_dates for each record_type\n",
    "## I wonder why some types (CP, TL) have all missing paid_dates?"
   ]
  },
  {
   "cell_type": "code",
   "execution_count": 44,
   "metadata": {},
   "outputs": [
    {
     "data": {
      "text/html": [
       "<div>\n",
       "<style scoped>\n",
       "    .dataframe tbody tr th:only-of-type {\n",
       "        vertical-align: middle;\n",
       "    }\n",
       "\n",
       "    .dataframe tbody tr th {\n",
       "        vertical-align: top;\n",
       "    }\n",
       "\n",
       "    .dataframe thead th {\n",
       "        text-align: right;\n",
       "    }\n",
       "</style>\n",
       "<table border=\"1\" class=\"dataframe\">\n",
       "  <thead>\n",
       "    <tr style=\"text-align: right;\">\n",
       "      <th></th>\n",
       "      <th>Total_Missing_Paid_Dates</th>\n",
       "    </tr>\n",
       "    <tr>\n",
       "      <th>public_record_source_type_code</th>\n",
       "      <th></th>\n",
       "    </tr>\n",
       "  </thead>\n",
       "  <tbody>\n",
       "    <tr>\n",
       "      <th>CI</th>\n",
       "      <td>58381</td>\n",
       "    </tr>\n",
       "    <tr>\n",
       "      <th>RD</th>\n",
       "      <td>24993</td>\n",
       "    </tr>\n",
       "    <tr>\n",
       "      <th>FE</th>\n",
       "      <td>2617</td>\n",
       "    </tr>\n",
       "    <tr>\n",
       "      <th>MU</th>\n",
       "      <td>2083</td>\n",
       "    </tr>\n",
       "    <tr>\n",
       "      <th>SU</th>\n",
       "      <td>363</td>\n",
       "    </tr>\n",
       "  </tbody>\n",
       "</table>\n",
       "</div>"
      ],
      "text/plain": [
       "                                Total_Missing_Paid_Dates\n",
       "public_record_source_type_code                          \n",
       "CI                                                 58381\n",
       "RD                                                 24993\n",
       "FE                                                  2617\n",
       "MU                                                  2083\n",
       "SU                                                   363"
      ]
     },
     "execution_count": 44,
     "metadata": {},
     "output_type": "execute_result"
    }
   ],
   "source": [
    "source_types_missing_paid_date = df_not_paid.groupby('public_record_source_type_code').size().sort_values(ascending=False)\n",
    "source_types_missing_paid_date = source_types_missing_paid_date.to_frame()\n",
    "source_types_missing_paid_date = source_types_missing_paid_date.rename(columns={0:'Total_Missing_Paid_Dates'})\n",
    "source_types_missing_paid_date[0:5]\n",
    "\n",
    "## Repeat same process for public_record_source_type_code"
   ]
  },
  {
   "cell_type": "code",
   "execution_count": 45,
   "metadata": {},
   "outputs": [
    {
     "data": {
      "text/html": [
       "<div>\n",
       "<style scoped>\n",
       "    .dataframe tbody tr th:only-of-type {\n",
       "        vertical-align: middle;\n",
       "    }\n",
       "\n",
       "    .dataframe tbody tr th {\n",
       "        vertical-align: top;\n",
       "    }\n",
       "\n",
       "    .dataframe thead th {\n",
       "        text-align: right;\n",
       "    }\n",
       "</style>\n",
       "<table border=\"1\" class=\"dataframe\">\n",
       "  <thead>\n",
       "    <tr style=\"text-align: right;\">\n",
       "      <th></th>\n",
       "      <th>Total_Paid_Dates</th>\n",
       "    </tr>\n",
       "    <tr>\n",
       "      <th>public_record_source_type_code</th>\n",
       "      <th></th>\n",
       "    </tr>\n",
       "  </thead>\n",
       "  <tbody>\n",
       "    <tr>\n",
       "      <th>FE</th>\n",
       "      <td>56279</td>\n",
       "    </tr>\n",
       "    <tr>\n",
       "      <th>CI</th>\n",
       "      <td>39064</td>\n",
       "    </tr>\n",
       "    <tr>\n",
       "      <th>RD</th>\n",
       "      <td>29664</td>\n",
       "    </tr>\n",
       "    <tr>\n",
       "      <th>BK</th>\n",
       "      <td>2560</td>\n",
       "    </tr>\n",
       "    <tr>\n",
       "      <th>MU</th>\n",
       "      <td>1208</td>\n",
       "    </tr>\n",
       "  </tbody>\n",
       "</table>\n",
       "</div>"
      ],
      "text/plain": [
       "                                Total_Paid_Dates\n",
       "public_record_source_type_code                  \n",
       "FE                                         56279\n",
       "CI                                         39064\n",
       "RD                                         29664\n",
       "BK                                          2560\n",
       "MU                                          1208"
      ]
     },
     "execution_count": 45,
     "metadata": {},
     "output_type": "execute_result"
    }
   ],
   "source": [
    "source_types_with_paid_date = df_paid.groupby('public_record_source_type_code').size().sort_values(ascending=False)\n",
    "source_types_with_paid_date = source_types_with_paid_date.to_frame()\n",
    "source_types_with_paid_date = source_types_with_paid_date.rename(columns={0:'Total_Paid_Dates'})\n",
    "source_types_with_paid_date[0:5]"
   ]
  },
  {
   "cell_type": "code",
   "execution_count": 46,
   "metadata": {},
   "outputs": [
    {
     "data": {
      "text/html": [
       "<div>\n",
       "<style scoped>\n",
       "    .dataframe tbody tr th:only-of-type {\n",
       "        vertical-align: middle;\n",
       "    }\n",
       "\n",
       "    .dataframe tbody tr th {\n",
       "        vertical-align: top;\n",
       "    }\n",
       "\n",
       "    .dataframe thead th {\n",
       "        text-align: right;\n",
       "    }\n",
       "</style>\n",
       "<table border=\"1\" class=\"dataframe\">\n",
       "  <thead>\n",
       "    <tr style=\"text-align: right;\">\n",
       "      <th></th>\n",
       "      <th>Total_Paid_Dates</th>\n",
       "      <th>Total_Missing_Paid_Dates</th>\n",
       "      <th>Total_Records</th>\n",
       "      <th>Percent_of_Total_Paid</th>\n",
       "    </tr>\n",
       "    <tr>\n",
       "      <th>public_record_source_type_code</th>\n",
       "      <th></th>\n",
       "      <th></th>\n",
       "      <th></th>\n",
       "      <th></th>\n",
       "    </tr>\n",
       "  </thead>\n",
       "  <tbody>\n",
       "    <tr>\n",
       "      <th>CI</th>\n",
       "      <td>39064</td>\n",
       "      <td>58381</td>\n",
       "      <td>97445</td>\n",
       "      <td>40</td>\n",
       "    </tr>\n",
       "    <tr>\n",
       "      <th>FE</th>\n",
       "      <td>56279</td>\n",
       "      <td>2617</td>\n",
       "      <td>58896</td>\n",
       "      <td>96</td>\n",
       "    </tr>\n",
       "    <tr>\n",
       "      <th>RD</th>\n",
       "      <td>29664</td>\n",
       "      <td>24993</td>\n",
       "      <td>54657</td>\n",
       "      <td>54</td>\n",
       "    </tr>\n",
       "    <tr>\n",
       "      <th>MU</th>\n",
       "      <td>1208</td>\n",
       "      <td>2083</td>\n",
       "      <td>3291</td>\n",
       "      <td>37</td>\n",
       "    </tr>\n",
       "    <tr>\n",
       "      <th>BK</th>\n",
       "      <td>2560</td>\n",
       "      <td>51</td>\n",
       "      <td>2611</td>\n",
       "      <td>98</td>\n",
       "    </tr>\n",
       "  </tbody>\n",
       "</table>\n",
       "</div>"
      ],
      "text/plain": [
       "                                Total_Paid_Dates  Total_Missing_Paid_Dates  \\\n",
       "public_record_source_type_code                                               \n",
       "CI                                         39064                     58381   \n",
       "FE                                         56279                      2617   \n",
       "RD                                         29664                     24993   \n",
       "MU                                          1208                      2083   \n",
       "BK                                          2560                        51   \n",
       "\n",
       "                                Total_Records  Percent_of_Total_Paid  \n",
       "public_record_source_type_code                                        \n",
       "CI                                      97445                     40  \n",
       "FE                                      58896                     96  \n",
       "RD                                      54657                     54  \n",
       "MU                                       3291                     37  \n",
       "BK                                       2611                     98  "
      ]
     },
     "execution_count": 46,
     "metadata": {},
     "output_type": "execute_result"
    }
   ],
   "source": [
    "Paid_vs_not_Paid_source = source_types_with_paid_date.merge(source_types_missing_paid_date, left_index=True, right_index=True, how='outer')\n",
    "Paid_vs_not_Paid_source = Paid_vs_not_Paid_source.fillna(0)\n",
    "Paid_vs_not_Paid_source['Total_Records'] = Paid_vs_not_Paid_source['Total_Paid_Dates'] + Paid_vs_not_Paid_source['Total_Missing_Paid_Dates']\n",
    "Paid_vs_not_Paid_source['Percent_of_Total_Paid'] = Paid_vs_not_Paid_source['Total_Paid_Dates']/Paid_vs_not_Paid_source['Total_Records']*100\n",
    "Paid_vs_not_Paid_source.sort_values(by='Total_Records', ascending=False)[0:5]\n",
    "## found proportion of records with (not null) paid_dates for each source_type\n",
    "## as an additional analysis, I would add the the time series component to this, \n",
    "## and see how the percent of total paid varies year to year for each public record source type"
   ]
  },
  {
   "cell_type": "code",
   "execution_count": 47,
   "metadata": {},
   "outputs": [
    {
     "data": {
      "text/html": [
       "<div>\n",
       "<style scoped>\n",
       "    .dataframe tbody tr th:only-of-type {\n",
       "        vertical-align: middle;\n",
       "    }\n",
       "\n",
       "    .dataframe tbody tr th {\n",
       "        vertical-align: top;\n",
       "    }\n",
       "\n",
       "    .dataframe thead th {\n",
       "        text-align: right;\n",
       "    }\n",
       "</style>\n",
       "<table border=\"1\" class=\"dataframe\">\n",
       "  <thead>\n",
       "    <tr style=\"text-align: right;\">\n",
       "      <th></th>\n",
       "      <th>analytics_matchkey</th>\n",
       "      <th>industry_code_kind_of_business</th>\n",
       "      <th>reporting_subscriber_code</th>\n",
       "      <th>public_record_type_code</th>\n",
       "      <th>effective_date_date_verified</th>\n",
       "      <th>filed_date</th>\n",
       "      <th>paid_date</th>\n",
       "      <th>amount</th>\n",
       "      <th>public_record_source_type_code</th>\n",
       "      <th>equal_credit_opportunity_act_code</th>\n",
       "      <th>legislative_prohibited_code</th>\n",
       "      <th>month</th>\n",
       "      <th>year</th>\n",
       "      <th>month_year</th>\n",
       "    </tr>\n",
       "  </thead>\n",
       "  <tbody>\n",
       "    <tr>\n",
       "      <th>0</th>\n",
       "      <td>1346747</td>\n",
       "      <td>ZP</td>\n",
       "      <td>99</td>\n",
       "      <td>CJ</td>\n",
       "      <td>2013-06-04</td>\n",
       "      <td>2013-01-29</td>\n",
       "      <td>NaT</td>\n",
       "      <td>1209</td>\n",
       "      <td>CI</td>\n",
       "      <td>I</td>\n",
       "      <td>1</td>\n",
       "      <td>1</td>\n",
       "      <td>2013</td>\n",
       "      <td>1_2013</td>\n",
       "    </tr>\n",
       "    <tr>\n",
       "      <th>1</th>\n",
       "      <td>1346748</td>\n",
       "      <td>ZP</td>\n",
       "      <td>485</td>\n",
       "      <td>7X</td>\n",
       "      <td>2014-09-25</td>\n",
       "      <td>2014-05-06</td>\n",
       "      <td>2014-09-24</td>\n",
       "      <td>nan</td>\n",
       "      <td>FE</td>\n",
       "      <td>I</td>\n",
       "      <td>1</td>\n",
       "      <td>5</td>\n",
       "      <td>2014</td>\n",
       "      <td>5_2014</td>\n",
       "    </tr>\n",
       "    <tr>\n",
       "      <th>2</th>\n",
       "      <td>1346754</td>\n",
       "      <td>Z</td>\n",
       "      <td>11R</td>\n",
       "      <td>SL</td>\n",
       "      <td>2012-01-24</td>\n",
       "      <td>2011-04-05</td>\n",
       "      <td>NaT</td>\n",
       "      <td>2248</td>\n",
       "      <td>RD</td>\n",
       "      <td>I</td>\n",
       "      <td>1</td>\n",
       "      <td>4</td>\n",
       "      <td>2011</td>\n",
       "      <td>4_2011</td>\n",
       "    </tr>\n",
       "    <tr>\n",
       "      <th>3</th>\n",
       "      <td>1346754</td>\n",
       "      <td>ZP</td>\n",
       "      <td>1</td>\n",
       "      <td>7X</td>\n",
       "      <td>2013-01-29</td>\n",
       "      <td>2012-09-28</td>\n",
       "      <td>2013-01-28</td>\n",
       "      <td>nan</td>\n",
       "      <td>FE</td>\n",
       "      <td>C</td>\n",
       "      <td>1</td>\n",
       "      <td>9</td>\n",
       "      <td>2012</td>\n",
       "      <td>9_2012</td>\n",
       "    </tr>\n",
       "    <tr>\n",
       "      <th>4</th>\n",
       "      <td>1346756</td>\n",
       "      <td>ZP</td>\n",
       "      <td>1</td>\n",
       "      <td>RL</td>\n",
       "      <td>2014-09-13</td>\n",
       "      <td>2007-02-02</td>\n",
       "      <td>2014-08-01</td>\n",
       "      <td>406</td>\n",
       "      <td>RD</td>\n",
       "      <td>I</td>\n",
       "      <td>1</td>\n",
       "      <td>2</td>\n",
       "      <td>2007</td>\n",
       "      <td>2_2007</td>\n",
       "    </tr>\n",
       "  </tbody>\n",
       "</table>\n",
       "</div>"
      ],
      "text/plain": [
       "   analytics_matchkey industry_code_kind_of_business  \\\n",
       "0             1346747                             ZP   \n",
       "1             1346748                             ZP   \n",
       "2             1346754                              Z   \n",
       "3             1346754                             ZP   \n",
       "4             1346756                             ZP   \n",
       "\n",
       "  reporting_subscriber_code public_record_type_code  \\\n",
       "0                        99                      CJ   \n",
       "1                       485                      7X   \n",
       "2                       11R                      SL   \n",
       "3                         1                      7X   \n",
       "4                         1                      RL   \n",
       "\n",
       "  effective_date_date_verified filed_date  paid_date  amount  \\\n",
       "0                   2013-06-04 2013-01-29        NaT    1209   \n",
       "1                   2014-09-25 2014-05-06 2014-09-24     nan   \n",
       "2                   2012-01-24 2011-04-05        NaT    2248   \n",
       "3                   2013-01-29 2012-09-28 2013-01-28     nan   \n",
       "4                   2014-09-13 2007-02-02 2014-08-01     406   \n",
       "\n",
       "  public_record_source_type_code equal_credit_opportunity_act_code  \\\n",
       "0                             CI                                 I   \n",
       "1                             FE                                 I   \n",
       "2                             RD                                 I   \n",
       "3                             FE                                 C   \n",
       "4                             RD                                 I   \n",
       "\n",
       "   legislative_prohibited_code month  year month_year  \n",
       "0                            1     1  2013     1_2013  \n",
       "1                            1     5  2014     5_2014  \n",
       "2                            1     4  2011     4_2011  \n",
       "3                            1     9  2012     9_2012  \n",
       "4                            1     2  2007     2_2007  "
      ]
     },
     "execution_count": 47,
     "metadata": {},
     "output_type": "execute_result"
    }
   ],
   "source": [
    "df.head()"
   ]
  },
  {
   "cell_type": "code",
   "execution_count": 48,
   "metadata": {},
   "outputs": [
    {
     "data": {
      "text/plain": [
       "legislative_prohibited_code\n",
       "1    202909\n",
       "2     15394\n",
       "dtype: int64"
      ]
     },
     "execution_count": 48,
     "metadata": {},
     "output_type": "execute_result"
    }
   ],
   "source": [
    "df.groupby('legislative_prohibited_code').size() ##whether or not account is medical related"
   ]
  },
  {
   "cell_type": "code",
   "execution_count": 49,
   "metadata": {},
   "outputs": [
    {
     "data": {
      "text/plain": [
       "equal_credit_opportunity_act_code\n",
       "C     62276\n",
       "I    156027\n",
       "dtype: int64"
      ]
     },
     "execution_count": 49,
     "metadata": {},
     "output_type": "execute_result"
    }
   ],
   "source": [
    "df.groupby('equal_credit_opportunity_act_code').size() ## Majority have code \"I\""
   ]
  },
  {
   "cell_type": "code",
   "execution_count": 50,
   "metadata": {},
   "outputs": [
    {
     "data": {
      "text/plain": [
       "public_record_source_type_code\n",
       "PC    74\n",
       "CA   113\n",
       "AS   134\n",
       "BK   228\n",
       "FE   248\n",
       "Name: Filed_to_Paid_days, dtype: float64"
      ]
     },
     "execution_count": 50,
     "metadata": {},
     "output_type": "execute_result"
    }
   ],
   "source": [
    "df_paid.groupby('public_record_source_type_code')['Filed_to_Paid_days'].mean().sort_values(ascending=True)[0:5]\n",
    "## for record_source_type, of records with a paid_date, Parish Court the fastest turnaround on average, \n",
    "## followed by County Auditor"
   ]
  },
  {
   "cell_type": "code",
   "execution_count": 51,
   "metadata": {},
   "outputs": [
    {
     "data": {
      "text/plain": [
       "public_record_type_code\n",
       "7F   118\n",
       "7D   131\n",
       "7X   144\n",
       "FT   286\n",
       "CJ   299\n",
       "Name: Filed_to_Paid_days, dtype: float64"
      ]
     },
     "execution_count": 51,
     "metadata": {},
     "output_type": "execute_result"
    }
   ],
   "source": [
    "df_paid.groupby('public_record_type_code')['Filed_to_Paid_days'].mean().sort_values(ascending=True)[0:5]\n",
    "## for record_type, of records with a paid_date, 7F had the fastest turnaround on average, followed by 7D"
   ]
  },
  {
   "cell_type": "code",
   "execution_count": 52,
   "metadata": {},
   "outputs": [
    {
     "data": {
      "text/html": [
       "<div>\n",
       "<style scoped>\n",
       "    .dataframe tbody tr th:only-of-type {\n",
       "        vertical-align: middle;\n",
       "    }\n",
       "\n",
       "    .dataframe tbody tr th {\n",
       "        vertical-align: top;\n",
       "    }\n",
       "\n",
       "    .dataframe thead th {\n",
       "        text-align: right;\n",
       "    }\n",
       "</style>\n",
       "<table border=\"1\" class=\"dataframe\">\n",
       "  <thead>\n",
       "    <tr style=\"text-align: right;\">\n",
       "      <th></th>\n",
       "      <th>analytics_matchkey</th>\n",
       "      <th>industry_code_kind_of_business</th>\n",
       "      <th>reporting_subscriber_code</th>\n",
       "      <th>public_record_type_code</th>\n",
       "      <th>effective_date_date_verified</th>\n",
       "      <th>filed_date</th>\n",
       "      <th>paid_date</th>\n",
       "      <th>amount</th>\n",
       "      <th>public_record_source_type_code</th>\n",
       "      <th>equal_credit_opportunity_act_code</th>\n",
       "      <th>legislative_prohibited_code</th>\n",
       "      <th>month</th>\n",
       "      <th>year</th>\n",
       "      <th>month_year</th>\n",
       "    </tr>\n",
       "  </thead>\n",
       "  <tbody>\n",
       "    <tr>\n",
       "      <th>0</th>\n",
       "      <td>1346747</td>\n",
       "      <td>ZP</td>\n",
       "      <td>99</td>\n",
       "      <td>CJ</td>\n",
       "      <td>2013-06-04</td>\n",
       "      <td>2013-01-29</td>\n",
       "      <td>NaT</td>\n",
       "      <td>1209</td>\n",
       "      <td>CI</td>\n",
       "      <td>I</td>\n",
       "      <td>1</td>\n",
       "      <td>1</td>\n",
       "      <td>2013</td>\n",
       "      <td>1_2013</td>\n",
       "    </tr>\n",
       "    <tr>\n",
       "      <th>1</th>\n",
       "      <td>1346748</td>\n",
       "      <td>ZP</td>\n",
       "      <td>485</td>\n",
       "      <td>7X</td>\n",
       "      <td>2014-09-25</td>\n",
       "      <td>2014-05-06</td>\n",
       "      <td>2014-09-24</td>\n",
       "      <td>nan</td>\n",
       "      <td>FE</td>\n",
       "      <td>I</td>\n",
       "      <td>1</td>\n",
       "      <td>5</td>\n",
       "      <td>2014</td>\n",
       "      <td>5_2014</td>\n",
       "    </tr>\n",
       "    <tr>\n",
       "      <th>2</th>\n",
       "      <td>1346754</td>\n",
       "      <td>Z</td>\n",
       "      <td>11R</td>\n",
       "      <td>SL</td>\n",
       "      <td>2012-01-24</td>\n",
       "      <td>2011-04-05</td>\n",
       "      <td>NaT</td>\n",
       "      <td>2248</td>\n",
       "      <td>RD</td>\n",
       "      <td>I</td>\n",
       "      <td>1</td>\n",
       "      <td>4</td>\n",
       "      <td>2011</td>\n",
       "      <td>4_2011</td>\n",
       "    </tr>\n",
       "    <tr>\n",
       "      <th>3</th>\n",
       "      <td>1346754</td>\n",
       "      <td>ZP</td>\n",
       "      <td>1</td>\n",
       "      <td>7X</td>\n",
       "      <td>2013-01-29</td>\n",
       "      <td>2012-09-28</td>\n",
       "      <td>2013-01-28</td>\n",
       "      <td>nan</td>\n",
       "      <td>FE</td>\n",
       "      <td>C</td>\n",
       "      <td>1</td>\n",
       "      <td>9</td>\n",
       "      <td>2012</td>\n",
       "      <td>9_2012</td>\n",
       "    </tr>\n",
       "    <tr>\n",
       "      <th>4</th>\n",
       "      <td>1346756</td>\n",
       "      <td>ZP</td>\n",
       "      <td>1</td>\n",
       "      <td>RL</td>\n",
       "      <td>2014-09-13</td>\n",
       "      <td>2007-02-02</td>\n",
       "      <td>2014-08-01</td>\n",
       "      <td>406</td>\n",
       "      <td>RD</td>\n",
       "      <td>I</td>\n",
       "      <td>1</td>\n",
       "      <td>2</td>\n",
       "      <td>2007</td>\n",
       "      <td>2_2007</td>\n",
       "    </tr>\n",
       "  </tbody>\n",
       "</table>\n",
       "</div>"
      ],
      "text/plain": [
       "   analytics_matchkey industry_code_kind_of_business  \\\n",
       "0             1346747                             ZP   \n",
       "1             1346748                             ZP   \n",
       "2             1346754                              Z   \n",
       "3             1346754                             ZP   \n",
       "4             1346756                             ZP   \n",
       "\n",
       "  reporting_subscriber_code public_record_type_code  \\\n",
       "0                        99                      CJ   \n",
       "1                       485                      7X   \n",
       "2                       11R                      SL   \n",
       "3                         1                      7X   \n",
       "4                         1                      RL   \n",
       "\n",
       "  effective_date_date_verified filed_date  paid_date  amount  \\\n",
       "0                   2013-06-04 2013-01-29        NaT    1209   \n",
       "1                   2014-09-25 2014-05-06 2014-09-24     nan   \n",
       "2                   2012-01-24 2011-04-05        NaT    2248   \n",
       "3                   2013-01-29 2012-09-28 2013-01-28     nan   \n",
       "4                   2014-09-13 2007-02-02 2014-08-01     406   \n",
       "\n",
       "  public_record_source_type_code equal_credit_opportunity_act_code  \\\n",
       "0                             CI                                 I   \n",
       "1                             FE                                 I   \n",
       "2                             RD                                 I   \n",
       "3                             FE                                 C   \n",
       "4                             RD                                 I   \n",
       "\n",
       "   legislative_prohibited_code month  year month_year  \n",
       "0                            1     1  2013     1_2013  \n",
       "1                            1     5  2014     5_2014  \n",
       "2                            1     4  2011     4_2011  \n",
       "3                            1     9  2012     9_2012  \n",
       "4                            1     2  2007     2_2007  "
      ]
     },
     "execution_count": 52,
     "metadata": {},
     "output_type": "execute_result"
    }
   ],
   "source": [
    "df.head()"
   ]
  },
  {
   "cell_type": "code",
   "execution_count": 53,
   "metadata": {},
   "outputs": [
    {
     "data": {
      "text/html": [
       "<div>\n",
       "<style scoped>\n",
       "    .dataframe tbody tr th:only-of-type {\n",
       "        vertical-align: middle;\n",
       "    }\n",
       "\n",
       "    .dataframe tbody tr th {\n",
       "        vertical-align: top;\n",
       "    }\n",
       "\n",
       "    .dataframe thead th {\n",
       "        text-align: right;\n",
       "    }\n",
       "</style>\n",
       "<table border=\"1\" class=\"dataframe\">\n",
       "  <thead>\n",
       "    <tr style=\"text-align: right;\">\n",
       "      <th></th>\n",
       "      <th>analytics_matchkey</th>\n",
       "      <th>industry_code_kind_of_business</th>\n",
       "      <th>reporting_subscriber_code</th>\n",
       "      <th>public_record_type_code</th>\n",
       "      <th>effective_date_date_verified</th>\n",
       "      <th>filed_date</th>\n",
       "      <th>paid_date</th>\n",
       "      <th>amount</th>\n",
       "      <th>public_record_source_type_code</th>\n",
       "      <th>equal_credit_opportunity_act_code</th>\n",
       "      <th>legislative_prohibited_code</th>\n",
       "      <th>Filed_to_Paid</th>\n",
       "      <th>month</th>\n",
       "      <th>year</th>\n",
       "      <th>Filed_to_Paid_days</th>\n",
       "    </tr>\n",
       "  </thead>\n",
       "  <tbody>\n",
       "    <tr>\n",
       "      <th>1</th>\n",
       "      <td>1346748</td>\n",
       "      <td>ZP</td>\n",
       "      <td>485</td>\n",
       "      <td>7X</td>\n",
       "      <td>2014-09-25</td>\n",
       "      <td>2014-05-06</td>\n",
       "      <td>2014-09-24</td>\n",
       "      <td>nan</td>\n",
       "      <td>FE</td>\n",
       "      <td>I</td>\n",
       "      <td>1</td>\n",
       "      <td>141 days</td>\n",
       "      <td>5</td>\n",
       "      <td>2014</td>\n",
       "      <td>141</td>\n",
       "    </tr>\n",
       "    <tr>\n",
       "      <th>3</th>\n",
       "      <td>1346754</td>\n",
       "      <td>ZP</td>\n",
       "      <td>1</td>\n",
       "      <td>7X</td>\n",
       "      <td>2013-01-29</td>\n",
       "      <td>2012-09-28</td>\n",
       "      <td>2013-01-28</td>\n",
       "      <td>nan</td>\n",
       "      <td>FE</td>\n",
       "      <td>C</td>\n",
       "      <td>1</td>\n",
       "      <td>122 days</td>\n",
       "      <td>9</td>\n",
       "      <td>2012</td>\n",
       "      <td>122</td>\n",
       "    </tr>\n",
       "    <tr>\n",
       "      <th>4</th>\n",
       "      <td>1346756</td>\n",
       "      <td>ZP</td>\n",
       "      <td>1</td>\n",
       "      <td>RL</td>\n",
       "      <td>2014-09-13</td>\n",
       "      <td>2007-02-02</td>\n",
       "      <td>2014-08-01</td>\n",
       "      <td>406</td>\n",
       "      <td>RD</td>\n",
       "      <td>I</td>\n",
       "      <td>1</td>\n",
       "      <td>2737 days</td>\n",
       "      <td>2</td>\n",
       "      <td>2007</td>\n",
       "      <td>2737</td>\n",
       "    </tr>\n",
       "    <tr>\n",
       "      <th>5</th>\n",
       "      <td>1346756</td>\n",
       "      <td>ZP</td>\n",
       "      <td>1</td>\n",
       "      <td>RL</td>\n",
       "      <td>2014-09-13</td>\n",
       "      <td>2008-03-12</td>\n",
       "      <td>2014-08-01</td>\n",
       "      <td>925</td>\n",
       "      <td>RD</td>\n",
       "      <td>I</td>\n",
       "      <td>1</td>\n",
       "      <td>2333 days</td>\n",
       "      <td>3</td>\n",
       "      <td>2008</td>\n",
       "      <td>2333</td>\n",
       "    </tr>\n",
       "    <tr>\n",
       "      <th>6</th>\n",
       "      <td>1346758</td>\n",
       "      <td>ZP</td>\n",
       "      <td>25N</td>\n",
       "      <td>PF</td>\n",
       "      <td>2016-01-22</td>\n",
       "      <td>2008-03-10</td>\n",
       "      <td>2013-05-23</td>\n",
       "      <td>32583</td>\n",
       "      <td>RD</td>\n",
       "      <td>I</td>\n",
       "      <td>1</td>\n",
       "      <td>1900 days</td>\n",
       "      <td>3</td>\n",
       "      <td>2008</td>\n",
       "      <td>1900</td>\n",
       "    </tr>\n",
       "  </tbody>\n",
       "</table>\n",
       "</div>"
      ],
      "text/plain": [
       "   analytics_matchkey industry_code_kind_of_business  \\\n",
       "1             1346748                             ZP   \n",
       "3             1346754                             ZP   \n",
       "4             1346756                             ZP   \n",
       "5             1346756                             ZP   \n",
       "6             1346758                             ZP   \n",
       "\n",
       "  reporting_subscriber_code public_record_type_code  \\\n",
       "1                       485                      7X   \n",
       "3                         1                      7X   \n",
       "4                         1                      RL   \n",
       "5                         1                      RL   \n",
       "6                       25N                      PF   \n",
       "\n",
       "  effective_date_date_verified filed_date  paid_date  amount  \\\n",
       "1                   2014-09-25 2014-05-06 2014-09-24     nan   \n",
       "3                   2013-01-29 2012-09-28 2013-01-28     nan   \n",
       "4                   2014-09-13 2007-02-02 2014-08-01     406   \n",
       "5                   2014-09-13 2008-03-12 2014-08-01     925   \n",
       "6                   2016-01-22 2008-03-10 2013-05-23   32583   \n",
       "\n",
       "  public_record_source_type_code equal_credit_opportunity_act_code  \\\n",
       "1                             FE                                 I   \n",
       "3                             FE                                 C   \n",
       "4                             RD                                 I   \n",
       "5                             RD                                 I   \n",
       "6                             RD                                 I   \n",
       "\n",
       "   legislative_prohibited_code Filed_to_Paid month  year  Filed_to_Paid_days  \n",
       "1                            1      141 days     5  2014                 141  \n",
       "3                            1      122 days     9  2012                 122  \n",
       "4                            1     2737 days     2  2007                2737  \n",
       "5                            1     2333 days     3  2008                2333  \n",
       "6                            1     1900 days     3  2008                1900  "
      ]
     },
     "execution_count": 53,
     "metadata": {},
     "output_type": "execute_result"
    }
   ],
   "source": [
    "df_paid.head()\n"
   ]
  },
  {
   "cell_type": "code",
   "execution_count": 54,
   "metadata": {},
   "outputs": [
    {
     "name": "stderr",
     "output_type": "stream",
     "text": [
      "c:\\users\\roblatch\\desktop\\python35\\lib\\site-packages\\pandas\\core\\generic.py:5209: SettingWithCopyWarning: \n",
      "A value is trying to be set on a copy of a slice from a DataFrame.\n",
      "Try using .loc[row_indexer,col_indexer] = value instead\n",
      "\n",
      "See the caveats in the documentation: http://pandas.pydata.org/pandas-docs/stable/user_guide/indexing.html#returning-a-view-versus-a-copy\n",
      "  self[name] = value\n",
      "c:\\users\\roblatch\\desktop\\python35\\lib\\site-packages\\ipykernel_launcher.py:5: SettingWithCopyWarning: \n",
      "A value is trying to be set on a copy of a slice from a DataFrame.\n",
      "Try using .loc[row_indexer,col_indexer] = value instead\n",
      "\n",
      "See the caveats in the documentation: http://pandas.pydata.org/pandas-docs/stable/user_guide/indexing.html#returning-a-view-versus-a-copy\n",
      "  \"\"\"\n",
      "c:\\users\\roblatch\\desktop\\python35\\lib\\site-packages\\ipykernel_launcher.py:6: SettingWithCopyWarning: \n",
      "A value is trying to be set on a copy of a slice from a DataFrame.\n",
      "Try using .loc[row_indexer,col_indexer] = value instead\n",
      "\n",
      "See the caveats in the documentation: http://pandas.pydata.org/pandas-docs/stable/user_guide/indexing.html#returning-a-view-versus-a-copy\n",
      "  \n",
      "c:\\users\\roblatch\\desktop\\python35\\lib\\site-packages\\ipykernel_launcher.py:7: SettingWithCopyWarning: \n",
      "A value is trying to be set on a copy of a slice from a DataFrame.\n",
      "Try using .loc[row_indexer,col_indexer] = value instead\n",
      "\n",
      "See the caveats in the documentation: http://pandas.pydata.org/pandas-docs/stable/user_guide/indexing.html#returning-a-view-versus-a-copy\n",
      "  import sys\n",
      "c:\\users\\roblatch\\desktop\\python35\\lib\\site-packages\\ipykernel_launcher.py:10: SettingWithCopyWarning: \n",
      "A value is trying to be set on a copy of a slice from a DataFrame.\n",
      "Try using .loc[row_indexer,col_indexer] = value instead\n",
      "\n",
      "See the caveats in the documentation: http://pandas.pydata.org/pandas-docs/stable/user_guide/indexing.html#returning-a-view-versus-a-copy\n",
      "  # Remove the CWD from sys.path while we load stuff.\n"
     ]
    }
   ],
   "source": [
    "## same time conversions as main df, finding year, month, and month_year for each filed_date\n",
    "\n",
    "df_paid.month = df_paid.month.astype(str)\n",
    "df_paid.year = df_paid.year.astype(str)\n",
    "df_paid['month_year'] = df_paid['month'] + \"_\" + df_paid['year']  \n",
    "df_not_paid['month'] = df_not_paid['filed_date'].dt.month ## processing date values for aggregate analysis\n",
    "df_not_paid['year'] = df_not_paid['filed_date'].dt.year\n",
    "df_not_paid.month = df_not_paid.month.astype(str)\n",
    "df_not_paid.year = df_not_paid.year.astype(str)\n",
    "df_not_paid['month_year'] = df_not_paid['month'] + \"_\" + df_not_paid['year']"
   ]
  },
  {
   "cell_type": "code",
   "execution_count": 55,
   "metadata": {},
   "outputs": [
    {
     "data": {
      "text/html": [
       "<div>\n",
       "<style scoped>\n",
       "    .dataframe tbody tr th:only-of-type {\n",
       "        vertical-align: middle;\n",
       "    }\n",
       "\n",
       "    .dataframe tbody tr th {\n",
       "        vertical-align: top;\n",
       "    }\n",
       "\n",
       "    .dataframe thead th {\n",
       "        text-align: right;\n",
       "    }\n",
       "</style>\n",
       "<table border=\"1\" class=\"dataframe\">\n",
       "  <thead>\n",
       "    <tr style=\"text-align: right;\">\n",
       "      <th></th>\n",
       "      <th>month_year</th>\n",
       "      <th>Total_Records_Paid</th>\n",
       "      <th>month</th>\n",
       "      <th>year</th>\n",
       "    </tr>\n",
       "  </thead>\n",
       "  <tbody>\n",
       "    <tr>\n",
       "      <th>0</th>\n",
       "      <td>10_2006</td>\n",
       "      <td>33</td>\n",
       "      <td>10</td>\n",
       "      <td>2006</td>\n",
       "    </tr>\n",
       "    <tr>\n",
       "      <th>10</th>\n",
       "      <td>11_2006</td>\n",
       "      <td>287</td>\n",
       "      <td>11</td>\n",
       "      <td>2006</td>\n",
       "    </tr>\n",
       "    <tr>\n",
       "      <th>20</th>\n",
       "      <td>12_2006</td>\n",
       "      <td>281</td>\n",
       "      <td>12</td>\n",
       "      <td>2006</td>\n",
       "    </tr>\n",
       "    <tr>\n",
       "      <th>30</th>\n",
       "      <td>1_2007</td>\n",
       "      <td>306</td>\n",
       "      <td>01</td>\n",
       "      <td>2007</td>\n",
       "    </tr>\n",
       "    <tr>\n",
       "      <th>40</th>\n",
       "      <td>2_2007</td>\n",
       "      <td>336</td>\n",
       "      <td>02</td>\n",
       "      <td>2007</td>\n",
       "    </tr>\n",
       "  </tbody>\n",
       "</table>\n",
       "</div>"
      ],
      "text/plain": [
       "   month_year  Total_Records_Paid month  year\n",
       "0     10_2006                  33    10  2006\n",
       "10    11_2006                 287    11  2006\n",
       "20    12_2006                 281    12  2006\n",
       "30     1_2007                 306    01  2007\n",
       "40     2_2007                 336    02  2007"
      ]
     },
     "execution_count": 55,
     "metadata": {},
     "output_type": "execute_result"
    }
   ],
   "source": [
    "## find total filed records that DO end up being paid, over a month_year time series\n",
    "paid_month_year = df_paid.groupby(\"month_year\").size()\n",
    "paid_month_year = paid_month_year.to_frame()\n",
    "paid_month_year = paid_month_year.rename(columns={0:'Total_Records_Paid'})\n",
    "paid_month_year = paid_month_year.reset_index().sort_values(by='month_year', ascending=True)\n",
    "paid_month_year[['month','year']] = paid_month_year.month_year.str.split(\"_\", expand=True)\n",
    "paid_month_year['month']=paid_month_year['month'].apply(lambda x: '{0:0>2}'.format(x))\n",
    "paid_month_year = paid_month_year.sort_values(by=['year', 'month'], ascending=True)\n",
    "paid_month_year = paid_month_year.drop(paid_month_year.index[[0,1]])\n",
    "paid_month_year.head()"
   ]
  },
  {
   "cell_type": "code",
   "execution_count": 56,
   "metadata": {},
   "outputs": [
    {
     "data": {
      "text/html": [
       "<div>\n",
       "<style scoped>\n",
       "    .dataframe tbody tr th:only-of-type {\n",
       "        vertical-align: middle;\n",
       "    }\n",
       "\n",
       "    .dataframe tbody tr th {\n",
       "        vertical-align: top;\n",
       "    }\n",
       "\n",
       "    .dataframe thead th {\n",
       "        text-align: right;\n",
       "    }\n",
       "</style>\n",
       "<table border=\"1\" class=\"dataframe\">\n",
       "  <thead>\n",
       "    <tr style=\"text-align: right;\">\n",
       "      <th></th>\n",
       "      <th>month_year</th>\n",
       "      <th>Total_Records_Not_Paid</th>\n",
       "      <th>month</th>\n",
       "      <th>year</th>\n",
       "    </tr>\n",
       "  </thead>\n",
       "  <tbody>\n",
       "    <tr>\n",
       "      <th>0</th>\n",
       "      <td>10_2006</td>\n",
       "      <td>46</td>\n",
       "      <td>10</td>\n",
       "      <td>2006</td>\n",
       "    </tr>\n",
       "    <tr>\n",
       "      <th>10</th>\n",
       "      <td>11_2006</td>\n",
       "      <td>135</td>\n",
       "      <td>11</td>\n",
       "      <td>2006</td>\n",
       "    </tr>\n",
       "    <tr>\n",
       "      <th>20</th>\n",
       "      <td>12_2006</td>\n",
       "      <td>82</td>\n",
       "      <td>12</td>\n",
       "      <td>2006</td>\n",
       "    </tr>\n",
       "    <tr>\n",
       "      <th>30</th>\n",
       "      <td>1_2007</td>\n",
       "      <td>23</td>\n",
       "      <td>01</td>\n",
       "      <td>2007</td>\n",
       "    </tr>\n",
       "    <tr>\n",
       "      <th>40</th>\n",
       "      <td>2_2007</td>\n",
       "      <td>16</td>\n",
       "      <td>02</td>\n",
       "      <td>2007</td>\n",
       "    </tr>\n",
       "  </tbody>\n",
       "</table>\n",
       "</div>"
      ],
      "text/plain": [
       "   month_year  Total_Records_Not_Paid month  year\n",
       "0     10_2006                      46    10  2006\n",
       "10    11_2006                     135    11  2006\n",
       "20    12_2006                      82    12  2006\n",
       "30     1_2007                      23    01  2007\n",
       "40     2_2007                      16    02  2007"
      ]
     },
     "execution_count": 56,
     "metadata": {},
     "output_type": "execute_result"
    }
   ],
   "source": [
    "## find total filed records that DO NOT end up being paid, over a month_year time series\n",
    "not_paid_month_year = df_not_paid.groupby('month_year').size()\n",
    "not_paid_month_year = not_paid_month_year.to_frame()\n",
    "not_paid_month_year = not_paid_month_year.rename(columns={0:'Total_Records_Not_Paid'})\n",
    "not_paid_month_year = not_paid_month_year.reset_index().sort_values(by='month_year', ascending=True)\n",
    "not_paid_month_year[['month','year']] = not_paid_month_year.month_year.str.split(\"_\", expand=True)\n",
    "not_paid_month_year['month']=not_paid_month_year['month'].apply(lambda x: '{0:0>2}'.format(x))\n",
    "not_paid_month_year = not_paid_month_year.sort_values(by=['year', 'month'], ascending=True)\n",
    "not_paid_month_year.head()"
   ]
  },
  {
   "cell_type": "code",
   "execution_count": 57,
   "metadata": {},
   "outputs": [
    {
     "data": {
      "text/html": [
       "<div>\n",
       "<style scoped>\n",
       "    .dataframe tbody tr th:only-of-type {\n",
       "        vertical-align: middle;\n",
       "    }\n",
       "\n",
       "    .dataframe tbody tr th {\n",
       "        vertical-align: top;\n",
       "    }\n",
       "\n",
       "    .dataframe thead th {\n",
       "        text-align: right;\n",
       "    }\n",
       "</style>\n",
       "<table border=\"1\" class=\"dataframe\">\n",
       "  <thead>\n",
       "    <tr style=\"text-align: right;\">\n",
       "      <th></th>\n",
       "      <th>month_year</th>\n",
       "      <th>Total_Records</th>\n",
       "      <th>month</th>\n",
       "      <th>year</th>\n",
       "    </tr>\n",
       "  </thead>\n",
       "  <tbody>\n",
       "    <tr>\n",
       "      <th>0</th>\n",
       "      <td>10_2006</td>\n",
       "      <td>79</td>\n",
       "      <td>10</td>\n",
       "      <td>2006</td>\n",
       "    </tr>\n",
       "    <tr>\n",
       "      <th>10</th>\n",
       "      <td>11_2006</td>\n",
       "      <td>422</td>\n",
       "      <td>11</td>\n",
       "      <td>2006</td>\n",
       "    </tr>\n",
       "    <tr>\n",
       "      <th>20</th>\n",
       "      <td>12_2006</td>\n",
       "      <td>363</td>\n",
       "      <td>12</td>\n",
       "      <td>2006</td>\n",
       "    </tr>\n",
       "    <tr>\n",
       "      <th>30</th>\n",
       "      <td>1_2007</td>\n",
       "      <td>329</td>\n",
       "      <td>01</td>\n",
       "      <td>2007</td>\n",
       "    </tr>\n",
       "    <tr>\n",
       "      <th>40</th>\n",
       "      <td>2_2007</td>\n",
       "      <td>352</td>\n",
       "      <td>02</td>\n",
       "      <td>2007</td>\n",
       "    </tr>\n",
       "    <tr>\n",
       "      <th>50</th>\n",
       "      <td>3_2007</td>\n",
       "      <td>498</td>\n",
       "      <td>03</td>\n",
       "      <td>2007</td>\n",
       "    </tr>\n",
       "    <tr>\n",
       "      <th>61</th>\n",
       "      <td>4_2007</td>\n",
       "      <td>438</td>\n",
       "      <td>04</td>\n",
       "      <td>2007</td>\n",
       "    </tr>\n",
       "    <tr>\n",
       "      <th>71</th>\n",
       "      <td>5_2007</td>\n",
       "      <td>435</td>\n",
       "      <td>05</td>\n",
       "      <td>2007</td>\n",
       "    </tr>\n",
       "    <tr>\n",
       "      <th>82</th>\n",
       "      <td>6_2007</td>\n",
       "      <td>412</td>\n",
       "      <td>06</td>\n",
       "      <td>2007</td>\n",
       "    </tr>\n",
       "    <tr>\n",
       "      <th>92</th>\n",
       "      <td>7_2007</td>\n",
       "      <td>481</td>\n",
       "      <td>07</td>\n",
       "      <td>2007</td>\n",
       "    </tr>\n",
       "  </tbody>\n",
       "</table>\n",
       "</div>"
      ],
      "text/plain": [
       "   month_year  Total_Records month  year\n",
       "0     10_2006             79    10  2006\n",
       "10    11_2006            422    11  2006\n",
       "20    12_2006            363    12  2006\n",
       "30     1_2007            329    01  2007\n",
       "40     2_2007            352    02  2007\n",
       "50     3_2007            498    03  2007\n",
       "61     4_2007            438    04  2007\n",
       "71     5_2007            435    05  2007\n",
       "82     6_2007            412    06  2007\n",
       "92     7_2007            481    07  2007"
      ]
     },
     "execution_count": 57,
     "metadata": {},
     "output_type": "execute_result"
    }
   ],
   "source": [
    "## find total filed records (paid and unpaid), over a month_year time series\n",
    "total_month_year = df.groupby('month_year').size()\n",
    "total_month_year = total_month_year.to_frame()\n",
    "total_month_year = total_month_year.rename(columns={0:'Total_Records'})\n",
    "total_month_year = total_month_year.reset_index().sort_values(by='month_year', ascending=True)\n",
    "total_month_year[['month','year']] = total_month_year.month_year.str.split(\"_\", expand=True)\n",
    "total_month_year['month']=total_month_year['month'].apply(lambda x: '{0:0>2}'.format(x))\n",
    "total_month_year = total_month_year.sort_values(by=['year', 'month'], ascending=True)\n",
    "total_month_year = total_month_year.drop(total_month_year.index[[0,1]])\n",
    "total_month_year.head(10)\n"
   ]
  },
  {
   "cell_type": "code",
   "execution_count": 58,
   "metadata": {},
   "outputs": [
    {
     "data": {
      "image/png": "[encoded data removed]",
      "text/plain": [
       "<Figure size 864x288 with 1 Axes>"
      ]
     },
     "metadata": {
      "needs_background": "light"
     },
     "output_type": "display_data"
    }
   ],
   "source": [
    "plt.figure(figsize=(12,4))\n",
    "plt.plot('month_year','Total_Records', data=total_month_year,  marker='', markersize=12, color='skyblue', linewidth=4)\n",
    "plt.plot('month_year','Total_Records_Paid', data=paid_month_year, color='green', linewidth=2)\n",
    "plt.plot('month_year','Total_Records_Not_Paid', data=not_paid_month_year, marker='', color='red', linewidth=2)\n",
    "ax = plt.gca()\n",
    "temp = ax.xaxis.get_ticklabels()\n",
    "temp = list(set(temp) - set(temp[::12]))\n",
    "for label in temp:\n",
    "    label.set_visible(False)\n",
    "plt.legend()\n",
    "plt.show()\n",
    "## this overlapping line graph shows that there are more records with missing paid_dates overtime! \n",
    "## at beginning of time series, there are close to 0 records without paid_dates, up until the end of 2008/beginning of 2009\n",
    "## There is a massive spike in the number of records at the end of 2008/beginning of 2009 (makes sense...)\n",
    "## At the end of 2009/beginning of 2010, the number of total records and the number of paid records starts declining \n",
    "## However, At the end of 2009/beginning of 2010, the numer of total records not paid (without paid_date) increases (slightly) over time\n",
    "## While the amount of records with no paid_date (unpaid) is less than the number of records with paid_dates, the records\n",
    "## without paid_dates overtake the records WITH paid_dates at the beginning-middle of 2014\n",
    "## Given that our dataset ends in 2016, it's possible some of these records will be paid after 09/2016, which is when our dataset ended\n",
    "## Another analysis I could do is see if the proportion of record_types/record_source_types vary over time as well\n",
    "## Looks like there are seasonal spikes both at the beginning and end of the year - going off of this chart and the\n",
    "## average monthly chart, there are seasonal spikes in records filed in March and August "
   ]
  },
  {
   "cell_type": "code",
   "execution_count": 59,
   "metadata": {},
   "outputs": [
    {
     "data": {
      "text/plain": [
       "public_record_source_type_code\n",
       "CC   13955\n",
       "CR   13579\n",
       "CL   12025\n",
       "SU    8512\n",
       "RD    7702\n",
       "DC    4637\n",
       "MU    3378\n",
       "CI    2876\n",
       "JU    2336\n",
       "CT    2316\n",
       "SC    2091\n",
       "CY    2088\n",
       "CP    2060\n",
       "MA    2036\n",
       "PC    1731\n",
       "CN     720\n",
       "Name: amount, dtype: float64"
      ]
     },
     "execution_count": 59,
     "metadata": {},
     "output_type": "execute_result"
    }
   ],
   "source": [
    "df_amount_not_null.groupby('public_record_source_type_code')['amount'].mean().sort_values(ascending=False)\n",
    "## average amount per record_source_type, CC, CR, and CL have highest average amount values"
   ]
  },
  {
   "cell_type": "code",
   "execution_count": 60,
   "metadata": {},
   "outputs": [
    {
     "data": {
      "text/plain": [
       "public_record_type_code\n",
       "FT   33205\n",
       "PF   23991\n",
       "TB   11739\n",
       "CP    7714\n",
       "CB    5245\n",
       "SL    3238\n",
       "CJ    3157\n",
       "RL    2582\n",
       "PL    1843\n",
       "PC    1792\n",
       "TL     576\n",
       "Name: amount, dtype: float64"
      ]
     },
     "execution_count": 60,
     "metadata": {},
     "output_type": "execute_result"
    }
   ],
   "source": [
    "df_amount_not_null.groupby('public_record_type_code')['amount'].mean().sort_values(ascending=False)\n",
    "## average amount per record_type, FT,PF,TB have highest average amount values"
   ]
  },
  {
   "cell_type": "code",
   "execution_count": 61,
   "metadata": {},
   "outputs": [
    {
     "name": "stdout",
     "output_type": "stream",
     "text": [
      "502\n",
      "13294\n"
     ]
    }
   ],
   "source": [
    "df['year_int'] = df.year.astype(int)\n",
    "df_2006_2008 = df[df['year_int'] < 2009]\n",
    "print(df_2006_2008['paid_date'].isna().sum()) ## confirming that there are very few unpaid records in early years\n",
    "print(df_2006_2008['paid_date'].notna().sum())"
   ]
  },
  {
   "cell_type": "code",
   "execution_count": 62,
   "metadata": {},
   "outputs": [
    {
     "name": "stdout",
     "output_type": "stream",
     "text": [
      "23\n",
      "21\n"
     ]
    },
    {
     "data": {
      "text/plain": [
       "['CJ', '7X', 'PC']"
      ]
     },
     "execution_count": 62,
     "metadata": {},
     "output_type": "execute_result"
    }
   ],
   "source": [
    "print(len(df['public_record_type_code'].unique()))\n",
    "print(len(df['public_record_source_type_code'].unique()))\n",
    "Top_3_record_type_list = record_type_proportions.index.values[0:3].tolist()\n",
    "Top_3_record_type_list"
   ]
  },
  {
   "cell_type": "code",
   "execution_count": 63,
   "metadata": {},
   "outputs": [
    {
     "name": "stdout",
     "output_type": "stream",
     "text": [
      "141716\n"
     ]
    },
    {
     "data": {
      "text/html": [
       "<div>\n",
       "<style scoped>\n",
       "    .dataframe tbody tr th:only-of-type {\n",
       "        vertical-align: middle;\n",
       "    }\n",
       "\n",
       "    .dataframe tbody tr th {\n",
       "        vertical-align: top;\n",
       "    }\n",
       "\n",
       "    .dataframe thead th {\n",
       "        text-align: right;\n",
       "    }\n",
       "</style>\n",
       "<table border=\"1\" class=\"dataframe\">\n",
       "  <thead>\n",
       "    <tr style=\"text-align: right;\">\n",
       "      <th></th>\n",
       "      <th>analytics_matchkey</th>\n",
       "      <th>industry_code_kind_of_business</th>\n",
       "      <th>reporting_subscriber_code</th>\n",
       "      <th>public_record_type_code</th>\n",
       "      <th>effective_date_date_verified</th>\n",
       "      <th>filed_date</th>\n",
       "      <th>paid_date</th>\n",
       "      <th>amount</th>\n",
       "      <th>public_record_source_type_code</th>\n",
       "      <th>equal_credit_opportunity_act_code</th>\n",
       "      <th>legislative_prohibited_code</th>\n",
       "      <th>month</th>\n",
       "      <th>year</th>\n",
       "      <th>month_year</th>\n",
       "      <th>year_int</th>\n",
       "    </tr>\n",
       "  </thead>\n",
       "  <tbody>\n",
       "    <tr>\n",
       "      <th>0</th>\n",
       "      <td>1346747</td>\n",
       "      <td>ZP</td>\n",
       "      <td>99</td>\n",
       "      <td>CJ</td>\n",
       "      <td>2013-06-04</td>\n",
       "      <td>2013-01-29</td>\n",
       "      <td>NaT</td>\n",
       "      <td>1209</td>\n",
       "      <td>CI</td>\n",
       "      <td>I</td>\n",
       "      <td>1</td>\n",
       "      <td>1</td>\n",
       "      <td>2013</td>\n",
       "      <td>1_2013</td>\n",
       "      <td>2013</td>\n",
       "    </tr>\n",
       "    <tr>\n",
       "      <th>1</th>\n",
       "      <td>1346748</td>\n",
       "      <td>ZP</td>\n",
       "      <td>485</td>\n",
       "      <td>7X</td>\n",
       "      <td>2014-09-25</td>\n",
       "      <td>2014-05-06</td>\n",
       "      <td>2014-09-24</td>\n",
       "      <td>nan</td>\n",
       "      <td>FE</td>\n",
       "      <td>I</td>\n",
       "      <td>1</td>\n",
       "      <td>5</td>\n",
       "      <td>2014</td>\n",
       "      <td>5_2014</td>\n",
       "      <td>2014</td>\n",
       "    </tr>\n",
       "    <tr>\n",
       "      <th>3</th>\n",
       "      <td>1346754</td>\n",
       "      <td>ZP</td>\n",
       "      <td>1</td>\n",
       "      <td>7X</td>\n",
       "      <td>2013-01-29</td>\n",
       "      <td>2012-09-28</td>\n",
       "      <td>2013-01-28</td>\n",
       "      <td>nan</td>\n",
       "      <td>FE</td>\n",
       "      <td>C</td>\n",
       "      <td>1</td>\n",
       "      <td>9</td>\n",
       "      <td>2012</td>\n",
       "      <td>9_2012</td>\n",
       "      <td>2012</td>\n",
       "    </tr>\n",
       "    <tr>\n",
       "      <th>7</th>\n",
       "      <td>1346760</td>\n",
       "      <td>Z</td>\n",
       "      <td>13Q</td>\n",
       "      <td>CJ</td>\n",
       "      <td>2016-06-22</td>\n",
       "      <td>2016-04-01</td>\n",
       "      <td>NaT</td>\n",
       "      <td>10116</td>\n",
       "      <td>CI</td>\n",
       "      <td>I</td>\n",
       "      <td>1</td>\n",
       "      <td>4</td>\n",
       "      <td>2016</td>\n",
       "      <td>4_2016</td>\n",
       "      <td>2016</td>\n",
       "    </tr>\n",
       "    <tr>\n",
       "      <th>8</th>\n",
       "      <td>1346766</td>\n",
       "      <td>ZP</td>\n",
       "      <td>52Z</td>\n",
       "      <td>CJ</td>\n",
       "      <td>2016-05-13</td>\n",
       "      <td>2014-08-11</td>\n",
       "      <td>NaT</td>\n",
       "      <td>1590</td>\n",
       "      <td>CI</td>\n",
       "      <td>I</td>\n",
       "      <td>1</td>\n",
       "      <td>8</td>\n",
       "      <td>2014</td>\n",
       "      <td>8_2014</td>\n",
       "      <td>2014</td>\n",
       "    </tr>\n",
       "  </tbody>\n",
       "</table>\n",
       "</div>"
      ],
      "text/plain": [
       "   analytics_matchkey industry_code_kind_of_business  \\\n",
       "0             1346747                             ZP   \n",
       "1             1346748                             ZP   \n",
       "3             1346754                             ZP   \n",
       "7             1346760                              Z   \n",
       "8             1346766                             ZP   \n",
       "\n",
       "  reporting_subscriber_code public_record_type_code  \\\n",
       "0                        99                      CJ   \n",
       "1                       485                      7X   \n",
       "3                         1                      7X   \n",
       "7                       13Q                      CJ   \n",
       "8                       52Z                      CJ   \n",
       "\n",
       "  effective_date_date_verified filed_date  paid_date  amount  \\\n",
       "0                   2013-06-04 2013-01-29        NaT    1209   \n",
       "1                   2014-09-25 2014-05-06 2014-09-24     nan   \n",
       "3                   2013-01-29 2012-09-28 2013-01-28     nan   \n",
       "7                   2016-06-22 2016-04-01        NaT   10116   \n",
       "8                   2016-05-13 2014-08-11        NaT    1590   \n",
       "\n",
       "  public_record_source_type_code equal_credit_opportunity_act_code  \\\n",
       "0                             CI                                 I   \n",
       "1                             FE                                 I   \n",
       "3                             FE                                 C   \n",
       "7                             CI                                 I   \n",
       "8                             CI                                 I   \n",
       "\n",
       "   legislative_prohibited_code month  year month_year  year_int  \n",
       "0                            1     1  2013     1_2013      2013  \n",
       "1                            1     5  2014     5_2014      2014  \n",
       "3                            1     9  2012     9_2012      2012  \n",
       "7                            1     4  2016     4_2016      2016  \n",
       "8                            1     8  2014     8_2014      2014  "
      ]
     },
     "execution_count": 63,
     "metadata": {},
     "output_type": "execute_result"
    }
   ],
   "source": [
    "df_top_3_record_types = df[(df['public_record_type_code'] == Top_3_record_type_list[0]) |(df['public_record_type_code'] == Top_3_record_type_list[1]) | (df['public_record_type_code'] == Top_3_record_type_list[2])]\n",
    "print(df_top_3_record_types.shape[0])\n",
    "df_top_3_record_types.head()"
   ]
  },
  {
   "cell_type": "code",
   "execution_count": 64,
   "metadata": {},
   "outputs": [
    {
     "data": {
      "text/plain": [
       "year  public_record_type_code\n",
       "2006  7X                          396\n",
       "2007  7X                         3721\n",
       "2008  7X                         5322\n",
       "2009  7X                         7269\n",
       "      CJ                         1712\n",
       "Name: analytics_matchkey, dtype: int64"
      ]
     },
     "execution_count": 64,
     "metadata": {},
     "output_type": "execute_result"
    }
   ],
   "source": [
    "grouped_top_3 = df_top_3_record_types.groupby(['year', 'public_record_type_code'])['analytics_matchkey'].size()\n",
    "grouped_top_3.head()"
   ]
  },
  {
   "cell_type": "code",
   "execution_count": 65,
   "metadata": {},
   "outputs": [],
   "source": [
    "record_type_pcts = grouped_top_3.groupby(level=0).apply(lambda x:\n",
    "                                                 100 * x / float(x.sum()))\n",
    "record_type_pcts = record_type_pcts.to_frame()\n",
    "record_type_pcts = record_type_pcts.reset_index()\n",
    "record_type_pcts = record_type_pcts.set_index(['year', 'public_record_type_code']).analytics_matchkey"
   ]
  },
  {
   "cell_type": "code",
   "execution_count": 66,
   "metadata": {},
   "outputs": [
    {
     "data": {
      "text/plain": [
       "Text(0.5, 1.0, 'Proportion of public_record_type per Year')"
      ]
     },
     "execution_count": 66,
     "metadata": {},
     "output_type": "execute_result"
    },
    {
     "data": {
      "image/png": "[encoded data removed]",
      "text/plain": [
       "<Figure size 504x360 with 1 Axes>"
      ]
     },
     "metadata": {
      "needs_background": "light"
     },
     "output_type": "display_data"
    }
   ],
   "source": [
    "record_type_pcts.unstack().plot(kind='bar', stacked=True, figsize=(7,5));\n",
    "plt.title(\"Proportion of public_record_type per Year\")\n",
    "## First three years are all type 7X (when comparing top 3 record_types),\n",
    "## then progressively proportion becomes more and more type CJ compared to other record_types within the top 3"
   ]
  },
  {
   "cell_type": "code",
   "execution_count": 67,
   "metadata": {},
   "outputs": [
    {
     "data": {
      "text/plain": [
       "['CI', 'FE', 'RD']"
      ]
     },
     "execution_count": 67,
     "metadata": {},
     "output_type": "execute_result"
    }
   ],
   "source": [
    "Top_5_public_record_source_types = df['public_record_source_type_code'].value_counts(normalize=True)[0:5]*100 \n",
    "Top_3_record_source_type_list = Top_5_public_record_source_types.index.values[0:3].tolist()\n",
    "Top_3_record_source_type_list"
   ]
  },
  {
   "cell_type": "code",
   "execution_count": 68,
   "metadata": {},
   "outputs": [
    {
     "name": "stdout",
     "output_type": "stream",
     "text": [
      "210998\n"
     ]
    },
    {
     "data": {
      "text/html": [
       "<div>\n",
       "<style scoped>\n",
       "    .dataframe tbody tr th:only-of-type {\n",
       "        vertical-align: middle;\n",
       "    }\n",
       "\n",
       "    .dataframe tbody tr th {\n",
       "        vertical-align: top;\n",
       "    }\n",
       "\n",
       "    .dataframe thead th {\n",
       "        text-align: right;\n",
       "    }\n",
       "</style>\n",
       "<table border=\"1\" class=\"dataframe\">\n",
       "  <thead>\n",
       "    <tr style=\"text-align: right;\">\n",
       "      <th></th>\n",
       "      <th>analytics_matchkey</th>\n",
       "      <th>industry_code_kind_of_business</th>\n",
       "      <th>reporting_subscriber_code</th>\n",
       "      <th>public_record_type_code</th>\n",
       "      <th>effective_date_date_verified</th>\n",
       "      <th>filed_date</th>\n",
       "      <th>paid_date</th>\n",
       "      <th>amount</th>\n",
       "      <th>public_record_source_type_code</th>\n",
       "      <th>equal_credit_opportunity_act_code</th>\n",
       "      <th>legislative_prohibited_code</th>\n",
       "      <th>month</th>\n",
       "      <th>year</th>\n",
       "      <th>month_year</th>\n",
       "      <th>year_int</th>\n",
       "    </tr>\n",
       "  </thead>\n",
       "  <tbody>\n",
       "    <tr>\n",
       "      <th>0</th>\n",
       "      <td>1346747</td>\n",
       "      <td>ZP</td>\n",
       "      <td>99</td>\n",
       "      <td>CJ</td>\n",
       "      <td>2013-06-04</td>\n",
       "      <td>2013-01-29</td>\n",
       "      <td>NaT</td>\n",
       "      <td>1209</td>\n",
       "      <td>CI</td>\n",
       "      <td>I</td>\n",
       "      <td>1</td>\n",
       "      <td>1</td>\n",
       "      <td>2013</td>\n",
       "      <td>1_2013</td>\n",
       "      <td>2013</td>\n",
       "    </tr>\n",
       "    <tr>\n",
       "      <th>1</th>\n",
       "      <td>1346748</td>\n",
       "      <td>ZP</td>\n",
       "      <td>485</td>\n",
       "      <td>7X</td>\n",
       "      <td>2014-09-25</td>\n",
       "      <td>2014-05-06</td>\n",
       "      <td>2014-09-24</td>\n",
       "      <td>nan</td>\n",
       "      <td>FE</td>\n",
       "      <td>I</td>\n",
       "      <td>1</td>\n",
       "      <td>5</td>\n",
       "      <td>2014</td>\n",
       "      <td>5_2014</td>\n",
       "      <td>2014</td>\n",
       "    </tr>\n",
       "    <tr>\n",
       "      <th>2</th>\n",
       "      <td>1346754</td>\n",
       "      <td>Z</td>\n",
       "      <td>11R</td>\n",
       "      <td>SL</td>\n",
       "      <td>2012-01-24</td>\n",
       "      <td>2011-04-05</td>\n",
       "      <td>NaT</td>\n",
       "      <td>2248</td>\n",
       "      <td>RD</td>\n",
       "      <td>I</td>\n",
       "      <td>1</td>\n",
       "      <td>4</td>\n",
       "      <td>2011</td>\n",
       "      <td>4_2011</td>\n",
       "      <td>2011</td>\n",
       "    </tr>\n",
       "    <tr>\n",
       "      <th>3</th>\n",
       "      <td>1346754</td>\n",
       "      <td>ZP</td>\n",
       "      <td>1</td>\n",
       "      <td>7X</td>\n",
       "      <td>2013-01-29</td>\n",
       "      <td>2012-09-28</td>\n",
       "      <td>2013-01-28</td>\n",
       "      <td>nan</td>\n",
       "      <td>FE</td>\n",
       "      <td>C</td>\n",
       "      <td>1</td>\n",
       "      <td>9</td>\n",
       "      <td>2012</td>\n",
       "      <td>9_2012</td>\n",
       "      <td>2012</td>\n",
       "    </tr>\n",
       "    <tr>\n",
       "      <th>4</th>\n",
       "      <td>1346756</td>\n",
       "      <td>ZP</td>\n",
       "      <td>1</td>\n",
       "      <td>RL</td>\n",
       "      <td>2014-09-13</td>\n",
       "      <td>2007-02-02</td>\n",
       "      <td>2014-08-01</td>\n",
       "      <td>406</td>\n",
       "      <td>RD</td>\n",
       "      <td>I</td>\n",
       "      <td>1</td>\n",
       "      <td>2</td>\n",
       "      <td>2007</td>\n",
       "      <td>2_2007</td>\n",
       "      <td>2007</td>\n",
       "    </tr>\n",
       "  </tbody>\n",
       "</table>\n",
       "</div>"
      ],
      "text/plain": [
       "   analytics_matchkey industry_code_kind_of_business  \\\n",
       "0             1346747                             ZP   \n",
       "1             1346748                             ZP   \n",
       "2             1346754                              Z   \n",
       "3             1346754                             ZP   \n",
       "4             1346756                             ZP   \n",
       "\n",
       "  reporting_subscriber_code public_record_type_code  \\\n",
       "0                        99                      CJ   \n",
       "1                       485                      7X   \n",
       "2                       11R                      SL   \n",
       "3                         1                      7X   \n",
       "4                         1                      RL   \n",
       "\n",
       "  effective_date_date_verified filed_date  paid_date  amount  \\\n",
       "0                   2013-06-04 2013-01-29        NaT    1209   \n",
       "1                   2014-09-25 2014-05-06 2014-09-24     nan   \n",
       "2                   2012-01-24 2011-04-05        NaT    2248   \n",
       "3                   2013-01-29 2012-09-28 2013-01-28     nan   \n",
       "4                   2014-09-13 2007-02-02 2014-08-01     406   \n",
       "\n",
       "  public_record_source_type_code equal_credit_opportunity_act_code  \\\n",
       "0                             CI                                 I   \n",
       "1                             FE                                 I   \n",
       "2                             RD                                 I   \n",
       "3                             FE                                 C   \n",
       "4                             RD                                 I   \n",
       "\n",
       "   legislative_prohibited_code month  year month_year  year_int  \n",
       "0                            1     1  2013     1_2013      2013  \n",
       "1                            1     5  2014     5_2014      2014  \n",
       "2                            1     4  2011     4_2011      2011  \n",
       "3                            1     9  2012     9_2012      2012  \n",
       "4                            1     2  2007     2_2007      2007  "
      ]
     },
     "execution_count": 68,
     "metadata": {},
     "output_type": "execute_result"
    }
   ],
   "source": [
    "df_top_3_record_source_types = df[(df['public_record_source_type_code'] == Top_3_record_source_type_list[0]) |(df['public_record_source_type_code'] == Top_3_record_source_type_list[1]) | (df['public_record_source_type_code'] == Top_3_record_source_type_list[2])]\n",
    "print(df_top_3_record_source_types.shape[0])\n",
    "df_top_3_record_source_types.head()"
   ]
  },
  {
   "cell_type": "code",
   "execution_count": 69,
   "metadata": {},
   "outputs": [
    {
     "data": {
      "text/plain": [
       "year  public_record_source_type_code\n",
       "2006  CI                                   5\n",
       "      FE                                 411\n",
       "      RD                                 372\n",
       "2007  CI                                   9\n",
       "      FE                                3676\n",
       "Name: analytics_matchkey, dtype: int64"
      ]
     },
     "execution_count": 69,
     "metadata": {},
     "output_type": "execute_result"
    }
   ],
   "source": [
    "grouped_top_3_source = df_top_3_record_source_types.groupby(['year', 'public_record_source_type_code'])['analytics_matchkey'].size()\n",
    "grouped_top_3_source.head()"
   ]
  },
  {
   "cell_type": "code",
   "execution_count": 70,
   "metadata": {},
   "outputs": [],
   "source": [
    "record_source_type_pcts = grouped_top_3_source.groupby(level=0).apply(lambda x:\n",
    "                                                 100 * x / float(x.sum()))\n",
    "record_source_type_pcts = record_source_type_pcts.to_frame()\n",
    "record_source_type_pcts = record_source_type_pcts.reset_index()\n",
    "record_source_type_pcts = record_source_type_pcts.set_index(['year', 'public_record_source_type_code']).analytics_matchkey"
   ]
  },
  {
   "cell_type": "code",
   "execution_count": 71,
   "metadata": {},
   "outputs": [
    {
     "data": {
      "text/plain": [
       "Text(0.5, 1.0, 'Proportion of public_record_source_type per Year')"
      ]
     },
     "execution_count": 71,
     "metadata": {},
     "output_type": "execute_result"
    },
    {
     "data": {
      "image/png": "[encoded data removed]",
      "text/plain": [
       "<Figure size 504x360 with 1 Axes>"
      ]
     },
     "metadata": {
      "needs_background": "light"
     },
     "output_type": "display_data"
    }
   ],
   "source": [
    "record_source_type_pcts.unstack().plot(kind='bar', stacked=True, figsize=(7,5));\n",
    "plt.title(\"Proportion of public_record_source_type per Year\")\n",
    "## First three years are only FE and RD, of top 3 record_source_types\n",
    "## then from 2010 and on CI is the largest proportion within public_record_source_types (of top 3 record_source_types)"
   ]
  },
  {
   "cell_type": "code",
   "execution_count": null,
   "metadata": {},
   "outputs": [],
   "source": []
  }
 ],
 "metadata": {
  "kernelspec": {
   "display_name": "Python 3",
   "language": "python",
   "name": "python3"
  },
  "language_info": {
   "codemirror_mode": {
    "name": "ipython",
    "version": 3
   },
   "file_extension": ".py",
   "mimetype": "text/x-python",
   "name": "python",
   "nbconvert_exporter": "python",
   "pygments_lexer": "ipython3",
   "version": "3.5.4rc1"
  }
 },
 "nbformat": 4,
 "nbformat_minor": 2
}
