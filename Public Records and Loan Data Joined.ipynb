{
 "cells": [
  {
   "cell_type": "code",
   "execution_count": 1,
   "metadata": {},
   "outputs": [],
   "source": [
    "import pandas as pd\n",
    "import numpy as np\n",
    "import matplotlib.pyplot as plt\n",
    "import seaborn as sns\n",
    "import statsmodels.api as sm\n",
    "\n",
    "%matplotlib inline"
   ]
  },
  {
   "cell_type": "code",
   "execution_count": 2,
   "metadata": {},
   "outputs": [],
   "source": [
    "df = pd.read_csv(\"Public_records.csv\", header=0, usecols=[0, 1, 2, 3, 4, 5, 6, 7, 8, 9, 10]) ## read in public records data"
   ]
  },
  {
   "cell_type": "code",
   "execution_count": 3,
   "metadata": {
    "scrolled": true
   },
   "outputs": [
    {
     "data": {
      "text/html": [
       "<div>\n",
       "<style scoped>\n",
       "    .dataframe tbody tr th:only-of-type {\n",
       "        vertical-align: middle;\n",
       "    }\n",
       "\n",
       "    .dataframe tbody tr th {\n",
       "        vertical-align: top;\n",
       "    }\n",
       "\n",
       "    .dataframe thead th {\n",
       "        text-align: right;\n",
       "    }\n",
       "</style>\n",
       "<table border=\"1\" class=\"dataframe\">\n",
       "  <thead>\n",
       "    <tr style=\"text-align: right;\">\n",
       "      <th></th>\n",
       "      <th>analytics_matchkey</th>\n",
       "      <th>industry_code_kind_of_business</th>\n",
       "      <th>reporting_subscriber_code</th>\n",
       "      <th>public_record_type_code</th>\n",
       "      <th>effective_date_date_verified</th>\n",
       "      <th>filed_date</th>\n",
       "      <th>paid_date</th>\n",
       "      <th>amount</th>\n",
       "      <th>public_record_source_type_code</th>\n",
       "      <th>equal_credit_opportunity_act_code</th>\n",
       "      <th>legislative_prohibited_code</th>\n",
       "    </tr>\n",
       "  </thead>\n",
       "  <tbody>\n",
       "    <tr>\n",
       "      <th>0</th>\n",
       "      <td>1346747</td>\n",
       "      <td>ZP</td>\n",
       "      <td>99</td>\n",
       "      <td>CJ</td>\n",
       "      <td>2013-06-04</td>\n",
       "      <td>2013-01-29</td>\n",
       "      <td>NaT</td>\n",
       "      <td>1209</td>\n",
       "      <td>CI</td>\n",
       "      <td>I</td>\n",
       "      <td>1</td>\n",
       "    </tr>\n",
       "    <tr>\n",
       "      <th>1</th>\n",
       "      <td>1346748</td>\n",
       "      <td>ZP</td>\n",
       "      <td>485</td>\n",
       "      <td>7X</td>\n",
       "      <td>2014-09-25</td>\n",
       "      <td>2014-05-06</td>\n",
       "      <td>2014-09-24</td>\n",
       "      <td>nan</td>\n",
       "      <td>FE</td>\n",
       "      <td>I</td>\n",
       "      <td>1</td>\n",
       "    </tr>\n",
       "    <tr>\n",
       "      <th>2</th>\n",
       "      <td>1346754</td>\n",
       "      <td>Z</td>\n",
       "      <td>11R</td>\n",
       "      <td>SL</td>\n",
       "      <td>2012-01-24</td>\n",
       "      <td>2011-04-05</td>\n",
       "      <td>NaT</td>\n",
       "      <td>2248</td>\n",
       "      <td>RD</td>\n",
       "      <td>I</td>\n",
       "      <td>1</td>\n",
       "    </tr>\n",
       "    <tr>\n",
       "      <th>3</th>\n",
       "      <td>1346754</td>\n",
       "      <td>ZP</td>\n",
       "      <td>1</td>\n",
       "      <td>7X</td>\n",
       "      <td>2013-01-29</td>\n",
       "      <td>2012-09-28</td>\n",
       "      <td>2013-01-28</td>\n",
       "      <td>nan</td>\n",
       "      <td>FE</td>\n",
       "      <td>C</td>\n",
       "      <td>1</td>\n",
       "    </tr>\n",
       "    <tr>\n",
       "      <th>4</th>\n",
       "      <td>1346756</td>\n",
       "      <td>ZP</td>\n",
       "      <td>1</td>\n",
       "      <td>RL</td>\n",
       "      <td>2014-09-13</td>\n",
       "      <td>2007-02-02</td>\n",
       "      <td>2014-08-01</td>\n",
       "      <td>406</td>\n",
       "      <td>RD</td>\n",
       "      <td>I</td>\n",
       "      <td>1</td>\n",
       "    </tr>\n",
       "  </tbody>\n",
       "</table>\n",
       "</div>"
      ],
      "text/plain": [
       "   analytics_matchkey industry_code_kind_of_business  \\\n",
       "0             1346747                             ZP   \n",
       "1             1346748                             ZP   \n",
       "2             1346754                              Z   \n",
       "3             1346754                             ZP   \n",
       "4             1346756                             ZP   \n",
       "\n",
       "  reporting_subscriber_code public_record_type_code  \\\n",
       "0                        99                      CJ   \n",
       "1                       485                      7X   \n",
       "2                       11R                      SL   \n",
       "3                         1                      7X   \n",
       "4                         1                      RL   \n",
       "\n",
       "  effective_date_date_verified filed_date  paid_date  amount  \\\n",
       "0                   2013-06-04 2013-01-29        NaT    1209   \n",
       "1                   2014-09-25 2014-05-06 2014-09-24     nan   \n",
       "2                   2012-01-24 2011-04-05        NaT    2248   \n",
       "3                   2013-01-29 2012-09-28 2013-01-28     nan   \n",
       "4                   2014-09-13 2007-02-02 2014-08-01     406   \n",
       "\n",
       "  public_record_source_type_code equal_credit_opportunity_act_code  \\\n",
       "0                             CI                                 I   \n",
       "1                             FE                                 I   \n",
       "2                             RD                                 I   \n",
       "3                             FE                                 C   \n",
       "4                             RD                                 I   \n",
       "\n",
       "   legislative_prohibited_code  \n",
       "0                            1  \n",
       "1                            1  \n",
       "2                            1  \n",
       "3                            1  \n",
       "4                            1  "
      ]
     },
     "execution_count": 3,
     "metadata": {},
     "output_type": "execute_result"
    }
   ],
   "source": [
    "pd.options.display.float_format = '{:.0f}'.format\n",
    "df['filed_date'] = pd.to_datetime(df['filed_date'], yearfirst=True, format='%Y%m%d') ## change formats for later analysis\n",
    "df['effective_date_date_verified'] = pd.to_datetime(df['effective_date_date_verified'], yearfirst=True, format='%Y%m%d')\n",
    "df['paid_date'] = pd.to_datetime(df['paid_date'], yearfirst=True, format='%Y%m%d')\n",
    "df.head()"
   ]
  },
  {
   "cell_type": "code",
   "execution_count": 4,
   "metadata": {},
   "outputs": [
    {
     "data": {
      "text/html": [
       "<div>\n",
       "<style scoped>\n",
       "    .dataframe tbody tr th:only-of-type {\n",
       "        vertical-align: middle;\n",
       "    }\n",
       "\n",
       "    .dataframe tbody tr th {\n",
       "        vertical-align: top;\n",
       "    }\n",
       "\n",
       "    .dataframe thead th {\n",
       "        text-align: right;\n",
       "    }\n",
       "</style>\n",
       "<table border=\"1\" class=\"dataframe\">\n",
       "  <thead>\n",
       "    <tr style=\"text-align: right;\">\n",
       "      <th></th>\n",
       "      <th>analytics_matchkey</th>\n",
       "      <th>max_loan_amount</th>\n",
       "      <th>late_30_days</th>\n",
       "      <th>late_60_days</th>\n",
       "      <th>late_90_days</th>\n",
       "    </tr>\n",
       "  </thead>\n",
       "  <tbody>\n",
       "    <tr>\n",
       "      <th>0</th>\n",
       "      <td>1346745</td>\n",
       "      <td>2500</td>\n",
       "      <td>0</td>\n",
       "      <td>0</td>\n",
       "      <td>0</td>\n",
       "    </tr>\n",
       "    <tr>\n",
       "      <th>1</th>\n",
       "      <td>1346746</td>\n",
       "      <td>1000</td>\n",
       "      <td>0</td>\n",
       "      <td>0</td>\n",
       "      <td>0</td>\n",
       "    </tr>\n",
       "    <tr>\n",
       "      <th>2</th>\n",
       "      <td>1346747</td>\n",
       "      <td>1002</td>\n",
       "      <td>0</td>\n",
       "      <td>0</td>\n",
       "      <td>0</td>\n",
       "    </tr>\n",
       "    <tr>\n",
       "      <th>3</th>\n",
       "      <td>1346748</td>\n",
       "      <td>1500</td>\n",
       "      <td>0</td>\n",
       "      <td>0</td>\n",
       "      <td>0</td>\n",
       "    </tr>\n",
       "    <tr>\n",
       "      <th>4</th>\n",
       "      <td>1346749</td>\n",
       "      <td>1675</td>\n",
       "      <td>0</td>\n",
       "      <td>0</td>\n",
       "      <td>0</td>\n",
       "    </tr>\n",
       "  </tbody>\n",
       "</table>\n",
       "</div>"
      ],
      "text/plain": [
       "   analytics_matchkey  max_loan_amount  late_30_days  late_60_days  \\\n",
       "0             1346745             2500             0             0   \n",
       "1             1346746             1000             0             0   \n",
       "2             1346747             1002             0             0   \n",
       "3             1346748             1500             0             0   \n",
       "4             1346749             1675             0             0   \n",
       "\n",
       "   late_90_days  \n",
       "0             0  \n",
       "1             0  \n",
       "2             0  \n",
       "3             0  \n",
       "4             0  "
      ]
     },
     "execution_count": 4,
     "metadata": {},
     "output_type": "execute_result"
    }
   ],
   "source": [
    "df_loans = pd.read_csv(\"Loan_performance.csv\", header=0) ### read in loan performance data \n",
    "df_loans.head()"
   ]
  },
  {
   "cell_type": "code",
   "execution_count": 5,
   "metadata": {},
   "outputs": [],
   "source": [
    "df_joined = df.merge(df_loans, left_on=\"analytics_matchkey\", right_on='analytics_matchkey', how='outer', indicator=True)"
   ]
  },
  {
   "cell_type": "code",
   "execution_count": 6,
   "metadata": {},
   "outputs": [
    {
     "data": {
      "text/html": [
       "<div>\n",
       "<style scoped>\n",
       "    .dataframe tbody tr th:only-of-type {\n",
       "        vertical-align: middle;\n",
       "    }\n",
       "\n",
       "    .dataframe tbody tr th {\n",
       "        vertical-align: top;\n",
       "    }\n",
       "\n",
       "    .dataframe thead th {\n",
       "        text-align: right;\n",
       "    }\n",
       "</style>\n",
       "<table border=\"1\" class=\"dataframe\">\n",
       "  <thead>\n",
       "    <tr style=\"text-align: right;\">\n",
       "      <th></th>\n",
       "      <th>analytics_matchkey</th>\n",
       "      <th>industry_code_kind_of_business</th>\n",
       "      <th>reporting_subscriber_code</th>\n",
       "      <th>public_record_type_code</th>\n",
       "      <th>effective_date_date_verified</th>\n",
       "      <th>filed_date</th>\n",
       "      <th>paid_date</th>\n",
       "      <th>amount</th>\n",
       "      <th>public_record_source_type_code</th>\n",
       "      <th>equal_credit_opportunity_act_code</th>\n",
       "      <th>legislative_prohibited_code</th>\n",
       "      <th>max_loan_amount</th>\n",
       "      <th>late_30_days</th>\n",
       "      <th>late_60_days</th>\n",
       "      <th>late_90_days</th>\n",
       "      <th>_merge</th>\n",
       "    </tr>\n",
       "  </thead>\n",
       "  <tbody>\n",
       "    <tr>\n",
       "      <th>0</th>\n",
       "      <td>1346747</td>\n",
       "      <td>ZP</td>\n",
       "      <td>99</td>\n",
       "      <td>CJ</td>\n",
       "      <td>2013-06-04</td>\n",
       "      <td>2013-01-29</td>\n",
       "      <td>NaT</td>\n",
       "      <td>1209</td>\n",
       "      <td>CI</td>\n",
       "      <td>I</td>\n",
       "      <td>1</td>\n",
       "      <td>1002</td>\n",
       "      <td>0</td>\n",
       "      <td>0</td>\n",
       "      <td>0</td>\n",
       "      <td>both</td>\n",
       "    </tr>\n",
       "    <tr>\n",
       "      <th>1</th>\n",
       "      <td>1346748</td>\n",
       "      <td>ZP</td>\n",
       "      <td>485</td>\n",
       "      <td>7X</td>\n",
       "      <td>2014-09-25</td>\n",
       "      <td>2014-05-06</td>\n",
       "      <td>2014-09-24</td>\n",
       "      <td>nan</td>\n",
       "      <td>FE</td>\n",
       "      <td>I</td>\n",
       "      <td>1</td>\n",
       "      <td>1500</td>\n",
       "      <td>0</td>\n",
       "      <td>0</td>\n",
       "      <td>0</td>\n",
       "      <td>both</td>\n",
       "    </tr>\n",
       "    <tr>\n",
       "      <th>2</th>\n",
       "      <td>1346754</td>\n",
       "      <td>Z</td>\n",
       "      <td>11R</td>\n",
       "      <td>SL</td>\n",
       "      <td>2012-01-24</td>\n",
       "      <td>2011-04-05</td>\n",
       "      <td>NaT</td>\n",
       "      <td>2248</td>\n",
       "      <td>RD</td>\n",
       "      <td>I</td>\n",
       "      <td>1</td>\n",
       "      <td>1025</td>\n",
       "      <td>0</td>\n",
       "      <td>0</td>\n",
       "      <td>0</td>\n",
       "      <td>both</td>\n",
       "    </tr>\n",
       "    <tr>\n",
       "      <th>3</th>\n",
       "      <td>1346754</td>\n",
       "      <td>ZP</td>\n",
       "      <td>1</td>\n",
       "      <td>7X</td>\n",
       "      <td>2013-01-29</td>\n",
       "      <td>2012-09-28</td>\n",
       "      <td>2013-01-28</td>\n",
       "      <td>nan</td>\n",
       "      <td>FE</td>\n",
       "      <td>C</td>\n",
       "      <td>1</td>\n",
       "      <td>1025</td>\n",
       "      <td>0</td>\n",
       "      <td>0</td>\n",
       "      <td>0</td>\n",
       "      <td>both</td>\n",
       "    </tr>\n",
       "    <tr>\n",
       "      <th>4</th>\n",
       "      <td>1346756</td>\n",
       "      <td>ZP</td>\n",
       "      <td>1</td>\n",
       "      <td>RL</td>\n",
       "      <td>2014-09-13</td>\n",
       "      <td>2007-02-02</td>\n",
       "      <td>2014-08-01</td>\n",
       "      <td>406</td>\n",
       "      <td>RD</td>\n",
       "      <td>I</td>\n",
       "      <td>1</td>\n",
       "      <td>2500</td>\n",
       "      <td>0</td>\n",
       "      <td>0</td>\n",
       "      <td>0</td>\n",
       "      <td>both</td>\n",
       "    </tr>\n",
       "  </tbody>\n",
       "</table>\n",
       "</div>"
      ],
      "text/plain": [
       "   analytics_matchkey industry_code_kind_of_business  \\\n",
       "0             1346747                             ZP   \n",
       "1             1346748                             ZP   \n",
       "2             1346754                              Z   \n",
       "3             1346754                             ZP   \n",
       "4             1346756                             ZP   \n",
       "\n",
       "  reporting_subscriber_code public_record_type_code  \\\n",
       "0                        99                      CJ   \n",
       "1                       485                      7X   \n",
       "2                       11R                      SL   \n",
       "3                         1                      7X   \n",
       "4                         1                      RL   \n",
       "\n",
       "  effective_date_date_verified filed_date  paid_date  amount  \\\n",
       "0                   2013-06-04 2013-01-29        NaT    1209   \n",
       "1                   2014-09-25 2014-05-06 2014-09-24     nan   \n",
       "2                   2012-01-24 2011-04-05        NaT    2248   \n",
       "3                   2013-01-29 2012-09-28 2013-01-28     nan   \n",
       "4                   2014-09-13 2007-02-02 2014-08-01     406   \n",
       "\n",
       "  public_record_source_type_code equal_credit_opportunity_act_code  \\\n",
       "0                             CI                                 I   \n",
       "1                             FE                                 I   \n",
       "2                             RD                                 I   \n",
       "3                             FE                                 C   \n",
       "4                             RD                                 I   \n",
       "\n",
       "   legislative_prohibited_code  max_loan_amount  late_30_days  late_60_days  \\\n",
       "0                            1             1002             0             0   \n",
       "1                            1             1500             0             0   \n",
       "2                            1             1025             0             0   \n",
       "3                            1             1025             0             0   \n",
       "4                            1             2500             0             0   \n",
       "\n",
       "   late_90_days _merge  \n",
       "0             0   both  \n",
       "1             0   both  \n",
       "2             0   both  \n",
       "3             0   both  \n",
       "4             0   both  "
      ]
     },
     "execution_count": 6,
     "metadata": {},
     "output_type": "execute_result"
    }
   ],
   "source": [
    "df_joined.head() ## view the outerjoined dataframe of public records data and loan performance data "
   ]
  },
  {
   "cell_type": "code",
   "execution_count": 7,
   "metadata": {},
   "outputs": [
    {
     "name": "stdout",
     "output_type": "stream",
     "text": [
      "[both, right_only]\n",
      "Categories (2, object): [both, right_only]\n",
      "646127\n"
     ]
    }
   ],
   "source": [
    "print(df_joined._merge.unique()) ## all records from public records were joined\n",
    "print(len(df_loans['analytics_matchkey'].unique()))\n",
    "## additional records only from loan_performance data added to dataframe\n",
    "## loan data includes 646,127 unique matchkeys "
   ]
  },
  {
   "cell_type": "code",
   "execution_count": 8,
   "metadata": {},
   "outputs": [
    {
     "name": "stdout",
     "output_type": "stream",
     "text": [
      "8.160160463809746\n",
      "9.155939931313812\n",
      "12.156897947307572\n"
     ]
    }
   ],
   "source": [
    "days_90_1  = df_loans[df_loans['late_90_days'] == 1]\n",
    "days_60_1 = df_loans[df_loans['late_60_days'] == 1]\n",
    "days_30_1 = df_loans[df_loans['late_30_days'] == 1]\n",
    "\n",
    "print(len(days_90_1['analytics_matchkey'].unique())/len(df_loans['analytics_matchkey'].unique()) * 100)\n",
    "print(len(days_60_1['analytics_matchkey'].unique())/len(df_loans['analytics_matchkey'].unique()) * 100)\n",
    "print(len(days_30_1['analytics_matchkey'].unique())/len(df_loans['analytics_matchkey'].unique()) * 100)\n",
    "# ~8% of customers from the loans data have been at least 90 days late with a loan\n",
    "# ~9% of customers from the loans data have been at least 60 days late with a loan\n",
    "# ~12% of customers from the loans data have been at least 30 days late with a loan"
   ]
  },
  {
   "cell_type": "code",
   "execution_count": 9,
   "metadata": {},
   "outputs": [
    {
     "name": "stdout",
     "output_type": "stream",
     "text": [
      "511410\n",
      "511410\n"
     ]
    }
   ],
   "source": [
    "print(df_joined[df_joined['_merge'] =='right_only'].shape[0])\n",
    "right_only = df_joined[df_joined['_merge'] =='right_only']\n",
    "print(len(right_only['analytics_matchkey'].unique())) \n",
    "## confirm that all matchkeys from loan performance data unique, no duplicates \n",
    "### 511,410 matchkeys from loan data are not included in public records data set"
   ]
  },
  {
   "cell_type": "code",
   "execution_count": 10,
   "metadata": {},
   "outputs": [
    {
     "data": {
      "text/html": [
       "<div>\n",
       "<style scoped>\n",
       "    .dataframe tbody tr th:only-of-type {\n",
       "        vertical-align: middle;\n",
       "    }\n",
       "\n",
       "    .dataframe tbody tr th {\n",
       "        vertical-align: top;\n",
       "    }\n",
       "\n",
       "    .dataframe thead th {\n",
       "        text-align: right;\n",
       "    }\n",
       "</style>\n",
       "<table border=\"1\" class=\"dataframe\">\n",
       "  <thead>\n",
       "    <tr style=\"text-align: right;\">\n",
       "      <th></th>\n",
       "      <th>analytics_matchkey</th>\n",
       "      <th>industry_code_kind_of_business</th>\n",
       "      <th>reporting_subscriber_code</th>\n",
       "      <th>public_record_type_code</th>\n",
       "      <th>effective_date_date_verified</th>\n",
       "      <th>filed_date</th>\n",
       "      <th>paid_date</th>\n",
       "      <th>amount</th>\n",
       "      <th>public_record_source_type_code</th>\n",
       "      <th>equal_credit_opportunity_act_code</th>\n",
       "      <th>legislative_prohibited_code</th>\n",
       "      <th>max_loan_amount</th>\n",
       "      <th>late_30_days</th>\n",
       "      <th>late_60_days</th>\n",
       "      <th>late_90_days</th>\n",
       "      <th>_merge</th>\n",
       "    </tr>\n",
       "  </thead>\n",
       "  <tbody>\n",
       "    <tr>\n",
       "      <th>218303</th>\n",
       "      <td>1346745</td>\n",
       "      <td>NaN</td>\n",
       "      <td>NaN</td>\n",
       "      <td>NaN</td>\n",
       "      <td>NaT</td>\n",
       "      <td>NaT</td>\n",
       "      <td>NaT</td>\n",
       "      <td>nan</td>\n",
       "      <td>NaN</td>\n",
       "      <td>NaN</td>\n",
       "      <td>nan</td>\n",
       "      <td>2500</td>\n",
       "      <td>0</td>\n",
       "      <td>0</td>\n",
       "      <td>0</td>\n",
       "      <td>right_only</td>\n",
       "    </tr>\n",
       "    <tr>\n",
       "      <th>218304</th>\n",
       "      <td>1346746</td>\n",
       "      <td>NaN</td>\n",
       "      <td>NaN</td>\n",
       "      <td>NaN</td>\n",
       "      <td>NaT</td>\n",
       "      <td>NaT</td>\n",
       "      <td>NaT</td>\n",
       "      <td>nan</td>\n",
       "      <td>NaN</td>\n",
       "      <td>NaN</td>\n",
       "      <td>nan</td>\n",
       "      <td>1000</td>\n",
       "      <td>0</td>\n",
       "      <td>0</td>\n",
       "      <td>0</td>\n",
       "      <td>right_only</td>\n",
       "    </tr>\n",
       "    <tr>\n",
       "      <th>218305</th>\n",
       "      <td>1346749</td>\n",
       "      <td>NaN</td>\n",
       "      <td>NaN</td>\n",
       "      <td>NaN</td>\n",
       "      <td>NaT</td>\n",
       "      <td>NaT</td>\n",
       "      <td>NaT</td>\n",
       "      <td>nan</td>\n",
       "      <td>NaN</td>\n",
       "      <td>NaN</td>\n",
       "      <td>nan</td>\n",
       "      <td>1675</td>\n",
       "      <td>0</td>\n",
       "      <td>0</td>\n",
       "      <td>0</td>\n",
       "      <td>right_only</td>\n",
       "    </tr>\n",
       "    <tr>\n",
       "      <th>218306</th>\n",
       "      <td>1346750</td>\n",
       "      <td>NaN</td>\n",
       "      <td>NaN</td>\n",
       "      <td>NaN</td>\n",
       "      <td>NaT</td>\n",
       "      <td>NaT</td>\n",
       "      <td>NaT</td>\n",
       "      <td>nan</td>\n",
       "      <td>NaN</td>\n",
       "      <td>NaN</td>\n",
       "      <td>nan</td>\n",
       "      <td>2000</td>\n",
       "      <td>0</td>\n",
       "      <td>0</td>\n",
       "      <td>0</td>\n",
       "      <td>right_only</td>\n",
       "    </tr>\n",
       "    <tr>\n",
       "      <th>218307</th>\n",
       "      <td>1346751</td>\n",
       "      <td>NaN</td>\n",
       "      <td>NaN</td>\n",
       "      <td>NaN</td>\n",
       "      <td>NaT</td>\n",
       "      <td>NaT</td>\n",
       "      <td>NaT</td>\n",
       "      <td>nan</td>\n",
       "      <td>NaN</td>\n",
       "      <td>NaN</td>\n",
       "      <td>nan</td>\n",
       "      <td>2500</td>\n",
       "      <td>0</td>\n",
       "      <td>0</td>\n",
       "      <td>0</td>\n",
       "      <td>right_only</td>\n",
       "    </tr>\n",
       "  </tbody>\n",
       "</table>\n",
       "</div>"
      ],
      "text/plain": [
       "        analytics_matchkey industry_code_kind_of_business  \\\n",
       "218303             1346745                            NaN   \n",
       "218304             1346746                            NaN   \n",
       "218305             1346749                            NaN   \n",
       "218306             1346750                            NaN   \n",
       "218307             1346751                            NaN   \n",
       "\n",
       "       reporting_subscriber_code public_record_type_code  \\\n",
       "218303                       NaN                     NaN   \n",
       "218304                       NaN                     NaN   \n",
       "218305                       NaN                     NaN   \n",
       "218306                       NaN                     NaN   \n",
       "218307                       NaN                     NaN   \n",
       "\n",
       "       effective_date_date_verified filed_date paid_date  amount  \\\n",
       "218303                          NaT        NaT       NaT     nan   \n",
       "218304                          NaT        NaT       NaT     nan   \n",
       "218305                          NaT        NaT       NaT     nan   \n",
       "218306                          NaT        NaT       NaT     nan   \n",
       "218307                          NaT        NaT       NaT     nan   \n",
       "\n",
       "       public_record_source_type_code equal_credit_opportunity_act_code  \\\n",
       "218303                            NaN                               NaN   \n",
       "218304                            NaN                               NaN   \n",
       "218305                            NaN                               NaN   \n",
       "218306                            NaN                               NaN   \n",
       "218307                            NaN                               NaN   \n",
       "\n",
       "        legislative_prohibited_code  max_loan_amount  late_30_days  \\\n",
       "218303                          nan             2500             0   \n",
       "218304                          nan             1000             0   \n",
       "218305                          nan             1675             0   \n",
       "218306                          nan             2000             0   \n",
       "218307                          nan             2500             0   \n",
       "\n",
       "        late_60_days  late_90_days      _merge  \n",
       "218303             0             0  right_only  \n",
       "218304             0             0  right_only  \n",
       "218305             0             0  right_only  \n",
       "218306             0             0  right_only  \n",
       "218307             0             0  right_only  "
      ]
     },
     "execution_count": 10,
     "metadata": {},
     "output_type": "execute_result"
    }
   ],
   "source": [
    "df_joined[df_joined['_merge'] =='right_only'].head()"
   ]
  },
  {
   "cell_type": "code",
   "execution_count": 11,
   "metadata": {},
   "outputs": [
    {
     "data": {
      "text/plain": [
       "218303"
      ]
     },
     "execution_count": 11,
     "metadata": {},
     "output_type": "execute_result"
    }
   ],
   "source": [
    "df_joined[df_joined['_merge'] =='both'].shape[0] ## confirm all records from public records set joined to"
   ]
  },
  {
   "cell_type": "code",
   "execution_count": 12,
   "metadata": {},
   "outputs": [],
   "source": [
    "df_join_left = df.merge(df_loans, left_on=\"analytics_matchkey\", right_on='analytics_matchkey', how='left')"
   ]
  },
  {
   "cell_type": "code",
   "execution_count": 13,
   "metadata": {},
   "outputs": [
    {
     "data": {
      "text/html": [
       "<div>\n",
       "<style scoped>\n",
       "    .dataframe tbody tr th:only-of-type {\n",
       "        vertical-align: middle;\n",
       "    }\n",
       "\n",
       "    .dataframe tbody tr th {\n",
       "        vertical-align: top;\n",
       "    }\n",
       "\n",
       "    .dataframe thead th {\n",
       "        text-align: right;\n",
       "    }\n",
       "</style>\n",
       "<table border=\"1\" class=\"dataframe\">\n",
       "  <thead>\n",
       "    <tr style=\"text-align: right;\">\n",
       "      <th></th>\n",
       "      <th>analytics_matchkey</th>\n",
       "      <th>industry_code_kind_of_business</th>\n",
       "      <th>reporting_subscriber_code</th>\n",
       "      <th>public_record_type_code</th>\n",
       "      <th>effective_date_date_verified</th>\n",
       "      <th>filed_date</th>\n",
       "      <th>paid_date</th>\n",
       "      <th>amount</th>\n",
       "      <th>public_record_source_type_code</th>\n",
       "      <th>equal_credit_opportunity_act_code</th>\n",
       "      <th>legislative_prohibited_code</th>\n",
       "      <th>max_loan_amount</th>\n",
       "      <th>late_30_days</th>\n",
       "      <th>late_60_days</th>\n",
       "      <th>late_90_days</th>\n",
       "    </tr>\n",
       "  </thead>\n",
       "  <tbody>\n",
       "    <tr>\n",
       "      <th>0</th>\n",
       "      <td>1346747</td>\n",
       "      <td>ZP</td>\n",
       "      <td>99</td>\n",
       "      <td>CJ</td>\n",
       "      <td>2013-06-04</td>\n",
       "      <td>2013-01-29</td>\n",
       "      <td>NaT</td>\n",
       "      <td>1209</td>\n",
       "      <td>CI</td>\n",
       "      <td>I</td>\n",
       "      <td>1</td>\n",
       "      <td>1002</td>\n",
       "      <td>0</td>\n",
       "      <td>0</td>\n",
       "      <td>0</td>\n",
       "    </tr>\n",
       "    <tr>\n",
       "      <th>1</th>\n",
       "      <td>1346748</td>\n",
       "      <td>ZP</td>\n",
       "      <td>485</td>\n",
       "      <td>7X</td>\n",
       "      <td>2014-09-25</td>\n",
       "      <td>2014-05-06</td>\n",
       "      <td>2014-09-24</td>\n",
       "      <td>nan</td>\n",
       "      <td>FE</td>\n",
       "      <td>I</td>\n",
       "      <td>1</td>\n",
       "      <td>1500</td>\n",
       "      <td>0</td>\n",
       "      <td>0</td>\n",
       "      <td>0</td>\n",
       "    </tr>\n",
       "    <tr>\n",
       "      <th>2</th>\n",
       "      <td>1346754</td>\n",
       "      <td>Z</td>\n",
       "      <td>11R</td>\n",
       "      <td>SL</td>\n",
       "      <td>2012-01-24</td>\n",
       "      <td>2011-04-05</td>\n",
       "      <td>NaT</td>\n",
       "      <td>2248</td>\n",
       "      <td>RD</td>\n",
       "      <td>I</td>\n",
       "      <td>1</td>\n",
       "      <td>1025</td>\n",
       "      <td>0</td>\n",
       "      <td>0</td>\n",
       "      <td>0</td>\n",
       "    </tr>\n",
       "    <tr>\n",
       "      <th>3</th>\n",
       "      <td>1346754</td>\n",
       "      <td>ZP</td>\n",
       "      <td>1</td>\n",
       "      <td>7X</td>\n",
       "      <td>2013-01-29</td>\n",
       "      <td>2012-09-28</td>\n",
       "      <td>2013-01-28</td>\n",
       "      <td>nan</td>\n",
       "      <td>FE</td>\n",
       "      <td>C</td>\n",
       "      <td>1</td>\n",
       "      <td>1025</td>\n",
       "      <td>0</td>\n",
       "      <td>0</td>\n",
       "      <td>0</td>\n",
       "    </tr>\n",
       "    <tr>\n",
       "      <th>4</th>\n",
       "      <td>1346756</td>\n",
       "      <td>ZP</td>\n",
       "      <td>1</td>\n",
       "      <td>RL</td>\n",
       "      <td>2014-09-13</td>\n",
       "      <td>2007-02-02</td>\n",
       "      <td>2014-08-01</td>\n",
       "      <td>406</td>\n",
       "      <td>RD</td>\n",
       "      <td>I</td>\n",
       "      <td>1</td>\n",
       "      <td>2500</td>\n",
       "      <td>0</td>\n",
       "      <td>0</td>\n",
       "      <td>0</td>\n",
       "    </tr>\n",
       "  </tbody>\n",
       "</table>\n",
       "</div>"
      ],
      "text/plain": [
       "   analytics_matchkey industry_code_kind_of_business  \\\n",
       "0             1346747                             ZP   \n",
       "1             1346748                             ZP   \n",
       "2             1346754                              Z   \n",
       "3             1346754                             ZP   \n",
       "4             1346756                             ZP   \n",
       "\n",
       "  reporting_subscriber_code public_record_type_code  \\\n",
       "0                        99                      CJ   \n",
       "1                       485                      7X   \n",
       "2                       11R                      SL   \n",
       "3                         1                      7X   \n",
       "4                         1                      RL   \n",
       "\n",
       "  effective_date_date_verified filed_date  paid_date  amount  \\\n",
       "0                   2013-06-04 2013-01-29        NaT    1209   \n",
       "1                   2014-09-25 2014-05-06 2014-09-24     nan   \n",
       "2                   2012-01-24 2011-04-05        NaT    2248   \n",
       "3                   2013-01-29 2012-09-28 2013-01-28     nan   \n",
       "4                   2014-09-13 2007-02-02 2014-08-01     406   \n",
       "\n",
       "  public_record_source_type_code equal_credit_opportunity_act_code  \\\n",
       "0                             CI                                 I   \n",
       "1                             FE                                 I   \n",
       "2                             RD                                 I   \n",
       "3                             FE                                 C   \n",
       "4                             RD                                 I   \n",
       "\n",
       "   legislative_prohibited_code  max_loan_amount  late_30_days  late_60_days  \\\n",
       "0                            1             1002             0             0   \n",
       "1                            1             1500             0             0   \n",
       "2                            1             1025             0             0   \n",
       "3                            1             1025             0             0   \n",
       "4                            1             2500             0             0   \n",
       "\n",
       "   late_90_days  \n",
       "0             0  \n",
       "1             0  \n",
       "2             0  \n",
       "3             0  \n",
       "4             0  "
      ]
     },
     "execution_count": 13,
     "metadata": {},
     "output_type": "execute_result"
    }
   ],
   "source": [
    "df_join_left.head() ## only left join so we match existing data from public records dataset"
   ]
  },
  {
   "cell_type": "code",
   "execution_count": 14,
   "metadata": {},
   "outputs": [
    {
     "name": "stdout",
     "output_type": "stream",
     "text": [
      "10.05960643422879\n",
      "10.95036261199403\n",
      "13.914353793507871\n"
     ]
    }
   ],
   "source": [
    "days_90  = df_join_left[df_join_left['late_90_days'] == 1]\n",
    "days_60 = df_join_left[df_join_left['late_60_days'] == 1]\n",
    "days_30 = df_join_left[df_join_left['late_30_days'] == 1]\n",
    "\n",
    "print(len(days_90['analytics_matchkey'].unique())/len(df_join_left['analytics_matchkey'].unique()) * 100)\n",
    "print(len(days_60['analytics_matchkey'].unique())/len(df_join_left['analytics_matchkey'].unique()) * 100)\n",
    "print(len(days_30['analytics_matchkey'].unique())/len(df_join_left['analytics_matchkey'].unique()) * 100)\n",
    "# ~10% of customers from public records data have been at least 90 days late with a loan\n",
    "# ~11% of customers from public records data have been at least 60 days late with a loan\n",
    "# ~14% of customers from public records data have been at least 30 days late with a loan"
   ]
  },
  {
   "cell_type": "code",
   "execution_count": 15,
   "metadata": {},
   "outputs": [
    {
     "data": {
      "text/html": [
       "<div>\n",
       "<style scoped>\n",
       "    .dataframe tbody tr th:only-of-type {\n",
       "        vertical-align: middle;\n",
       "    }\n",
       "\n",
       "    .dataframe tbody tr th {\n",
       "        vertical-align: top;\n",
       "    }\n",
       "\n",
       "    .dataframe thead th {\n",
       "        text-align: right;\n",
       "    }\n",
       "</style>\n",
       "<table border=\"1\" class=\"dataframe\">\n",
       "  <thead>\n",
       "    <tr style=\"text-align: right;\">\n",
       "      <th></th>\n",
       "      <th>analytics_matchkey</th>\n",
       "      <th>industry_code_kind_of_business</th>\n",
       "      <th>reporting_subscriber_code</th>\n",
       "      <th>public_record_type_code</th>\n",
       "      <th>effective_date_date_verified</th>\n",
       "      <th>filed_date</th>\n",
       "      <th>paid_date</th>\n",
       "      <th>amount</th>\n",
       "      <th>public_record_source_type_code</th>\n",
       "      <th>equal_credit_opportunity_act_code</th>\n",
       "      <th>legislative_prohibited_code</th>\n",
       "      <th>max_loan_amount</th>\n",
       "      <th>late_30_days</th>\n",
       "      <th>late_60_days</th>\n",
       "      <th>late_90_days</th>\n",
       "    </tr>\n",
       "  </thead>\n",
       "  <tbody>\n",
       "    <tr>\n",
       "      <th>7</th>\n",
       "      <td>1346760</td>\n",
       "      <td>Z</td>\n",
       "      <td>13Q</td>\n",
       "      <td>CJ</td>\n",
       "      <td>2016-06-22</td>\n",
       "      <td>2016-04-01</td>\n",
       "      <td>NaT</td>\n",
       "      <td>10116</td>\n",
       "      <td>CI</td>\n",
       "      <td>I</td>\n",
       "      <td>1</td>\n",
       "      <td>1500</td>\n",
       "      <td>1</td>\n",
       "      <td>1</td>\n",
       "      <td>0</td>\n",
       "    </tr>\n",
       "    <tr>\n",
       "      <th>14</th>\n",
       "      <td>1346786</td>\n",
       "      <td>ZP</td>\n",
       "      <td>35K</td>\n",
       "      <td>7X</td>\n",
       "      <td>2010-11-27</td>\n",
       "      <td>2010-07-29</td>\n",
       "      <td>2010-11-23</td>\n",
       "      <td>nan</td>\n",
       "      <td>FE</td>\n",
       "      <td>I</td>\n",
       "      <td>1</td>\n",
       "      <td>2600</td>\n",
       "      <td>1</td>\n",
       "      <td>1</td>\n",
       "      <td>1</td>\n",
       "    </tr>\n",
       "    <tr>\n",
       "      <th>34</th>\n",
       "      <td>1346890</td>\n",
       "      <td>ZP</td>\n",
       "      <td>87</td>\n",
       "      <td>CJ</td>\n",
       "      <td>2012-12-27</td>\n",
       "      <td>2012-05-18</td>\n",
       "      <td>NaT</td>\n",
       "      <td>666</td>\n",
       "      <td>CI</td>\n",
       "      <td>I</td>\n",
       "      <td>1</td>\n",
       "      <td>1000</td>\n",
       "      <td>1</td>\n",
       "      <td>0</td>\n",
       "      <td>0</td>\n",
       "    </tr>\n",
       "    <tr>\n",
       "      <th>48</th>\n",
       "      <td>1346901</td>\n",
       "      <td>ZP</td>\n",
       "      <td>126</td>\n",
       "      <td>CJ</td>\n",
       "      <td>2016-08-20</td>\n",
       "      <td>2016-07-05</td>\n",
       "      <td>NaT</td>\n",
       "      <td>1000</td>\n",
       "      <td>MU</td>\n",
       "      <td>I</td>\n",
       "      <td>1</td>\n",
       "      <td>1675</td>\n",
       "      <td>1</td>\n",
       "      <td>1</td>\n",
       "      <td>1</td>\n",
       "    </tr>\n",
       "    <tr>\n",
       "      <th>50</th>\n",
       "      <td>1346911</td>\n",
       "      <td>Z</td>\n",
       "      <td>459</td>\n",
       "      <td>CJ</td>\n",
       "      <td>2011-02-09</td>\n",
       "      <td>2010-05-26</td>\n",
       "      <td>NaT</td>\n",
       "      <td>767</td>\n",
       "      <td>CI</td>\n",
       "      <td>C</td>\n",
       "      <td>2</td>\n",
       "      <td>2500</td>\n",
       "      <td>1</td>\n",
       "      <td>0</td>\n",
       "      <td>0</td>\n",
       "    </tr>\n",
       "  </tbody>\n",
       "</table>\n",
       "</div>"
      ],
      "text/plain": [
       "    analytics_matchkey industry_code_kind_of_business  \\\n",
       "7              1346760                              Z   \n",
       "14             1346786                             ZP   \n",
       "34             1346890                             ZP   \n",
       "48             1346901                             ZP   \n",
       "50             1346911                              Z   \n",
       "\n",
       "   reporting_subscriber_code public_record_type_code  \\\n",
       "7                        13Q                      CJ   \n",
       "14                       35K                      7X   \n",
       "34                        87                      CJ   \n",
       "48                       126                      CJ   \n",
       "50                       459                      CJ   \n",
       "\n",
       "   effective_date_date_verified filed_date  paid_date  amount  \\\n",
       "7                    2016-06-22 2016-04-01        NaT   10116   \n",
       "14                   2010-11-27 2010-07-29 2010-11-23     nan   \n",
       "34                   2012-12-27 2012-05-18        NaT     666   \n",
       "48                   2016-08-20 2016-07-05        NaT    1000   \n",
       "50                   2011-02-09 2010-05-26        NaT     767   \n",
       "\n",
       "   public_record_source_type_code equal_credit_opportunity_act_code  \\\n",
       "7                              CI                                 I   \n",
       "14                             FE                                 I   \n",
       "34                             CI                                 I   \n",
       "48                             MU                                 I   \n",
       "50                             CI                                 C   \n",
       "\n",
       "    legislative_prohibited_code  max_loan_amount  late_30_days  late_60_days  \\\n",
       "7                             1             1500             1             1   \n",
       "14                            1             2600             1             1   \n",
       "34                            1             1000             1             0   \n",
       "48                            1             1675             1             1   \n",
       "50                            2             2500             1             0   \n",
       "\n",
       "    late_90_days  \n",
       "7              0  \n",
       "14             1  \n",
       "34             0  \n",
       "48             1  \n",
       "50             0  "
      ]
     },
     "execution_count": 15,
     "metadata": {},
     "output_type": "execute_result"
    }
   ],
   "source": [
    "days_30.head()"
   ]
  },
  {
   "cell_type": "code",
   "execution_count": 16,
   "metadata": {},
   "outputs": [
    {
     "data": {
      "text/plain": [
       "count   218303\n",
       "mean      1683\n",
       "std        716\n",
       "min       1000\n",
       "25%       1100\n",
       "50%       1500\n",
       "75%       2000\n",
       "max       4000\n",
       "Name: max_loan_amount, dtype: float64"
      ]
     },
     "execution_count": 16,
     "metadata": {},
     "output_type": "execute_result"
    }
   ],
   "source": [
    "df_join_left['max_loan_amount'].describe() ## maximum loan amounts all range between $1,000 - $4,000"
   ]
  },
  {
   "cell_type": "code",
   "execution_count": 17,
   "metadata": {},
   "outputs": [
    {
     "data": {
      "image/png": "[encoded data removed]",
      "text/plain": [
       "<Figure size 432x288 with 1 Axes>"
      ]
     },
     "metadata": {
      "needs_background": "light"
     },
     "output_type": "display_data"
    }
   ],
   "source": [
    "plt.title(\"Distribution of Maximum Loan Amounts\") ### to see the shape of the distribution of max loan amounts, which is right skewed. \n",
    "plt.ylabel(\"Count\")\n",
    "plt.xlabel(\"Amount\")\n",
    "plt.hist(df_join_left['max_loan_amount'], bins=20); \n",
    "### most max_loan_amounts are $1000, followed by $1500, then $2,000...etc"
   ]
  },
  {
   "cell_type": "code",
   "execution_count": 18,
   "metadata": {},
   "outputs": [],
   "source": [
    "df_join_left['amount_paid_minus_max_loan_amount'] = df_join_left['amount'] - df_join_left['max_loan_amount']"
   ]
  },
  {
   "cell_type": "code",
   "execution_count": 19,
   "metadata": {},
   "outputs": [
    {
     "data": {
      "text/plain": [
       "count    156792\n",
       "mean       2956\n",
       "std       41797\n",
       "min       -4000\n",
       "25%        -891\n",
       "50%        -135\n",
       "75%        1608\n",
       "max     9998674\n",
       "Name: amount_paid_minus_max_loan_amount, dtype: float64"
      ]
     },
     "execution_count": 19,
     "metadata": {},
     "output_type": "execute_result"
    }
   ],
   "source": [
    "df_join_left['amount_paid_minus_max_loan_amount'].describe()"
   ]
  },
  {
   "cell_type": "code",
   "execution_count": 20,
   "metadata": {},
   "outputs": [
    {
     "name": "stderr",
     "output_type": "stream",
     "text": [
      "c:\\users\\roblatch\\desktop\\python35\\lib\\site-packages\\numpy\\lib\\histograms.py:824: RuntimeWarning: invalid value encountered in greater_equal\n",
      "  keep = (tmp_a >= first_edge)\n",
      "c:\\users\\roblatch\\desktop\\python35\\lib\\site-packages\\numpy\\lib\\histograms.py:825: RuntimeWarning: invalid value encountered in less_equal\n",
      "  keep &= (tmp_a <= last_edge)\n"
     ]
    },
    {
     "data": {
      "image/png": "[encoded data removed]",
      "text/plain": [
       "<Figure size 432x288 with 1 Axes>"
      ]
     },
     "metadata": {
      "needs_background": "light"
     },
     "output_type": "display_data"
    }
   ],
   "source": [
    "plt.title(\"Distribution of Difference in Amount vs. Max Loan Amount\")\n",
    "plt.ylabel(\"Count\")\n",
    "plt.xlabel(\"Amount\")\n",
    "plt.hist(df_join_left['amount_paid_minus_max_loan_amount'], range=(df_join_left['amount_paid_minus_max_loan_amount'].min(), 10000), bins=20); \n",
    "## more than 50% of the amounts are less than the maximum loan amount\n",
    "### However there is a very long tail with some amounts much higher than the max_loan_amounts"
   ]
  },
  {
   "cell_type": "code",
   "execution_count": 21,
   "metadata": {},
   "outputs": [
    {
     "data": {
      "text/plain": [
       "33.38616510080026"
      ]
     },
     "execution_count": 21,
     "metadata": {},
     "output_type": "execute_result"
    }
   ],
   "source": [
    "df_join_left[df_join_left['amount'] > df_join_left['max_loan_amount']].shape[0] / df_join_left.shape[0] * 100\n",
    "# About 1/3 of the loans have amounts higher than the max_loan_amount"
   ]
  },
  {
   "cell_type": "code",
   "execution_count": 22,
   "metadata": {},
   "outputs": [
    {
     "data": {
      "text/plain": [
       "public_record_type_code\n",
       "CJ    10083\n",
       "7X     6368\n",
       "PC     3931\n",
       "SL     2867\n",
       "RL     2690\n",
       "CB     1840\n",
       "FT     1351\n",
       "3D     1043\n",
       "PL      796\n",
       "PF      513\n",
       "3X      355\n",
       "3F      318\n",
       "TL      269\n",
       "7D      168\n",
       "7F       65\n",
       "CP       56\n",
       "1X        3\n",
       "1D        3\n",
       "2X        1\n",
       "Name: late_30_days, dtype: int64"
      ]
     },
     "execution_count": 22,
     "metadata": {},
     "output_type": "execute_result"
    }
   ],
   "source": [
    "days_30_late_public_record_types = days_30.groupby('public_record_type_code')['late_30_days'].sum().sort_values(ascending=False)\n",
    "days_30_late_public_record_types\n",
    "### most of the loans that were at least 30 days late were of type CJ"
   ]
  },
  {
   "cell_type": "code",
   "execution_count": 23,
   "metadata": {},
   "outputs": [
    {
     "data": {
      "text/plain": [
       "public_record_type_code\n",
       "CJ    61425\n",
       "7X    49842\n",
       "PC    30449\n",
       "RL    20099\n",
       "SL    16205\n",
       "dtype: int64"
      ]
     },
     "execution_count": 23,
     "metadata": {},
     "output_type": "execute_result"
    }
   ],
   "source": [
    "df_join_left.groupby('public_record_type_code').size().sort_values(ascending=False)[0:5]"
   ]
  },
  {
   "cell_type": "code",
   "execution_count": 24,
   "metadata": {},
   "outputs": [
    {
     "data": {
      "text/plain": [
       "count     24396\n",
       "mean       5774\n",
       "std       69011\n",
       "min           0\n",
       "25%         666\n",
       "50%        1409\n",
       "75%        3464\n",
       "max     9999999\n",
       "Name: amount, dtype: float64"
      ]
     },
     "execution_count": 24,
     "metadata": {},
     "output_type": "execute_result"
    }
   ],
   "source": [
    "days_30['amount'].describe() ## higher mean for amount for loans that were at least 30 days late, though could be skewed by the 9999999s"
   ]
  },
  {
   "cell_type": "code",
   "execution_count": 25,
   "metadata": {},
   "outputs": [
    {
     "data": {
      "text/plain": [
       "count   32720\n",
       "mean     1731\n",
       "std       766\n",
       "min      1000\n",
       "25%      1100\n",
       "50%      1458\n",
       "75%      2126\n",
       "max      4000\n",
       "Name: max_loan_amount, dtype: float64"
      ]
     },
     "execution_count": 25,
     "metadata": {},
     "output_type": "execute_result"
    }
   ],
   "source": [
    "days_30['max_loan_amount'].describe() ##slightly higher mean for max_loan_amount for loans that were at least 30 days late"
   ]
  },
  {
   "cell_type": "code",
   "execution_count": 26,
   "metadata": {},
   "outputs": [],
   "source": [
    "amounts_included = df_join_left[df_join_left['amount'].notna()]\n",
    "amounts_included = amounts_included[amounts_included['amount'] < 400000] ## remove extreme outliers "
   ]
  },
  {
   "cell_type": "code",
   "execution_count": 27,
   "metadata": {},
   "outputs": [
    {
     "data": {
      "text/plain": [
       "<matplotlib.axes._subplots.AxesSubplot at 0x1c5b2ebbc88>"
      ]
     },
     "execution_count": 27,
     "metadata": {},
     "output_type": "execute_result"
    },
    {
     "data": {
      "image/png": "[encoded data removed]",
      "text/plain": [
       "<Figure size 432x288 with 1 Axes>"
      ]
     },
     "metadata": {
      "needs_background": "light"
     },
     "output_type": "display_data"
    }
   ],
   "source": [
    "sns.scatterplot(amounts_included['amount'], amounts_included['max_loan_amount']) ## not a clear relationship overall!"
   ]
  },
  {
   "cell_type": "code",
   "execution_count": 28,
   "metadata": {},
   "outputs": [
    {
     "data": {
      "text/plain": [
       "<Figure size 720x720 with 0 Axes>"
      ]
     },
     "metadata": {},
     "output_type": "display_data"
    },
    {
     "data": {
      "image/png": "[encoded data removed]",
      "text/plain": [
       "<Figure size 360x360 with 1 Axes>"
      ]
     },
     "metadata": {
      "needs_background": "light"
     },
     "output_type": "display_data"
    }
   ],
   "source": [
    "plt.figure(figsize=(10,10)) ## investigation the disribution of max_loan_amounts for each publc_record_type\n",
    "sns.catplot(x='public_record_type_code', y='max_loan_amount', kind=\"box\", data=df_join_left); "
   ]
  },
  {
   "cell_type": "code",
   "execution_count": 29,
   "metadata": {},
   "outputs": [
    {
     "data": {
      "text/plain": [
       "<Figure size 720x720 with 0 Axes>"
      ]
     },
     "metadata": {},
     "output_type": "display_data"
    },
    {
     "data": {
      "image/png": "[encoded data removed]",
      "text/plain": [
       "<Figure size 360x360 with 1 Axes>"
      ]
     },
     "metadata": {
      "needs_background": "light"
     },
     "output_type": "display_data"
    }
   ],
   "source": [
    "plt.figure(figsize=(10,10)) ## investigating the disribution of max_loan_amounts for each publc_record_source_type\n",
    "sns.catplot(x='public_record_source_type_code', y='max_loan_amount', kind=\"box\", data=df_join_left);\n",
    "\n",
    "## MU has a higher than average max_loan amount and a much longer IQR, SU has an even greater average"
   ]
  },
  {
   "cell_type": "code",
   "execution_count": 30,
   "metadata": {},
   "outputs": [
    {
     "data": {
      "text/html": [
       "<div>\n",
       "<style scoped>\n",
       "    .dataframe tbody tr th:only-of-type {\n",
       "        vertical-align: middle;\n",
       "    }\n",
       "\n",
       "    .dataframe tbody tr th {\n",
       "        vertical-align: top;\n",
       "    }\n",
       "\n",
       "    .dataframe thead th {\n",
       "        text-align: right;\n",
       "    }\n",
       "</style>\n",
       "<table border=\"1\" class=\"dataframe\">\n",
       "  <thead>\n",
       "    <tr style=\"text-align: right;\">\n",
       "      <th></th>\n",
       "      <th>late_30_days</th>\n",
       "    </tr>\n",
       "    <tr>\n",
       "      <th>public_record_type_code</th>\n",
       "      <th></th>\n",
       "    </tr>\n",
       "  </thead>\n",
       "  <tbody>\n",
       "    <tr>\n",
       "      <th>CJ</th>\n",
       "      <td>10083</td>\n",
       "    </tr>\n",
       "    <tr>\n",
       "      <th>7X</th>\n",
       "      <td>6368</td>\n",
       "    </tr>\n",
       "    <tr>\n",
       "      <th>PC</th>\n",
       "      <td>3931</td>\n",
       "    </tr>\n",
       "    <tr>\n",
       "      <th>SL</th>\n",
       "      <td>2867</td>\n",
       "    </tr>\n",
       "    <tr>\n",
       "      <th>RL</th>\n",
       "      <td>2690</td>\n",
       "    </tr>\n",
       "  </tbody>\n",
       "</table>\n",
       "</div>"
      ],
      "text/plain": [
       "                         late_30_days\n",
       "public_record_type_code              \n",
       "CJ                              10083\n",
       "7X                               6368\n",
       "PC                               3931\n",
       "SL                               2867\n",
       "RL                               2690"
      ]
     },
     "execution_count": 30,
     "metadata": {},
     "output_type": "execute_result"
    }
   ],
   "source": [
    "days_30_late_public_record_types\n",
    "days_30_late_public_record_types_df = days_30_late_public_record_types.to_frame()\n",
    "days_30_late_public_record_types_df.head()"
   ]
  },
  {
   "cell_type": "code",
   "execution_count": 31,
   "metadata": {},
   "outputs": [
    {
     "data": {
      "image/png": "[encoded data removed]",
      "text/plain": [
       "<Figure size 432x288 with 1 Axes>"
      ]
     },
     "metadata": {
      "needs_background": "light"
     },
     "output_type": "display_data"
    }
   ],
   "source": [
    "total_loans_per_record_type = df_join_left.groupby('public_record_type_code').size().sort_values(ascending=False)\n",
    "total_loans_per_record_type_df = total_loans_per_record_type.to_frame()\n",
    "total_loans_per_record_type_df\n",
    "proportion_records_late_df = total_loans_per_record_type_df.merge(days_30_late_public_record_types_df, left_index=True, right_index=True, how='left')\n",
    "\n",
    "proportion_records_late_df = proportion_records_late_df.rename(columns={0:'Total_Records'})\n",
    "proportion_records_late_df['proportion_late'] = (proportion_records_late_df.late_30_days/proportion_records_late_df.Total_Records)*100\n",
    "proportion_records_late_df = proportion_records_late_df.sort_values(by='Total_Records', ascending=False) ## sort by quantity of type\n",
    "proportion_records_late_df = proportion_records_late_df.fillna(0)\n",
    "proportion_records_late_df = proportion_records_late_df.drop(['Total_Records', 'late_30_days'], axis=1)\n",
    "proportion_records_late_df = proportion_records_late_df.squeeze() ## change to series\n",
    "proportion_records_late_df = proportion_records_late_df.drop(proportion_records_late_df.index[-7:]) ## drop data with only a few values\n",
    "proportion_records_late_df\n",
    "\n",
    "fig = proportion_records_late_df.plot(kind='bar')\n",
    "fig.set_title(\"Proportions of Loans at Least 30 Days late per record type\")\n",
    "fig.set_ylabel('Percent');  ## x axis ordered by overall proportion of type in dataset\n",
    "## 3D followed by FT have the highest proportion of loans at least 30 days late"
   ]
  },
  {
   "cell_type": "code",
   "execution_count": 32,
   "metadata": {},
   "outputs": [
    {
     "data": {
      "text/html": [
       "<div>\n",
       "<style scoped>\n",
       "    .dataframe tbody tr th:only-of-type {\n",
       "        vertical-align: middle;\n",
       "    }\n",
       "\n",
       "    .dataframe tbody tr th {\n",
       "        vertical-align: top;\n",
       "    }\n",
       "\n",
       "    .dataframe thead th {\n",
       "        text-align: right;\n",
       "    }\n",
       "</style>\n",
       "<table border=\"1\" class=\"dataframe\">\n",
       "  <thead>\n",
       "    <tr style=\"text-align: right;\">\n",
       "      <th></th>\n",
       "      <th>late_30_days</th>\n",
       "    </tr>\n",
       "    <tr>\n",
       "      <th>public_record_source_type_code</th>\n",
       "      <th></th>\n",
       "    </tr>\n",
       "  </thead>\n",
       "  <tbody>\n",
       "    <tr>\n",
       "      <th>CI</th>\n",
       "      <td>14939</td>\n",
       "    </tr>\n",
       "    <tr>\n",
       "      <th>RD</th>\n",
       "      <td>8503</td>\n",
       "    </tr>\n",
       "    <tr>\n",
       "      <th>FE</th>\n",
       "      <td>7825</td>\n",
       "    </tr>\n",
       "    <tr>\n",
       "      <th>MU</th>\n",
       "      <td>708</td>\n",
       "    </tr>\n",
       "    <tr>\n",
       "      <th>BK</th>\n",
       "      <td>499</td>\n",
       "    </tr>\n",
       "  </tbody>\n",
       "</table>\n",
       "</div>"
      ],
      "text/plain": [
       "                                late_30_days\n",
       "public_record_source_type_code              \n",
       "CI                                     14939\n",
       "RD                                      8503\n",
       "FE                                      7825\n",
       "MU                                       708\n",
       "BK                                       499"
      ]
     },
     "execution_count": 32,
     "metadata": {},
     "output_type": "execute_result"
    }
   ],
   "source": [
    "days_30_late_public_record_source_types = days_30.groupby('public_record_source_type_code')['late_30_days'].sum().sort_values(ascending=False)\n",
    "days_30_late_public_record_source_types_df = days_30_late_public_record_source_types.to_frame()\n",
    "days_30_late_public_record_source_types_df.head()\n",
    "### most of the loans that were at least 30 days late were of type CJ"
   ]
  },
  {
   "cell_type": "code",
   "execution_count": 33,
   "metadata": {},
   "outputs": [
    {
     "data": {
      "text/html": [
       "<div>\n",
       "<style scoped>\n",
       "    .dataframe tbody tr th:only-of-type {\n",
       "        vertical-align: middle;\n",
       "    }\n",
       "\n",
       "    .dataframe tbody tr th {\n",
       "        vertical-align: top;\n",
       "    }\n",
       "\n",
       "    .dataframe thead th {\n",
       "        text-align: right;\n",
       "    }\n",
       "</style>\n",
       "<table border=\"1\" class=\"dataframe\">\n",
       "  <thead>\n",
       "    <tr style=\"text-align: right;\">\n",
       "      <th></th>\n",
       "      <th>0</th>\n",
       "    </tr>\n",
       "    <tr>\n",
       "      <th>public_record_source_type_code</th>\n",
       "      <th></th>\n",
       "    </tr>\n",
       "  </thead>\n",
       "  <tbody>\n",
       "    <tr>\n",
       "      <th>CI</th>\n",
       "      <td>97445</td>\n",
       "    </tr>\n",
       "    <tr>\n",
       "      <th>FE</th>\n",
       "      <td>58896</td>\n",
       "    </tr>\n",
       "    <tr>\n",
       "      <th>RD</th>\n",
       "      <td>54657</td>\n",
       "    </tr>\n",
       "    <tr>\n",
       "      <th>MU</th>\n",
       "      <td>3291</td>\n",
       "    </tr>\n",
       "    <tr>\n",
       "      <th>BK</th>\n",
       "      <td>2611</td>\n",
       "    </tr>\n",
       "  </tbody>\n",
       "</table>\n",
       "</div>"
      ],
      "text/plain": [
       "                                    0\n",
       "public_record_source_type_code       \n",
       "CI                              97445\n",
       "FE                              58896\n",
       "RD                              54657\n",
       "MU                               3291\n",
       "BK                               2611"
      ]
     },
     "execution_count": 33,
     "metadata": {},
     "output_type": "execute_result"
    }
   ],
   "source": [
    "total_loans_per_record_source_type = df_join_left.groupby('public_record_source_type_code').size().sort_values(ascending=False)\n",
    "total_loans_per_record_source_type_df = total_loans_per_record_source_type.to_frame()\n",
    "total_loans_per_record_source_type_df.head()"
   ]
  },
  {
   "cell_type": "code",
   "execution_count": 34,
   "metadata": {},
   "outputs": [
    {
     "data": {
      "text/plain": [
       "public_record_source_type_code\n",
       "CI   15\n",
       "FE   13\n",
       "RD   16\n",
       "MU   22\n",
       "BK   19\n",
       "SU   24\n",
       "CC   16\n",
       "CR   12\n",
       "SC   18\n",
       "DC   14\n",
       "JU    6\n",
       "CT   10\n",
       "Name: proportion_late, dtype: float64"
      ]
     },
     "execution_count": 34,
     "metadata": {},
     "output_type": "execute_result"
    }
   ],
   "source": [
    "proportion_records_source_late_df = total_loans_per_record_source_type_df.merge(days_30_late_public_record_source_types_df, left_index=True, right_index=True, how='left')\n",
    "\n",
    "proportion_records_source_late_df = proportion_records_source_late_df.rename(columns={0:'Total_Records'})\n",
    "proportion_records_source_late_df['proportion_late'] = (proportion_records_source_late_df.late_30_days/proportion_records_source_late_df.Total_Records)*100\n",
    "proportion_records_source_late_df = proportion_records_source_late_df.sort_values(by='Total_Records', ascending=False) ## sort by quantity of type\n",
    "proportion_records_source_late_df = proportion_records_source_late_df.fillna(0)\n",
    "proportion_records_source_late_df = proportion_records_source_late_df.drop(['Total_Records', 'late_30_days'], axis=1)\n",
    "proportion_records_source_late_df = proportion_records_source_late_df.squeeze() ## change to series\n",
    "proportion_records_source_late_df = proportion_records_source_late_df.drop(proportion_records_source_late_df.index[-8:]) ## drop data with only a few values\n",
    "proportion_records_source_late_df"
   ]
  },
  {
   "cell_type": "code",
   "execution_count": 35,
   "metadata": {},
   "outputs": [
    {
     "data": {
      "image/png": "[encoded data removed]",
      "text/plain": [
       "<Figure size 432x288 with 1 Axes>"
      ]
     },
     "metadata": {
      "needs_background": "light"
     },
     "output_type": "display_data"
    }
   ],
   "source": [
    "fig = proportion_records_source_late_df.plot(kind='bar')\n",
    "fig.set_title(\"Proportions of Loans at Least 30 Days late per record source type\")\n",
    "fig.set_ylabel('Percentage');  ## x axis ordered by overall proportion of source type in dataset\n",
    "## SU and MU source_type_codes the most problamatic overall, both of which also have higher average max_loan_amounts"
   ]
  },
  {
   "cell_type": "code",
   "execution_count": 36,
   "metadata": {},
   "outputs": [
    {
     "data": {
      "text/html": [
       "<div>\n",
       "<style scoped>\n",
       "    .dataframe tbody tr th:only-of-type {\n",
       "        vertical-align: middle;\n",
       "    }\n",
       "\n",
       "    .dataframe tbody tr th {\n",
       "        vertical-align: top;\n",
       "    }\n",
       "\n",
       "    .dataframe thead th {\n",
       "        text-align: right;\n",
       "    }\n",
       "</style>\n",
       "<table border=\"1\" class=\"dataframe\">\n",
       "  <thead>\n",
       "    <tr style=\"text-align: right;\">\n",
       "      <th></th>\n",
       "      <th>analytics_matchkey</th>\n",
       "      <th>industry_code_kind_of_business</th>\n",
       "      <th>reporting_subscriber_code</th>\n",
       "      <th>public_record_type_code</th>\n",
       "      <th>effective_date_date_verified</th>\n",
       "      <th>filed_date</th>\n",
       "      <th>paid_date</th>\n",
       "      <th>amount</th>\n",
       "      <th>public_record_source_type_code</th>\n",
       "      <th>equal_credit_opportunity_act_code</th>\n",
       "      <th>legislative_prohibited_code</th>\n",
       "      <th>max_loan_amount</th>\n",
       "      <th>late_30_days</th>\n",
       "      <th>late_60_days</th>\n",
       "      <th>late_90_days</th>\n",
       "      <th>amount_paid_minus_max_loan_amount</th>\n",
       "    </tr>\n",
       "  </thead>\n",
       "  <tbody>\n",
       "    <tr>\n",
       "      <th>0</th>\n",
       "      <td>1346747</td>\n",
       "      <td>ZP</td>\n",
       "      <td>99</td>\n",
       "      <td>CJ</td>\n",
       "      <td>2013-06-04</td>\n",
       "      <td>2013-01-29</td>\n",
       "      <td>NaT</td>\n",
       "      <td>1209</td>\n",
       "      <td>CI</td>\n",
       "      <td>I</td>\n",
       "      <td>1</td>\n",
       "      <td>1002</td>\n",
       "      <td>0</td>\n",
       "      <td>0</td>\n",
       "      <td>0</td>\n",
       "      <td>207</td>\n",
       "    </tr>\n",
       "    <tr>\n",
       "      <th>1</th>\n",
       "      <td>1346748</td>\n",
       "      <td>ZP</td>\n",
       "      <td>485</td>\n",
       "      <td>7X</td>\n",
       "      <td>2014-09-25</td>\n",
       "      <td>2014-05-06</td>\n",
       "      <td>2014-09-24</td>\n",
       "      <td>nan</td>\n",
       "      <td>FE</td>\n",
       "      <td>I</td>\n",
       "      <td>1</td>\n",
       "      <td>1500</td>\n",
       "      <td>0</td>\n",
       "      <td>0</td>\n",
       "      <td>0</td>\n",
       "      <td>nan</td>\n",
       "    </tr>\n",
       "    <tr>\n",
       "      <th>2</th>\n",
       "      <td>1346754</td>\n",
       "      <td>Z</td>\n",
       "      <td>11R</td>\n",
       "      <td>SL</td>\n",
       "      <td>2012-01-24</td>\n",
       "      <td>2011-04-05</td>\n",
       "      <td>NaT</td>\n",
       "      <td>2248</td>\n",
       "      <td>RD</td>\n",
       "      <td>I</td>\n",
       "      <td>1</td>\n",
       "      <td>1025</td>\n",
       "      <td>0</td>\n",
       "      <td>0</td>\n",
       "      <td>0</td>\n",
       "      <td>1223</td>\n",
       "    </tr>\n",
       "    <tr>\n",
       "      <th>3</th>\n",
       "      <td>1346754</td>\n",
       "      <td>ZP</td>\n",
       "      <td>1</td>\n",
       "      <td>7X</td>\n",
       "      <td>2013-01-29</td>\n",
       "      <td>2012-09-28</td>\n",
       "      <td>2013-01-28</td>\n",
       "      <td>nan</td>\n",
       "      <td>FE</td>\n",
       "      <td>C</td>\n",
       "      <td>1</td>\n",
       "      <td>1025</td>\n",
       "      <td>0</td>\n",
       "      <td>0</td>\n",
       "      <td>0</td>\n",
       "      <td>nan</td>\n",
       "    </tr>\n",
       "    <tr>\n",
       "      <th>4</th>\n",
       "      <td>1346756</td>\n",
       "      <td>ZP</td>\n",
       "      <td>1</td>\n",
       "      <td>RL</td>\n",
       "      <td>2014-09-13</td>\n",
       "      <td>2007-02-02</td>\n",
       "      <td>2014-08-01</td>\n",
       "      <td>406</td>\n",
       "      <td>RD</td>\n",
       "      <td>I</td>\n",
       "      <td>1</td>\n",
       "      <td>2500</td>\n",
       "      <td>0</td>\n",
       "      <td>0</td>\n",
       "      <td>0</td>\n",
       "      <td>-2094</td>\n",
       "    </tr>\n",
       "  </tbody>\n",
       "</table>\n",
       "</div>"
      ],
      "text/plain": [
       "   analytics_matchkey industry_code_kind_of_business  \\\n",
       "0             1346747                             ZP   \n",
       "1             1346748                             ZP   \n",
       "2             1346754                              Z   \n",
       "3             1346754                             ZP   \n",
       "4             1346756                             ZP   \n",
       "\n",
       "  reporting_subscriber_code public_record_type_code  \\\n",
       "0                        99                      CJ   \n",
       "1                       485                      7X   \n",
       "2                       11R                      SL   \n",
       "3                         1                      7X   \n",
       "4                         1                      RL   \n",
       "\n",
       "  effective_date_date_verified filed_date  paid_date  amount  \\\n",
       "0                   2013-06-04 2013-01-29        NaT    1209   \n",
       "1                   2014-09-25 2014-05-06 2014-09-24     nan   \n",
       "2                   2012-01-24 2011-04-05        NaT    2248   \n",
       "3                   2013-01-29 2012-09-28 2013-01-28     nan   \n",
       "4                   2014-09-13 2007-02-02 2014-08-01     406   \n",
       "\n",
       "  public_record_source_type_code equal_credit_opportunity_act_code  \\\n",
       "0                             CI                                 I   \n",
       "1                             FE                                 I   \n",
       "2                             RD                                 I   \n",
       "3                             FE                                 C   \n",
       "4                             RD                                 I   \n",
       "\n",
       "   legislative_prohibited_code  max_loan_amount  late_30_days  late_60_days  \\\n",
       "0                            1             1002             0             0   \n",
       "1                            1             1500             0             0   \n",
       "2                            1             1025             0             0   \n",
       "3                            1             1025             0             0   \n",
       "4                            1             2500             0             0   \n",
       "\n",
       "   late_90_days  amount_paid_minus_max_loan_amount  \n",
       "0             0                                207  \n",
       "1             0                                nan  \n",
       "2             0                               1223  \n",
       "3             0                                nan  \n",
       "4             0                              -2094  "
      ]
     },
     "execution_count": 36,
     "metadata": {},
     "output_type": "execute_result"
    }
   ],
   "source": [
    "df_join_left.head()"
   ]
  },
  {
   "cell_type": "code",
   "execution_count": 37,
   "metadata": {},
   "outputs": [],
   "source": [
    "df_join_left['month'] = df_join_left['filed_date'].dt.month ## processing date values for aggregate analysis\n",
    "df_join_left['year'] = df_join_left['filed_date'].dt.year\n",
    "late_per_year = df_join_left.groupby('year')['late_30_days'].sum()\n",
    "records_per_year = df_join_left.groupby('year').size() ## total records per year\n",
    "records_per_year_df = records_per_year.to_frame()\n",
    "late_per_year_df = late_per_year.to_frame()"
   ]
  },
  {
   "cell_type": "code",
   "execution_count": 38,
   "metadata": {},
   "outputs": [
    {
     "data": {
      "text/html": [
       "<div>\n",
       "<style scoped>\n",
       "    .dataframe tbody tr th:only-of-type {\n",
       "        vertical-align: middle;\n",
       "    }\n",
       "\n",
       "    .dataframe tbody tr th {\n",
       "        vertical-align: top;\n",
       "    }\n",
       "\n",
       "    .dataframe thead th {\n",
       "        text-align: right;\n",
       "    }\n",
       "</style>\n",
       "<table border=\"1\" class=\"dataframe\">\n",
       "  <thead>\n",
       "    <tr style=\"text-align: right;\">\n",
       "      <th></th>\n",
       "      <th>0</th>\n",
       "      <th>late_30_days</th>\n",
       "    </tr>\n",
       "    <tr>\n",
       "      <th>year</th>\n",
       "      <th></th>\n",
       "      <th></th>\n",
       "    </tr>\n",
       "  </thead>\n",
       "  <tbody>\n",
       "    <tr>\n",
       "      <th>2006</th>\n",
       "      <td>866</td>\n",
       "      <td>118</td>\n",
       "    </tr>\n",
       "    <tr>\n",
       "      <th>2007</th>\n",
       "      <td>5236</td>\n",
       "      <td>588</td>\n",
       "    </tr>\n",
       "    <tr>\n",
       "      <th>2008</th>\n",
       "      <td>7694</td>\n",
       "      <td>852</td>\n",
       "    </tr>\n",
       "    <tr>\n",
       "      <th>2009</th>\n",
       "      <td>15983</td>\n",
       "      <td>1990</td>\n",
       "    </tr>\n",
       "    <tr>\n",
       "      <th>2010</th>\n",
       "      <td>37974</td>\n",
       "      <td>5266</td>\n",
       "    </tr>\n",
       "  </tbody>\n",
       "</table>\n",
       "</div>"
      ],
      "text/plain": [
       "          0  late_30_days\n",
       "year                     \n",
       "2006    866           118\n",
       "2007   5236           588\n",
       "2008   7694           852\n",
       "2009  15983          1990\n",
       "2010  37974          5266"
      ]
     },
     "execution_count": 38,
     "metadata": {},
     "output_type": "execute_result"
    }
   ],
   "source": [
    "proportion_records_late_year_df = records_per_year_df.merge(late_per_year_df, left_index=True, right_index=True, how='left')\n",
    "proportion_records_late_year_df.head()"
   ]
  },
  {
   "cell_type": "code",
   "execution_count": 39,
   "metadata": {},
   "outputs": [
    {
     "data": {
      "text/plain": [
       "year\n",
       "2006   14\n",
       "2007   11\n",
       "2008   11\n",
       "2009   12\n",
       "2010   14\n",
       "2011   14\n",
       "2012   15\n",
       "2013   16\n",
       "2014   17\n",
       "2015   18\n",
       "2016   19\n",
       "Name: proportion_late, dtype: float64"
      ]
     },
     "execution_count": 39,
     "metadata": {},
     "output_type": "execute_result"
    }
   ],
   "source": [
    "proportion_records_late_year_df = proportion_records_late_year_df.rename(columns={0:'Total_Records'})\n",
    "proportion_records_late_year_df['proportion_late'] = (proportion_records_late_year_df.late_30_days/proportion_records_late_year_df.Total_Records)*100\n",
    "proportion_records_late_year_df = proportion_records_late_year_df ## keep it in year order\n",
    "proportion_records_late_year_df = proportion_records_late_year_df.drop(['Total_Records', 'late_30_days'], axis=1)\n",
    "proportion_records_late_year_df = proportion_records_late_year_df.squeeze() ## change to series\n",
    "proportion_records_late_year_df"
   ]
  },
  {
   "cell_type": "code",
   "execution_count": 40,
   "metadata": {},
   "outputs": [
    {
     "data": {
      "image/png": "[encoded data removed]",
      "text/plain": [
       "<Figure size 432x288 with 1 Axes>"
      ]
     },
     "metadata": {
      "needs_background": "light"
     },
     "output_type": "display_data"
    }
   ],
   "source": [
    "fig = proportion_records_late_year_df.plot(kind='bar');\n",
    "fig.set_title(\"Proportions of Loans (Filed) that were at that were Least 30 Days late per Year\")\n",
    "fig.set_ylabel('Percent');  ## x axis ordered by year chronologically\n",
    "## greater proportion of loans are later than in previous years, for the most part"
   ]
  },
  {
   "cell_type": "code",
   "execution_count": 41,
   "metadata": {},
   "outputs": [
    {
     "data": {
      "text/plain": [
       "count    156792\n",
       "mean       4617\n",
       "std       41801\n",
       "min           0\n",
       "25%         644\n",
       "50%        1338\n",
       "75%        3174\n",
       "max     9999999\n",
       "Name: amount, dtype: float64"
      ]
     },
     "execution_count": 41,
     "metadata": {},
     "output_type": "execute_result"
    }
   ],
   "source": [
    "df_join_left['amount'].describe()"
   ]
  },
  {
   "cell_type": "code",
   "execution_count": 42,
   "metadata": {},
   "outputs": [
    {
     "data": {
      "text/plain": [
       "count   218303\n",
       "mean      1683\n",
       "std        716\n",
       "min       1000\n",
       "25%       1100\n",
       "50%       1500\n",
       "75%       2000\n",
       "max       4000\n",
       "Name: max_loan_amount, dtype: float64"
      ]
     },
     "execution_count": 42,
     "metadata": {},
     "output_type": "execute_result"
    }
   ],
   "source": [
    "df_join_left['max_loan_amount'].describe() "
   ]
  },
  {
   "cell_type": "code",
   "execution_count": 43,
   "metadata": {},
   "outputs": [
    {
     "data": {
      "text/plain": [
       "13.914353793507871"
      ]
     },
     "execution_count": 43,
     "metadata": {},
     "output_type": "execute_result"
    }
   ],
   "source": [
    "medical = df_join_left[df_join_left['legislative_prohibited_code'] == 2]\n",
    "medical_customers = len(medical['analytics_matchkey'].unique())\n",
    "## assuming 2 is the indicator variable that the loan is medical related\n",
    "## are loans more likely to be paid late if they are medically related? Apparently Not...\n",
    "late_medical = df_join_left[(df_join_left['legislative_prohibited_code'] == 2) & (df_join_left['late_30_days'] == 1)]\n",
    "late_medical_customers = len(late_medical['analytics_matchkey'].unique())\n",
    "late_medical_customers/medical_customers * 100 ## almost 13% of all customers that had medical loans also paid late\n",
    "late =  df_join_left[df_join_left['late_30_days'] == 1]\n",
    "late_customers = len(late['analytics_matchkey'].unique())\n",
    "customers = len(df_join_left['analytics_matchkey'].unique())\n",
    "late_medical_customers/late_customers * 100 \n",
    "## only 8.49% of loans that were paid late (at least 30 days) were medical related\n",
    "medical_customers/customers * 100 ##only 9.1% of loans are medically related anyway\n",
    "late_customers/customers * 100 ## about 13.91% of the customers have been 30 days late \n",
    "## Given that less than 13% of the customers with medical loans paid late, yet 13.91% of all customers have been late,\n",
    "## then a customer with a medical loan doesn't have a higher probability of paying late than a customer without one"
   ]
  },
  {
   "cell_type": "code",
   "execution_count": 44,
   "metadata": {},
   "outputs": [
    {
     "data": {
      "text/plain": [
       "array(['ZP', 'Z'], dtype=object)"
      ]
     },
     "execution_count": 44,
     "metadata": {},
     "output_type": "execute_result"
    }
   ],
   "source": [
    "df_join_left['industry_code_kind_of_business'].unique() \n",
    "## not sure what these codes mean, but is one more likely to be late than the other?"
   ]
  },
  {
   "cell_type": "code",
   "execution_count": 45,
   "metadata": {},
   "outputs": [
    {
     "name": "stdout",
     "output_type": "stream",
     "text": [
      "93.67191965379277\n",
      "9.237883860240355\n"
     ]
    },
    {
     "data": {
      "text/plain": [
       "13.914353793507871"
      ]
     },
     "execution_count": 45,
     "metadata": {},
     "output_type": "execute_result"
    }
   ],
   "source": [
    "ZP = df_join_left[df_join_left['industry_code_kind_of_business'] == 'ZP']\n",
    "ZP_customers = len(ZP['analytics_matchkey'].unique())\n",
    "ZP_late = df_join_left[(df_join_left['industry_code_kind_of_business'] == 'ZP') & (df_join_left['late_30_days'] == 1)]\n",
    "ZP_late_customers = len(ZP_late['analytics_matchkey'].unique())\n",
    "Z = df_join_left[df_join_left['industry_code_kind_of_business'] == 'Z']\n",
    "Z_customers = len(Z['analytics_matchkey'].unique())\n",
    "Z_late = df_join_left[(df_join_left['industry_code_kind_of_business'] == 'Z') & (df_join_left['late_30_days'] == 1)]\n",
    "Z_late_customers = len(Z_late['analytics_matchkey'].unique())\n",
    "\n",
    "ZP_late_customers/ZP_customers * 100 ## almost 14% of the customers with ZP industry code were late\n",
    "ZP_late_customers/late_customers * 100 ## 93.9% of late customers (at least 30 days) had industry code ZP\n",
    "Z_late_customers/Z_customers * 100 ## over 14.62% of the customers with Z industry code were late\n",
    "Z_late_customers/late_customers * 100 ## 9.7% of the late customers (at least 30 days) had industry code Z\n",
    "\n",
    "print(ZP_customers/customers * 100) ## 93.67 % of customers are of type ZP\n",
    "print(Z_customers/customers * 100) ## 9.23% of customers of type Z\n",
    "late_customers/customers * 100 ## about 13.91% of the customers have been 30 days late \n",
    "## However, these proportions are about the same as the overall proportions of type Z and ZP in the dataset, \n",
    "## so neither is helpful as a predictor of lateness"
   ]
  },
  {
   "cell_type": "code",
   "execution_count": 46,
   "metadata": {},
   "outputs": [
    {
     "data": {
      "text/plain": [
       "count   218303\n",
       "mean      1683\n",
       "std        716\n",
       "min       1000\n",
       "25%       1100\n",
       "50%       1500\n",
       "75%       2000\n",
       "max       4000\n",
       "Name: max_loan_amount, dtype: float64"
      ]
     },
     "execution_count": 46,
     "metadata": {},
     "output_type": "execute_result"
    }
   ],
   "source": [
    "## If a person has a higher max_loan_amount, are they more likely to be late?\n",
    "df_join_left['max_loan_amount'].describe()"
   ]
  },
  {
   "cell_type": "code",
   "execution_count": 47,
   "metadata": {},
   "outputs": [
    {
     "data": {
      "text/plain": [
       "15.99940289595462"
      ]
     },
     "execution_count": 47,
     "metadata": {},
     "output_type": "execute_result"
    }
   ],
   "source": [
    "above_75_max_loans = df_join_left[df_join_left['max_loan_amount'] > 2000]\n",
    "## only those with greater than average max_loan_amount\n",
    "above_75_max_loans.head()\n",
    "above_75_max_and_late = above_75_max_loans[above_75_max_loans['late_30_days'] == 1]\n",
    "customers_late_and_above_75 = len(above_75_max_and_late['analytics_matchkey'].unique())\n",
    "\n",
    "## 5,359 of customers had max_loan amounts above the 75th percentile and were late\n",
    "customers_above_75 = len(above_75_max_loans['analytics_matchkey'].unique())\n",
    "\n",
    "## 33,495 customers had max_loan_amounts above the 75th percentile\n",
    "customers_late_and_above_75/customers_above_75 * 100\n",
    "### 15.99 % of customers with above 75th percentile max_loan_amounts were also late\n",
    "\n",
    "###Therefore, customers in the top 25% of max loan amounts are slightly more likely to be late than other customers"
   ]
  },
  {
   "cell_type": "code",
   "execution_count": 48,
   "metadata": {},
   "outputs": [
    {
     "data": {
      "text/plain": [
       "13.806579561362575"
      ]
     },
     "execution_count": 48,
     "metadata": {},
     "output_type": "execute_result"
    }
   ],
   "source": [
    "below_25_max_loans = df_join_left[df_join_left['max_loan_amount'] <= 1100]\n",
    "below_25_max_and_late = below_25_max_loans[below_25_max_loans['late_30_days'] == 1]\n",
    "customers_late_and_below_25 = len(below_25_max_and_late['analytics_matchkey'].unique())\n",
    "customers_late_and_below_25\n",
    "## 4,734 customers were below the 25th percentile for max_loan_amount and were late\n",
    "customers_below_25 = len(below_25_max_loans['analytics_matchkey'].unique())\n",
    "customers_below_25\n",
    "## 34,288 customers had max_loan_amounts below the 25th percentile\n",
    "customers_late_and_below_25/customers_below_25 * 100\n",
    "## only 13.8% of the customers below the 25th percentile for max_loan_amount were late, so not more likely than other\n",
    "## customers to be late "
   ]
  },
  {
   "cell_type": "code",
   "execution_count": 49,
   "metadata": {},
   "outputs": [
    {
     "data": {
      "text/plain": [
       "count    156792\n",
       "mean       4617\n",
       "std       41801\n",
       "min           0\n",
       "25%         644\n",
       "50%        1338\n",
       "75%        3174\n",
       "max     9999999\n",
       "Name: amount, dtype: float64"
      ]
     },
     "execution_count": 49,
     "metadata": {},
     "output_type": "execute_result"
    }
   ],
   "source": [
    "df_join_left['amount'].describe()"
   ]
  },
  {
   "cell_type": "code",
   "execution_count": 50,
   "metadata": {},
   "outputs": [
    {
     "data": {
      "text/plain": [
       "15.587911018872818"
      ]
     },
     "execution_count": 50,
     "metadata": {},
     "output_type": "execute_result"
    }
   ],
   "source": [
    "Top_25_amount_and_late = days_30[days_30['amount'] > 3174]\n",
    "len(Top_25_amount_and_late['analytics_matchkey'].unique())/len(days_30['analytics_matchkey'].unique()) * 100\n",
    "Top_25_amount = df_join_left[df_join_left['amount'] > 3174]\n",
    "Top_25_amount = len(Top_25_amount['analytics_matchkey'].unique())\n",
    "len(Top_25_amount_and_late['analytics_matchkey'].unique())/Top_25_amount * 100\n",
    "## 25.644% of customers who were at least 30 days late had amounts in the top 25th percentile\n",
    "## 15.588% of customers in the top 25% of the amounts were late, higher proportion than in the overall dataset"
   ]
  },
  {
   "cell_type": "code",
   "execution_count": 51,
   "metadata": {},
   "outputs": [],
   "source": [
    "### So far, I have noticed that loans of source_type MU and SU are more likely to be paid late, as well as loans with type \n",
    "## FT and 3D. Generally, customers with higher 'max_loan_amounts' and higher 'amounts' are more likely to be late \n",
    "## I think it would be best to analyze only the more recent data to capture the most relevant/current trends, maybe just \n",
    "## 2015 and 2016 - especially to check that the more problematic record_types and source_types are still the same in more \n",
    "## recent years than when looking at our entire dataset\n",
    "## Given that the year over year analyisis of the proportion of loans that were late increased after from 2007 forward,\n",
    "## a time series analysis that looks for trend and seasonality in the data would be very useful for predicting\n",
    "## which loans would be late, given that in general the proportion of late loans is trending up\n",
    "## If we looked more closely at seasonality with month-year over the years 2006 - 2016, we may see that loans filed at a \n",
    "## certain time of year are more likely to be paid late than loans filed at other times in the year "
   ]
  }
 ],
 "metadata": {
  "kernelspec": {
   "display_name": "Python 3",
   "language": "python",
   "name": "python3"
  },
  "language_info": {
   "codemirror_mode": {
    "name": "ipython",
    "version": 3
   },
   "file_extension": ".py",
   "mimetype": "text/x-python",
   "name": "python",
   "nbconvert_exporter": "python",
   "pygments_lexer": "ipython3",
   "version": "3.5.4rc1"
  }
 },
 "nbformat": 4,
 "nbformat_minor": 2
}
