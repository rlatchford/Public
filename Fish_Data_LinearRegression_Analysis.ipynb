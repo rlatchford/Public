{
 "cells": [
  {
   "cell_type": "markdown",
   "metadata": {},
   "source": [
    "### In this analysis, I use a linear regression model to predict the Weight of a given fish from a market based on its other characteristics."
   ]
  },
  {
   "cell_type": "markdown",
   "metadata": {},
   "source": [
    "## Imports and Data Loading"
   ]
  },
  {
   "cell_type": "code",
   "execution_count": 1,
   "metadata": {},
   "outputs": [],
   "source": [
    "import pandas as pd\n",
    "import matplotlib.pyplot as plt\n",
    "import numpy as np\n",
    "import seaborn as sns\n",
    "import statsmodels.formula.api as smf\n",
    "from sklearn.linear_model import LinearRegression\n",
    "from sklearn import metrics\n",
    "from sklearn.model_selection import train_test_split\n",
    "from statsmodels.stats.outliers_influence import variance_inflation_factor \n",
    "from statistics import mean \n",
    "\n",
    "%matplotlib inline"
   ]
  },
  {
   "cell_type": "code",
   "execution_count": 2,
   "metadata": {},
   "outputs": [
    {
     "data": {
      "text/html": [
       "<div>\n",
       "<style scoped>\n",
       "    .dataframe tbody tr th:only-of-type {\n",
       "        vertical-align: middle;\n",
       "    }\n",
       "\n",
       "    .dataframe tbody tr th {\n",
       "        vertical-align: top;\n",
       "    }\n",
       "\n",
       "    .dataframe thead th {\n",
       "        text-align: right;\n",
       "    }\n",
       "</style>\n",
       "<table border=\"1\" class=\"dataframe\">\n",
       "  <thead>\n",
       "    <tr style=\"text-align: right;\">\n",
       "      <th></th>\n",
       "      <th>Species</th>\n",
       "      <th>Weight</th>\n",
       "      <th>Length1</th>\n",
       "      <th>Length2</th>\n",
       "      <th>Length3</th>\n",
       "      <th>Height</th>\n",
       "      <th>Width</th>\n",
       "    </tr>\n",
       "  </thead>\n",
       "  <tbody>\n",
       "    <tr>\n",
       "      <th>0</th>\n",
       "      <td>Bream</td>\n",
       "      <td>242.0</td>\n",
       "      <td>23.2</td>\n",
       "      <td>25.4</td>\n",
       "      <td>30.0</td>\n",
       "      <td>11.5200</td>\n",
       "      <td>4.0200</td>\n",
       "    </tr>\n",
       "    <tr>\n",
       "      <th>1</th>\n",
       "      <td>Bream</td>\n",
       "      <td>290.0</td>\n",
       "      <td>24.0</td>\n",
       "      <td>26.3</td>\n",
       "      <td>31.2</td>\n",
       "      <td>12.4800</td>\n",
       "      <td>4.3056</td>\n",
       "    </tr>\n",
       "    <tr>\n",
       "      <th>2</th>\n",
       "      <td>Bream</td>\n",
       "      <td>340.0</td>\n",
       "      <td>23.9</td>\n",
       "      <td>26.5</td>\n",
       "      <td>31.1</td>\n",
       "      <td>12.3778</td>\n",
       "      <td>4.6961</td>\n",
       "    </tr>\n",
       "    <tr>\n",
       "      <th>3</th>\n",
       "      <td>Bream</td>\n",
       "      <td>363.0</td>\n",
       "      <td>26.3</td>\n",
       "      <td>29.0</td>\n",
       "      <td>33.5</td>\n",
       "      <td>12.7300</td>\n",
       "      <td>4.4555</td>\n",
       "    </tr>\n",
       "    <tr>\n",
       "      <th>4</th>\n",
       "      <td>Bream</td>\n",
       "      <td>430.0</td>\n",
       "      <td>26.5</td>\n",
       "      <td>29.0</td>\n",
       "      <td>34.0</td>\n",
       "      <td>12.4440</td>\n",
       "      <td>5.1340</td>\n",
       "    </tr>\n",
       "  </tbody>\n",
       "</table>\n",
       "</div>"
      ],
      "text/plain": [
       "  Species  Weight  Length1  Length2  Length3   Height   Width\n",
       "0   Bream   242.0     23.2     25.4     30.0  11.5200  4.0200\n",
       "1   Bream   290.0     24.0     26.3     31.2  12.4800  4.3056\n",
       "2   Bream   340.0     23.9     26.5     31.1  12.3778  4.6961\n",
       "3   Bream   363.0     26.3     29.0     33.5  12.7300  4.4555\n",
       "4   Bream   430.0     26.5     29.0     34.0  12.4440  5.1340"
      ]
     },
     "execution_count": 2,
     "metadata": {},
     "output_type": "execute_result"
    }
   ],
   "source": [
    "df = pd.read_csv('Fish_Data.csv', index_col=False)\n",
    "df.head()"
   ]
  },
  {
   "cell_type": "markdown",
   "metadata": {},
   "source": [
    "## Preliminary Exploratory Data Analysis"
   ]
  },
  {
   "cell_type": "code",
   "execution_count": 3,
   "metadata": {},
   "outputs": [
    {
     "data": {
      "text/plain": [
       "Perch        56\n",
       "Bream        35\n",
       "Roach        20\n",
       "Pike         17\n",
       "Smelt        14\n",
       "Parkki       11\n",
       "Whitefish     6\n",
       "Name: Species, dtype: int64"
      ]
     },
     "execution_count": 3,
     "metadata": {},
     "output_type": "execute_result"
    }
   ],
   "source": [
    "df['Species'].value_counts()"
   ]
  },
  {
   "cell_type": "code",
   "execution_count": 4,
   "metadata": {},
   "outputs": [
    {
     "data": {
      "text/plain": [
       "Species\n",
       "Bream        617.828571\n",
       "Parkki       154.818182\n",
       "Perch        382.239286\n",
       "Pike         718.705882\n",
       "Roach        152.050000\n",
       "Smelt         11.178571\n",
       "Whitefish    531.000000\n",
       "Name: Weight, dtype: float64"
      ]
     },
     "execution_count": 4,
     "metadata": {},
     "output_type": "execute_result"
    }
   ],
   "source": [
    "df.groupby('Species')['Weight'].mean()"
   ]
  },
  {
   "cell_type": "code",
   "execution_count": 5,
   "metadata": {},
   "outputs": [
    {
     "data": {
      "image/png": "[encoded data removed]",
      "text/plain": [
       "<Figure size 432x288 with 1 Axes>"
      ]
     },
     "metadata": {
      "needs_background": "light"
     },
     "output_type": "display_data"
    }
   ],
   "source": [
    "ax = sns.boxplot(x=\"Species\", y=\"Weight\", data=df).set_title('Weight Distribution by Fish Species')"
   ]
  },
  {
   "cell_type": "code",
   "execution_count": 6,
   "metadata": {},
   "outputs": [
    {
     "data": {
      "image/png": "[encoded data removed]",
      "text/plain": [
       "<Figure size 432x288 with 1 Axes>"
      ]
     },
     "metadata": {
      "needs_background": "light"
     },
     "output_type": "display_data"
    }
   ],
   "source": [
    "ax = sns.boxplot(x=\"Species\", y=\"Length1\", data=df).set_title('Length1 Distribution by Fish Species')"
   ]
  },
  {
   "cell_type": "code",
   "execution_count": 7,
   "metadata": {},
   "outputs": [
    {
     "data": {
      "image/png": "[encoded data removed]",
      "text/plain": [
       "<Figure size 432x288 with 1 Axes>"
      ]
     },
     "metadata": {
      "needs_background": "light"
     },
     "output_type": "display_data"
    }
   ],
   "source": [
    "ax = sns.boxplot(x=\"Species\", y=\"Length2\", data=df).set_title('Length2 Distribution by Fish Species')"
   ]
  },
  {
   "cell_type": "code",
   "execution_count": 8,
   "metadata": {},
   "outputs": [
    {
     "data": {
      "image/png": "[encoded data removed]",
      "text/plain": [
       "<Figure size 432x288 with 1 Axes>"
      ]
     },
     "metadata": {
      "needs_background": "light"
     },
     "output_type": "display_data"
    }
   ],
   "source": [
    "ax = sns.boxplot(x=\"Species\", y=\"Length3\", data=df).set_title('Length3 Distribution by Fish Species')"
   ]
  },
  {
   "cell_type": "code",
   "execution_count": 9,
   "metadata": {},
   "outputs": [
    {
     "data": {
      "image/png": "[encoded data removed]",
      "text/plain": [
       "<Figure size 432x288 with 1 Axes>"
      ]
     },
     "metadata": {
      "needs_background": "light"
     },
     "output_type": "display_data"
    }
   ],
   "source": [
    "ax = sns.boxplot(x=\"Species\", y=\"Width\", data=df).set_title('Width Distribution by Fish Species')"
   ]
  },
  {
   "cell_type": "markdown",
   "metadata": {},
   "source": [
    "### I notice that the three different 'Length' meausurements all have very similar distributions by fish species. It's likely that I will find strong correlation between these variables (and later on I show you that there is high correlation amongst all of the independent variables in the data set)"
   ]
  },
  {
   "cell_type": "code",
   "execution_count": 10,
   "metadata": {},
   "outputs": [
    {
     "data": {
      "image/png": "[encoded data removed]",
      "text/plain": [
       "<Figure size 1764x504 with 5 Axes>"
      ]
     },
     "metadata": {
      "needs_background": "light"
     },
     "output_type": "display_data"
    }
   ],
   "source": [
    "sns.pairplot(df, x_vars=['Height','Width','Length1', 'Length2', 'Length3'], y_vars='Weight', height=7, aspect=0.7, kind='reg', diag_kind = None);"
   ]
  },
  {
   "cell_type": "markdown",
   "metadata": {},
   "source": [
    "### All of the continuous independent variables are strongly (positively) linearly correlated with the DV (Weight), so a Linear Model framework makes sense."
   ]
  },
  {
   "cell_type": "code",
   "execution_count": 11,
   "metadata": {},
   "outputs": [
    {
     "data": {
      "text/html": [
       "<div>\n",
       "<style scoped>\n",
       "    .dataframe tbody tr th:only-of-type {\n",
       "        vertical-align: middle;\n",
       "    }\n",
       "\n",
       "    .dataframe tbody tr th {\n",
       "        vertical-align: top;\n",
       "    }\n",
       "\n",
       "    .dataframe thead th {\n",
       "        text-align: right;\n",
       "    }\n",
       "</style>\n",
       "<table border=\"1\" class=\"dataframe\">\n",
       "  <thead>\n",
       "    <tr style=\"text-align: right;\">\n",
       "      <th></th>\n",
       "      <th>Height</th>\n",
       "      <th>Width</th>\n",
       "      <th>Length1</th>\n",
       "      <th>Length2</th>\n",
       "      <th>Length3</th>\n",
       "    </tr>\n",
       "  </thead>\n",
       "  <tbody>\n",
       "    <tr>\n",
       "      <th>Height</th>\n",
       "      <td>1.000000</td>\n",
       "      <td>0.792881</td>\n",
       "      <td>0.625378</td>\n",
       "      <td>0.640441</td>\n",
       "      <td>0.703409</td>\n",
       "    </tr>\n",
       "    <tr>\n",
       "      <th>Width</th>\n",
       "      <td>0.792881</td>\n",
       "      <td>1.000000</td>\n",
       "      <td>0.867050</td>\n",
       "      <td>0.873547</td>\n",
       "      <td>0.878520</td>\n",
       "    </tr>\n",
       "    <tr>\n",
       "      <th>Length1</th>\n",
       "      <td>0.625378</td>\n",
       "      <td>0.867050</td>\n",
       "      <td>1.000000</td>\n",
       "      <td>0.999517</td>\n",
       "      <td>0.992031</td>\n",
       "    </tr>\n",
       "    <tr>\n",
       "      <th>Length2</th>\n",
       "      <td>0.640441</td>\n",
       "      <td>0.873547</td>\n",
       "      <td>0.999517</td>\n",
       "      <td>1.000000</td>\n",
       "      <td>0.994103</td>\n",
       "    </tr>\n",
       "    <tr>\n",
       "      <th>Length3</th>\n",
       "      <td>0.703409</td>\n",
       "      <td>0.878520</td>\n",
       "      <td>0.992031</td>\n",
       "      <td>0.994103</td>\n",
       "      <td>1.000000</td>\n",
       "    </tr>\n",
       "  </tbody>\n",
       "</table>\n",
       "</div>"
      ],
      "text/plain": [
       "           Height     Width   Length1   Length2   Length3\n",
       "Height   1.000000  0.792881  0.625378  0.640441  0.703409\n",
       "Width    0.792881  1.000000  0.867050  0.873547  0.878520\n",
       "Length1  0.625378  0.867050  1.000000  0.999517  0.992031\n",
       "Length2  0.640441  0.873547  0.999517  1.000000  0.994103\n",
       "Length3  0.703409  0.878520  0.992031  0.994103  1.000000"
      ]
     },
     "execution_count": 11,
     "metadata": {},
     "output_type": "execute_result"
    }
   ],
   "source": [
    "df[['Height', 'Width', 'Length1', 'Length2', 'Length3']].corr()"
   ]
  },
  {
   "cell_type": "markdown",
   "metadata": {},
   "source": [
    "### First I make a correlation coefficient table for all of the continuous independent variables. As you can see, there is high correlation amongst all variables, especially between pairs of the 'Length' variables"
   ]
  },
  {
   "cell_type": "markdown",
   "metadata": {},
   "source": [
    "## Dummy the categorical variable \"Species\""
   ]
  },
  {
   "cell_type": "code",
   "execution_count": 12,
   "metadata": {},
   "outputs": [
    {
     "data": {
      "text/html": [
       "<div>\n",
       "<style scoped>\n",
       "    .dataframe tbody tr th:only-of-type {\n",
       "        vertical-align: middle;\n",
       "    }\n",
       "\n",
       "    .dataframe tbody tr th {\n",
       "        vertical-align: top;\n",
       "    }\n",
       "\n",
       "    .dataframe thead th {\n",
       "        text-align: right;\n",
       "    }\n",
       "</style>\n",
       "<table border=\"1\" class=\"dataframe\">\n",
       "  <thead>\n",
       "    <tr style=\"text-align: right;\">\n",
       "      <th></th>\n",
       "      <th>Species_Parkki</th>\n",
       "      <th>Species_Perch</th>\n",
       "      <th>Species_Pike</th>\n",
       "      <th>Species_Roach</th>\n",
       "      <th>Species_Smelt</th>\n",
       "      <th>Species_Whitefish</th>\n",
       "    </tr>\n",
       "  </thead>\n",
       "  <tbody>\n",
       "    <tr>\n",
       "      <th>0</th>\n",
       "      <td>0</td>\n",
       "      <td>0</td>\n",
       "      <td>0</td>\n",
       "      <td>0</td>\n",
       "      <td>0</td>\n",
       "      <td>0</td>\n",
       "    </tr>\n",
       "    <tr>\n",
       "      <th>1</th>\n",
       "      <td>0</td>\n",
       "      <td>0</td>\n",
       "      <td>0</td>\n",
       "      <td>0</td>\n",
       "      <td>0</td>\n",
       "      <td>0</td>\n",
       "    </tr>\n",
       "    <tr>\n",
       "      <th>2</th>\n",
       "      <td>0</td>\n",
       "      <td>0</td>\n",
       "      <td>0</td>\n",
       "      <td>0</td>\n",
       "      <td>0</td>\n",
       "      <td>0</td>\n",
       "    </tr>\n",
       "    <tr>\n",
       "      <th>3</th>\n",
       "      <td>0</td>\n",
       "      <td>0</td>\n",
       "      <td>0</td>\n",
       "      <td>0</td>\n",
       "      <td>0</td>\n",
       "      <td>0</td>\n",
       "    </tr>\n",
       "    <tr>\n",
       "      <th>4</th>\n",
       "      <td>0</td>\n",
       "      <td>0</td>\n",
       "      <td>0</td>\n",
       "      <td>0</td>\n",
       "      <td>0</td>\n",
       "      <td>0</td>\n",
       "    </tr>\n",
       "  </tbody>\n",
       "</table>\n",
       "</div>"
      ],
      "text/plain": [
       "   Species_Parkki  Species_Perch  Species_Pike  Species_Roach  Species_Smelt  \\\n",
       "0               0              0             0              0              0   \n",
       "1               0              0             0              0              0   \n",
       "2               0              0             0              0              0   \n",
       "3               0              0             0              0              0   \n",
       "4               0              0             0              0              0   \n",
       "\n",
       "   Species_Whitefish  \n",
       "0                  0  \n",
       "1                  0  \n",
       "2                  0  \n",
       "3                  0  \n",
       "4                  0  "
      ]
     },
     "execution_count": 12,
     "metadata": {},
     "output_type": "execute_result"
    }
   ],
   "source": [
    "Species_dummies = pd.get_dummies(df.Species, prefix='Species').iloc[:, 1:]\n",
    "Species_dummies.head()"
   ]
  },
  {
   "cell_type": "markdown",
   "metadata": {},
   "source": [
    "### Calculate Variance Inflaction Factors (VIFs) for all independent variables"
   ]
  },
  {
   "cell_type": "code",
   "execution_count": 13,
   "metadata": {},
   "outputs": [
    {
     "data": {
      "text/html": [
       "<div>\n",
       "<style scoped>\n",
       "    .dataframe tbody tr th:only-of-type {\n",
       "        vertical-align: middle;\n",
       "    }\n",
       "\n",
       "    .dataframe tbody tr th {\n",
       "        vertical-align: top;\n",
       "    }\n",
       "\n",
       "    .dataframe thead th {\n",
       "        text-align: right;\n",
       "    }\n",
       "</style>\n",
       "<table border=\"1\" class=\"dataframe\">\n",
       "  <thead>\n",
       "    <tr style=\"text-align: right;\">\n",
       "      <th></th>\n",
       "      <th>Weight</th>\n",
       "      <th>Length1</th>\n",
       "      <th>Length2</th>\n",
       "      <th>Length3</th>\n",
       "      <th>Height</th>\n",
       "      <th>Width</th>\n",
       "      <th>Species_Parkki</th>\n",
       "      <th>Species_Perch</th>\n",
       "      <th>Species_Pike</th>\n",
       "      <th>Species_Roach</th>\n",
       "      <th>Species_Smelt</th>\n",
       "      <th>Species_Whitefish</th>\n",
       "    </tr>\n",
       "  </thead>\n",
       "  <tbody>\n",
       "    <tr>\n",
       "      <th>0</th>\n",
       "      <td>242.0</td>\n",
       "      <td>23.2</td>\n",
       "      <td>25.4</td>\n",
       "      <td>30.0</td>\n",
       "      <td>11.5200</td>\n",
       "      <td>4.0200</td>\n",
       "      <td>0</td>\n",
       "      <td>0</td>\n",
       "      <td>0</td>\n",
       "      <td>0</td>\n",
       "      <td>0</td>\n",
       "      <td>0</td>\n",
       "    </tr>\n",
       "    <tr>\n",
       "      <th>1</th>\n",
       "      <td>290.0</td>\n",
       "      <td>24.0</td>\n",
       "      <td>26.3</td>\n",
       "      <td>31.2</td>\n",
       "      <td>12.4800</td>\n",
       "      <td>4.3056</td>\n",
       "      <td>0</td>\n",
       "      <td>0</td>\n",
       "      <td>0</td>\n",
       "      <td>0</td>\n",
       "      <td>0</td>\n",
       "      <td>0</td>\n",
       "    </tr>\n",
       "    <tr>\n",
       "      <th>2</th>\n",
       "      <td>340.0</td>\n",
       "      <td>23.9</td>\n",
       "      <td>26.5</td>\n",
       "      <td>31.1</td>\n",
       "      <td>12.3778</td>\n",
       "      <td>4.6961</td>\n",
       "      <td>0</td>\n",
       "      <td>0</td>\n",
       "      <td>0</td>\n",
       "      <td>0</td>\n",
       "      <td>0</td>\n",
       "      <td>0</td>\n",
       "    </tr>\n",
       "    <tr>\n",
       "      <th>3</th>\n",
       "      <td>363.0</td>\n",
       "      <td>26.3</td>\n",
       "      <td>29.0</td>\n",
       "      <td>33.5</td>\n",
       "      <td>12.7300</td>\n",
       "      <td>4.4555</td>\n",
       "      <td>0</td>\n",
       "      <td>0</td>\n",
       "      <td>0</td>\n",
       "      <td>0</td>\n",
       "      <td>0</td>\n",
       "      <td>0</td>\n",
       "    </tr>\n",
       "    <tr>\n",
       "      <th>4</th>\n",
       "      <td>430.0</td>\n",
       "      <td>26.5</td>\n",
       "      <td>29.0</td>\n",
       "      <td>34.0</td>\n",
       "      <td>12.4440</td>\n",
       "      <td>5.1340</td>\n",
       "      <td>0</td>\n",
       "      <td>0</td>\n",
       "      <td>0</td>\n",
       "      <td>0</td>\n",
       "      <td>0</td>\n",
       "      <td>0</td>\n",
       "    </tr>\n",
       "  </tbody>\n",
       "</table>\n",
       "</div>"
      ],
      "text/plain": [
       "   Weight  Length1  Length2  Length3   Height   Width  Species_Parkki  \\\n",
       "0   242.0     23.2     25.4     30.0  11.5200  4.0200               0   \n",
       "1   290.0     24.0     26.3     31.2  12.4800  4.3056               0   \n",
       "2   340.0     23.9     26.5     31.1  12.3778  4.6961               0   \n",
       "3   363.0     26.3     29.0     33.5  12.7300  4.4555               0   \n",
       "4   430.0     26.5     29.0     34.0  12.4440  5.1340               0   \n",
       "\n",
       "   Species_Perch  Species_Pike  Species_Roach  Species_Smelt  \\\n",
       "0              0             0              0              0   \n",
       "1              0             0              0              0   \n",
       "2              0             0              0              0   \n",
       "3              0             0              0              0   \n",
       "4              0             0              0              0   \n",
       "\n",
       "   Species_Whitefish  \n",
       "0                  0  \n",
       "1                  0  \n",
       "2                  0  \n",
       "3                  0  \n",
       "4                  0  "
      ]
     },
     "execution_count": 13,
     "metadata": {},
     "output_type": "execute_result"
    }
   ],
   "source": [
    "df = pd.concat([df, Species_dummies], axis=1)\n",
    "df.drop('Species', axis=1, inplace = True)\n",
    "df.head()"
   ]
  },
  {
   "cell_type": "code",
   "execution_count": 14,
   "metadata": {},
   "outputs": [
    {
     "name": "stdout",
     "output_type": "stream",
     "text": [
      "              feature           VIF\n",
      "0             Length1  18095.288475\n",
      "1             Length2  30522.367427\n",
      "2             Length3   7960.777533\n",
      "3              Height    235.486610\n",
      "4               Width    182.874185\n",
      "5      Species_Parkki      1.272513\n",
      "6       Species_Perch      8.913123\n",
      "7        Species_Pike     15.338391\n",
      "8       Species_Roach      2.747195\n",
      "9       Species_Smelt      1.840413\n",
      "10  Species_Whitefish      1.747763\n"
     ]
    }
   ],
   "source": [
    "X = df.loc[:, df.columns != 'Weight']\n",
    "# VIF dataframe \n",
    "vif_data = pd.DataFrame() \n",
    "vif_data[\"feature\"] = X.columns \n",
    "# calculating VIF for each feature \n",
    "vif_data[\"VIF\"] = [variance_inflation_factor(X.values, i) \n",
    "                          for i in range(len(X.columns))] \n",
    "  \n",
    "print(vif_data)"
   ]
  },
  {
   "cell_type": "markdown",
   "metadata": {},
   "source": [
    "### Since there are many variables with high VIF, I now begin the iterative process of excluding the variable with the highest VIF until all variables have a VIF < 5. "
   ]
  },
  {
   "cell_type": "code",
   "execution_count": 15,
   "metadata": {},
   "outputs": [
    {
     "name": "stdout",
     "output_type": "stream",
     "text": [
      "             feature          VIF\n",
      "0            Length1  3938.011102\n",
      "1            Length3  4851.453432\n",
      "2             Height   231.280402\n",
      "3              Width   181.929945\n",
      "4     Species_Parkki     1.233832\n",
      "5      Species_Perch     6.556086\n",
      "6       Species_Pike    15.284881\n",
      "7      Species_Roach     2.718007\n",
      "8      Species_Smelt     1.791291\n",
      "9  Species_Whitefish     1.644230\n"
     ]
    }
   ],
   "source": [
    "X2 = X.loc[:, X.columns != 'Length2']\n",
    "# VIF dataframe \n",
    "vif_data = pd.DataFrame() \n",
    "vif_data[\"feature\"] = X2.columns \n",
    "# calculating VIF for each feature \n",
    "vif_data[\"VIF\"] = [variance_inflation_factor(X2.values, i) \n",
    "                          for i in range(len(X2.columns))] \n",
    "  \n",
    "print(vif_data)"
   ]
  },
  {
   "cell_type": "code",
   "execution_count": 16,
   "metadata": {},
   "outputs": [
    {
     "name": "stdout",
     "output_type": "stream",
     "text": [
      "             feature         VIF\n",
      "0            Length1  208.290678\n",
      "1             Height   64.645153\n",
      "2              Width  157.135124\n",
      "3     Species_Parkki    1.113231\n",
      "4      Species_Perch    6.406321\n",
      "5       Species_Pike   12.789017\n",
      "6      Species_Roach    1.949318\n",
      "7      Species_Smelt    1.638303\n",
      "8  Species_Whitefish    1.513075\n"
     ]
    }
   ],
   "source": [
    "X3 = X2.loc[:, X2.columns != 'Length3']\n",
    "# VIF dataframe \n",
    "vif_data = pd.DataFrame() \n",
    "vif_data[\"feature\"] = X3.columns \n",
    "# calculating VIF for each feature \n",
    "vif_data[\"VIF\"] = [variance_inflation_factor(X3.values, i) \n",
    "                          for i in range(len(X3.columns))] \n",
    "  \n",
    "print(vif_data)"
   ]
  },
  {
   "cell_type": "code",
   "execution_count": 17,
   "metadata": {},
   "outputs": [
    {
     "name": "stdout",
     "output_type": "stream",
     "text": [
      "             feature        VIF\n",
      "0             Height  51.242084\n",
      "1              Width  80.466771\n",
      "2     Species_Parkki   1.104362\n",
      "3      Species_Perch   5.569874\n",
      "4       Species_Pike   2.996380\n",
      "5      Species_Roach   1.713386\n",
      "6      Species_Smelt   1.092319\n",
      "7  Species_Whitefish   1.477491\n"
     ]
    }
   ],
   "source": [
    "X4 = X3.loc[:, X3.columns != 'Length1']\n",
    "# VIF dataframe \n",
    "vif_data = pd.DataFrame() \n",
    "vif_data[\"feature\"] = X4.columns \n",
    "# calculating VIF for each feature \n",
    "vif_data[\"VIF\"] = [variance_inflation_factor(X4.values, i) \n",
    "                          for i in range(len(X4.columns))] \n",
    "  \n",
    "print(vif_data)"
   ]
  },
  {
   "cell_type": "markdown",
   "metadata": {},
   "source": [
    "## Model Final Features List"
   ]
  },
  {
   "cell_type": "code",
   "execution_count": 18,
   "metadata": {},
   "outputs": [
    {
     "name": "stdout",
     "output_type": "stream",
     "text": [
      "             feature       VIF\n",
      "0             Height  1.789162\n",
      "1     Species_Parkki  1.100699\n",
      "2      Species_Perch  1.394478\n",
      "3       Species_Pike  1.115283\n",
      "4      Species_Roach  1.102161\n",
      "5      Species_Smelt  1.007788\n",
      "6  Species_Whitefish  1.068753\n"
     ]
    }
   ],
   "source": [
    "X5 = X4.loc[:, X4.columns != 'Width']\n",
    "# VIF dataframe \n",
    "vif_data = pd.DataFrame() \n",
    "vif_data[\"feature\"] = X5.columns \n",
    "# calculating VIF for each feature \n",
    "vif_data[\"VIF\"] = [variance_inflation_factor(X5.values, i) \n",
    "                          for i in range(len(X5.columns))] \n",
    "  \n",
    "print(vif_data)"
   ]
  },
  {
   "cell_type": "markdown",
   "metadata": {},
   "source": [
    "## Model "
   ]
  },
  {
   "cell_type": "code",
   "execution_count": 19,
   "metadata": {},
   "outputs": [
    {
     "data": {
      "text/plain": [
       "Intercept           -1210.602453\n",
       "Height                120.424525\n",
       "Species_Parkki        286.124588\n",
       "Species_Perch         646.079821\n",
       "Species_Pike         1000.381176\n",
       "Species_Roach         556.434945\n",
       "Species_Smelt         955.718520\n",
       "Species_Whitefish     534.085670\n",
       "dtype: float64"
      ]
     },
     "execution_count": 19,
     "metadata": {},
     "output_type": "execute_result"
    }
   ],
   "source": [
    "### STATSMODELS ###\n",
    "\n",
    "# create a fitted model\n",
    "lm1 = smf.ols(formula='Weight ~ Height + Species_Parkki + Species_Perch + Species_Pike + Species_Roach + Species_Smelt + Species_Whitefish', data=df).fit()\n",
    "\n",
    "# print the coefficients\n",
    "lm1.params"
   ]
  },
  {
   "cell_type": "code",
   "execution_count": 20,
   "metadata": {},
   "outputs": [
    {
     "data": {
      "text/html": [
       "<div>\n",
       "<style scoped>\n",
       "    .dataframe tbody tr th:only-of-type {\n",
       "        vertical-align: middle;\n",
       "    }\n",
       "\n",
       "    .dataframe tbody tr th {\n",
       "        vertical-align: top;\n",
       "    }\n",
       "\n",
       "    .dataframe thead th {\n",
       "        text-align: right;\n",
       "    }\n",
       "</style>\n",
       "<table border=\"1\" class=\"dataframe\">\n",
       "  <thead>\n",
       "    <tr style=\"text-align: right;\">\n",
       "      <th></th>\n",
       "      <th>0</th>\n",
       "      <th>1</th>\n",
       "    </tr>\n",
       "  </thead>\n",
       "  <tbody>\n",
       "    <tr>\n",
       "      <th>Intercept</th>\n",
       "      <td>-1361.993825</td>\n",
       "      <td>-1059.211081</td>\n",
       "    </tr>\n",
       "    <tr>\n",
       "      <th>Height</th>\n",
       "      <td>110.863016</td>\n",
       "      <td>129.986034</td>\n",
       "    </tr>\n",
       "    <tr>\n",
       "      <th>Species_Parkki</th>\n",
       "      <td>180.067728</td>\n",
       "      <td>392.181447</td>\n",
       "    </tr>\n",
       "    <tr>\n",
       "      <th>Species_Perch</th>\n",
       "      <td>557.217542</td>\n",
       "      <td>734.942101</td>\n",
       "    </tr>\n",
       "    <tr>\n",
       "      <th>Species_Pike</th>\n",
       "      <td>896.745465</td>\n",
       "      <td>1104.016887</td>\n",
       "    </tr>\n",
       "    <tr>\n",
       "      <th>Species_Roach</th>\n",
       "      <td>448.464759</td>\n",
       "      <td>664.405131</td>\n",
       "    </tr>\n",
       "    <tr>\n",
       "      <th>Species_Smelt</th>\n",
       "      <td>807.930299</td>\n",
       "      <td>1103.506740</td>\n",
       "    </tr>\n",
       "    <tr>\n",
       "      <th>Species_Whitefish</th>\n",
       "      <td>411.491527</td>\n",
       "      <td>656.679813</td>\n",
       "    </tr>\n",
       "  </tbody>\n",
       "</table>\n",
       "</div>"
      ],
      "text/plain": [
       "                             0            1\n",
       "Intercept         -1361.993825 -1059.211081\n",
       "Height              110.863016   129.986034\n",
       "Species_Parkki      180.067728   392.181447\n",
       "Species_Perch       557.217542   734.942101\n",
       "Species_Pike        896.745465  1104.016887\n",
       "Species_Roach       448.464759   664.405131\n",
       "Species_Smelt       807.930299  1103.506740\n",
       "Species_Whitefish   411.491527   656.679813"
      ]
     },
     "execution_count": 20,
     "metadata": {},
     "output_type": "execute_result"
    }
   ],
   "source": [
    "### STATSMODELS ###\n",
    "\n",
    "# print the confidence intervals for the model coefficients\n",
    "lm1.conf_int()"
   ]
  },
  {
   "cell_type": "code",
   "execution_count": 21,
   "metadata": {},
   "outputs": [
    {
     "data": {
      "text/plain": [
       "Intercept            8.296139e-34\n",
       "Height               2.695906e-55\n",
       "Species_Parkki       3.505134e-07\n",
       "Species_Perch        4.811644e-30\n",
       "Species_Pike         4.714980e-42\n",
       "Species_Roach        7.288370e-19\n",
       "Species_Smelt        8.304851e-26\n",
       "Species_Whitefish    9.059030e-15\n",
       "dtype: float64"
      ]
     },
     "execution_count": 21,
     "metadata": {},
     "output_type": "execute_result"
    }
   ],
   "source": [
    "### STATSMODELS ###\n",
    "\n",
    "# print the p-values for the model coefficients\n",
    "lm1.pvalues"
   ]
  },
  {
   "cell_type": "markdown",
   "metadata": {},
   "source": [
    "## Model R-Squared"
   ]
  },
  {
   "cell_type": "code",
   "execution_count": 22,
   "metadata": {},
   "outputs": [
    {
     "data": {
      "text/plain": [
       "0.8767212600952883"
      ]
     },
     "execution_count": 22,
     "metadata": {},
     "output_type": "execute_result"
    }
   ],
   "source": [
    "### STATSMODELS ###\n",
    "\n",
    "# print the R-squared value for the model\n",
    "lm1.rsquared"
   ]
  },
  {
   "cell_type": "markdown",
   "metadata": {},
   "source": [
    "### All relations between Independent variables and the Dependent variable are significant, and our R-Squared is strong (~0.88)"
   ]
  },
  {
   "cell_type": "markdown",
   "metadata": {},
   "source": [
    "## Model Summary"
   ]
  },
  {
   "cell_type": "code",
   "execution_count": 23,
   "metadata": {},
   "outputs": [
    {
     "data": {
      "text/html": [
       "<table class=\"simpletable\">\n",
       "<caption>OLS Regression Results</caption>\n",
       "<tr>\n",
       "  <th>Dep. Variable:</th>         <td>Weight</td>      <th>  R-squared:         </th> <td>   0.877</td>\n",
       "</tr>\n",
       "<tr>\n",
       "  <th>Model:</th>                   <td>OLS</td>       <th>  Adj. R-squared:    </th> <td>   0.871</td>\n",
       "</tr>\n",
       "<tr>\n",
       "  <th>Method:</th>             <td>Least Squares</td>  <th>  F-statistic:       </th> <td>   153.4</td>\n",
       "</tr>\n",
       "<tr>\n",
       "  <th>Date:</th>             <td>Mon, 01 Mar 2021</td> <th>  Prob (F-statistic):</th> <td>2.63e-65</td>\n",
       "</tr>\n",
       "<tr>\n",
       "  <th>Time:</th>                 <td>16:54:05</td>     <th>  Log-Likelihood:    </th> <td> -993.69</td>\n",
       "</tr>\n",
       "<tr>\n",
       "  <th>No. Observations:</th>      <td>   159</td>      <th>  AIC:               </th> <td>   2003.</td>\n",
       "</tr>\n",
       "<tr>\n",
       "  <th>Df Residuals:</th>          <td>   151</td>      <th>  BIC:               </th> <td>   2028.</td>\n",
       "</tr>\n",
       "<tr>\n",
       "  <th>Df Model:</th>              <td>     7</td>      <th>                     </th>     <td> </td>   \n",
       "</tr>\n",
       "<tr>\n",
       "  <th>Covariance Type:</th>      <td>nonrobust</td>    <th>                     </th>     <td> </td>   \n",
       "</tr>\n",
       "</table>\n",
       "<table class=\"simpletable\">\n",
       "<tr>\n",
       "          <td></td>             <th>coef</th>     <th>std err</th>      <th>t</th>      <th>P>|t|</th>  <th>[0.025</th>    <th>0.975]</th>  \n",
       "</tr>\n",
       "<tr>\n",
       "  <th>Intercept</th>         <td>-1210.6025</td> <td>   76.623</td> <td>  -15.799</td> <td> 0.000</td> <td>-1361.994</td> <td>-1059.211</td>\n",
       "</tr>\n",
       "<tr>\n",
       "  <th>Height</th>            <td>  120.4245</td> <td>    4.839</td> <td>   24.885</td> <td> 0.000</td> <td>  110.863</td> <td>  129.986</td>\n",
       "</tr>\n",
       "<tr>\n",
       "  <th>Species_Parkki</th>    <td>  286.1246</td> <td>   53.678</td> <td>    5.330</td> <td> 0.000</td> <td>  180.068</td> <td>  392.181</td>\n",
       "</tr>\n",
       "<tr>\n",
       "  <th>Species_Perch</th>     <td>  646.0798</td> <td>   44.975</td> <td>   14.365</td> <td> 0.000</td> <td>  557.218</td> <td>  734.942</td>\n",
       "</tr>\n",
       "<tr>\n",
       "  <th>Species_Pike</th>      <td> 1000.3812</td> <td>   52.453</td> <td>   19.072</td> <td> 0.000</td> <td>  896.745</td> <td> 1104.017</td>\n",
       "</tr>\n",
       "<tr>\n",
       "  <th>Species_Roach</th>     <td>  556.4349</td> <td>   54.646</td> <td>   10.182</td> <td> 0.000</td> <td>  448.465</td> <td>  664.405</td>\n",
       "</tr>\n",
       "<tr>\n",
       "  <th>Species_Smelt</th>     <td>  955.7185</td> <td>   74.799</td> <td>   12.777</td> <td> 0.000</td> <td>  807.930</td> <td> 1103.507</td>\n",
       "</tr>\n",
       "<tr>\n",
       "  <th>Species_Whitefish</th> <td>  534.0857</td> <td>   62.048</td> <td>    8.608</td> <td> 0.000</td> <td>  411.492</td> <td>  656.680</td>\n",
       "</tr>\n",
       "</table>\n",
       "<table class=\"simpletable\">\n",
       "<tr>\n",
       "  <th>Omnibus:</th>       <td>92.357</td> <th>  Durbin-Watson:     </th> <td>   0.672</td> \n",
       "</tr>\n",
       "<tr>\n",
       "  <th>Prob(Omnibus):</th> <td> 0.000</td> <th>  Jarque-Bera (JB):  </th> <td> 611.976</td> \n",
       "</tr>\n",
       "<tr>\n",
       "  <th>Skew:</th>          <td> 2.043</td> <th>  Prob(JB):          </th> <td>1.29e-133</td>\n",
       "</tr>\n",
       "<tr>\n",
       "  <th>Kurtosis:</th>      <td>11.699</td> <th>  Cond. No.          </th> <td>    135.</td> \n",
       "</tr>\n",
       "</table><br/><br/>Warnings:<br/>[1] Standard Errors assume that the covariance matrix of the errors is correctly specified."
      ],
      "text/plain": [
       "<class 'statsmodels.iolib.summary.Summary'>\n",
       "\"\"\"\n",
       "                            OLS Regression Results                            \n",
       "==============================================================================\n",
       "Dep. Variable:                 Weight   R-squared:                       0.877\n",
       "Model:                            OLS   Adj. R-squared:                  0.871\n",
       "Method:                 Least Squares   F-statistic:                     153.4\n",
       "Date:                Mon, 01 Mar 2021   Prob (F-statistic):           2.63e-65\n",
       "Time:                        16:54:05   Log-Likelihood:                -993.69\n",
       "No. Observations:                 159   AIC:                             2003.\n",
       "Df Residuals:                     151   BIC:                             2028.\n",
       "Df Model:                           7                                         \n",
       "Covariance Type:            nonrobust                                         \n",
       "=====================================================================================\n",
       "                        coef    std err          t      P>|t|      [0.025      0.975]\n",
       "-------------------------------------------------------------------------------------\n",
       "Intercept         -1210.6025     76.623    -15.799      0.000   -1361.994   -1059.211\n",
       "Height              120.4245      4.839     24.885      0.000     110.863     129.986\n",
       "Species_Parkki      286.1246     53.678      5.330      0.000     180.068     392.181\n",
       "Species_Perch       646.0798     44.975     14.365      0.000     557.218     734.942\n",
       "Species_Pike       1000.3812     52.453     19.072      0.000     896.745    1104.017\n",
       "Species_Roach       556.4349     54.646     10.182      0.000     448.465     664.405\n",
       "Species_Smelt       955.7185     74.799     12.777      0.000     807.930    1103.507\n",
       "Species_Whitefish   534.0857     62.048      8.608      0.000     411.492     656.680\n",
       "==============================================================================\n",
       "Omnibus:                       92.357   Durbin-Watson:                   0.672\n",
       "Prob(Omnibus):                  0.000   Jarque-Bera (JB):              611.976\n",
       "Skew:                           2.043   Prob(JB):                    1.29e-133\n",
       "Kurtosis:                      11.699   Cond. No.                         135.\n",
       "==============================================================================\n",
       "\n",
       "Warnings:\n",
       "[1] Standard Errors assume that the covariance matrix of the errors is correctly specified.\n",
       "\"\"\""
      ]
     },
     "execution_count": 23,
     "metadata": {},
     "output_type": "execute_result"
    }
   ],
   "source": [
    "### STATSMODELS ###\n",
    "\n",
    "# print a summary of the fitted model\n",
    "lm1.summary()"
   ]
  },
  {
   "cell_type": "markdown",
   "metadata": {},
   "source": [
    "### Next I will use the LinearRegression model from sci-kit learn so I can split the data into different train/test splits. Below, I test 5 different models on 5 different training data sets, and find the average RMSE and R-Squared scores of all the models."
   ]
  },
  {
   "cell_type": "code",
   "execution_count": 24,
   "metadata": {},
   "outputs": [
    {
     "name": "stdout",
     "output_type": "stream",
     "text": [
      "Random State: 1\n",
      "RMSE:  128.3623900602724\n",
      "R2_Score:  0.9323217304148141\n",
      "Random State: 10\n",
      "RMSE:  120.53304810724106\n",
      "R2_Score:  0.8574965672208006\n",
      "Random State: 60\n",
      "RMSE:  144.18955115635472\n",
      "R2_Score:  0.9259919362245833\n",
      "Random State: 190\n",
      "RMSE:  123.96837195971668\n",
      "R2_Score:  0.9445850265741014\n",
      "Random State: 310\n",
      "RMSE:  93.61335148779042\n",
      "R2_Score:  0.9526301498711286\n",
      "\n",
      "\u001b[1mAverage RMSE: \u001b[0m 122.13334255427506\n",
      "\u001b[1mAverage R2_Score: \u001b[0m 0.9226050820610856\n"
     ]
    }
   ],
   "source": [
    "X = df[['Height', 'Species_Parkki','Species_Perch', 'Species_Pike', 'Species_Roach', 'Species_Smelt', 'Species_Whitefish']]\n",
    "y = df['Weight']\n",
    "\n",
    "RMSE_list = []\n",
    "R2_Score_list = []\n",
    "for r in [1, 10, 60, 190, 310]:\n",
    "    # Split data\n",
    "    X_train, X_test, y_train, y_test = train_test_split(X, y, random_state=r)\n",
    "\n",
    "\n",
    "    # Instantiate model\n",
    "    lm1sk = LinearRegression()\n",
    "\n",
    "    ## Fit Model\n",
    "    lm1sk.fit(X_train, y_train)\n",
    "\n",
    "    ## Predict\n",
    "    y_pred = lm1sk.predict(X_test)\n",
    "    \n",
    "    ## Print r\n",
    "    print(\"Random State: \" + str(r))\n",
    "\n",
    "    # RMSE\n",
    "    RMSE = np.sqrt(metrics.mean_squared_error(y_test, y_pred))\n",
    "    print(\"RMSE: \", RMSE)\n",
    "    RMSE_list.append(RMSE)\n",
    "\n",
    "    # R-Squared\n",
    "    R2_Score = np.sqrt(metrics.r2_score(y_test, y_pred))\n",
    "    print(\"R2_Score: \", R2_Score)\n",
    "    R2_Score_list.append(R2_Score)\n",
    "\n",
    "print(\"\")\n",
    "print(\"\\033[1mAverage RMSE: \\033[0m\", mean(RMSE_list))\n",
    "print(\"\\033[1mAverage R2_Score: \\033[0m\", mean(R2_Score_list))"
   ]
  },
  {
   "cell_type": "markdown",
   "metadata": {},
   "source": [
    "### Lastly, I plot the residuals to check to see if they are normally distributed and have constant variance."
   ]
  },
  {
   "cell_type": "code",
   "execution_count": 25,
   "metadata": {},
   "outputs": [],
   "source": [
    "residuals = y_pred - y_test"
   ]
  },
  {
   "cell_type": "code",
   "execution_count": 26,
   "metadata": {},
   "outputs": [
    {
     "data": {
      "image/png": "[encoded data removed]",
      "text/plain": [
       "<Figure size 432x288 with 1 Axes>"
      ]
     },
     "metadata": {
      "needs_background": "light"
     },
     "output_type": "display_data"
    }
   ],
   "source": [
    "sns.histplot(residuals).set_title('Residuals Distribution');"
   ]
  },
  {
   "cell_type": "code",
   "execution_count": 27,
   "metadata": {},
   "outputs": [
    {
     "data": {
      "text/plain": [
       "[<matplotlib.lines.Line2D at 0x1a1a76e990>]"
      ]
     },
     "execution_count": 27,
     "metadata": {},
     "output_type": "execute_result"
    },
    {
     "data": {
      "image/png": "[encoded data removed]",
      "text/plain": [
       "<Figure size 432x288 with 1 Axes>"
      ]
     },
     "metadata": {
      "needs_background": "light"
     },
     "output_type": "display_data"
    }
   ],
   "source": [
    "plt.scatter(y_test, residuals)\n",
    "plt.plot([0, max(y_test)],[0,0],'r--', lw=2)"
   ]
  },
  {
   "cell_type": "markdown",
   "metadata": {},
   "source": [
    "### We see that the residuals/errors have a distribution that is close to the normal distribution, and that the variance of the errors is fairly constant "
   ]
  },
  {
   "cell_type": "code",
   "execution_count": null,
   "metadata": {},
   "outputs": [],
   "source": []
  }
 ],
 "metadata": {
  "kernelspec": {
   "display_name": "Python 3",
   "language": "python",
   "name": "python3"
  },
  "language_info": {
   "codemirror_mode": {
    "name": "ipython",
    "version": 3
   },
   "file_extension": ".py",
   "mimetype": "text/x-python",
   "name": "python",
   "nbconvert_exporter": "python",
   "pygments_lexer": "ipython3",
   "version": "3.7.6"
  }
 },
 "nbformat": 4,
 "nbformat_minor": 4
}
